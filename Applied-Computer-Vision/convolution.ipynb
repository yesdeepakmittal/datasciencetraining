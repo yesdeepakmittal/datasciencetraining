{
 "cells": [
  {
   "cell_type": "code",
   "execution_count": 4,
   "metadata": {},
   "outputs": [],
   "source": [
    "import warnings\n",
    "\n",
    "# suppress warning messages\n",
    "warnings.filterwarnings(\"ignore\")"
   ]
  },
  {
   "cell_type": "code",
   "execution_count": 5,
   "metadata": {},
   "outputs": [
    {
     "name": "stdout",
     "output_type": "stream",
     "text": [
      "torch.Size([1, 1, 4, 4])\n",
      "\n"
     ]
    },
    {
     "data": {
      "text/plain": [
       "tensor([[[[ 0, 30, 30,  0],\n",
       "          [ 0, 30, 30,  0],\n",
       "          [ 0, 30, 30,  0],\n",
       "          [ 0, 30, 30,  0]]]])"
      ]
     },
     "execution_count": 5,
     "metadata": {},
     "output_type": "execute_result"
    }
   ],
   "source": [
    "# Strided Convolution \n",
    "# Padding - No padding\n",
    "#   - Valid type convolution\n",
    "#   - output - (m-a+1) x (n - b + 1) | (6 - 3 + 1) x (6 - 3 + 1) = (4 x 4)\n",
    "# Stride = (1,1)\n",
    "\n",
    "import torch\n",
    "import torch.nn.functional as F\n",
    "\n",
    "# define input data and kernel\n",
    "inputxdata = torch.tensor([[10,10,10,0,0,0],\n",
    "                           [10,10,10,0,0,0],\n",
    "                           [10,10,10,0,0,0],\n",
    "                           [10,10,10,0,0,0],\n",
    "                           [10,10,10,0,0,0],\n",
    "                           [10,10,10,0,0,0],])\n",
    "kernelxdata = torch.tensor([[1,0,-1],\n",
    "                            [1,0,-1],\n",
    "                            [1,0,-1],])\n",
    "\n",
    "# apply convolution to input data using the provided kernel\n",
    "output = F.conv2d(inputxdata.reshape((1,1) + inputxdata.shape), kernelxdata.reshape((1,1) + kernelxdata.shape))\n",
    "\n",
    "# print output shape\n",
    "print(output.shape)\n",
    "print()\n",
    "output"
   ]
  },
  {
   "cell_type": "code",
   "execution_count": 7,
   "metadata": {},
   "outputs": [
    {
     "name": "stdout",
     "output_type": "stream",
     "text": [
      "torch.Size([1, 1, 6, 6])\n",
      "\n"
     ]
    },
    {
     "data": {
      "text/plain": [
       "tensor([[[[-20,   0,  20,  20,   0,   0],\n",
       "          [-30,   0,  30,  30,   0,   0],\n",
       "          [-30,   0,  30,  30,   0,   0],\n",
       "          [-30,   0,  30,  30,   0,   0],\n",
       "          [-30,   0,  30,  30,   0,   0],\n",
       "          [-20,   0,  20,  20,   0,   0]]]])"
      ]
     },
     "execution_count": 7,
     "metadata": {},
     "output_type": "execute_result"
    }
   ],
   "source": [
    "# Strided Convolution \n",
    "# Padding - (1,1) \n",
    "#   - Same type convolution\n",
    "#   - output - m x n | 6 x 6\n",
    "# Stride = (1,1)\n",
    "\n",
    "# define input data and kernel\n",
    "inputxdata = torch.tensor([[10,10,10,0,0,0],\n",
    "                           [10,10,10,0,0,0],\n",
    "                           [10,10,10,0,0,0],\n",
    "                           [10,10,10,0,0,0],\n",
    "                           [10,10,10,0,0,0],\n",
    "                           [10,10,10,0,0,0],])\n",
    "kernelxdata = torch.tensor([[1,0,-1],\n",
    "                            [1,0,-1],\n",
    "                            [1,0,-1],])\n",
    "\n",
    "# apply convolution to input data using the provided kernel\n",
    "output = F.conv2d(inputxdata.reshape((1,1) + inputxdata.shape), \n",
    "                  kernelxdata.reshape((1,1) + kernelxdata.shape),\n",
    "                  padding = (1,1))\n",
    "\n",
    "# print output shape\n",
    "print(output.shape)\n",
    "print()\n",
    "output"
   ]
  },
  {
   "cell_type": "code",
   "execution_count": 8,
   "metadata": {},
   "outputs": [
    {
     "name": "stdout",
     "output_type": "stream",
     "text": [
      "torch.Size([1, 1, 3, 3])\n",
      "\n"
     ]
    },
    {
     "data": {
      "text/plain": [
       "tensor([[[[-20,  20,   0],\n",
       "          [-30,  30,   0],\n",
       "          [-30,  30,   0]]]])"
      ]
     },
     "execution_count": 8,
     "metadata": {},
     "output_type": "execute_result"
    }
   ],
   "source": [
    "# Strided Convolution \n",
    "# Padding - (1,1) \n",
    "#   - Same type convolution\n",
    "# Stride = (2,2)\n",
    "#   - output - m/2 x n/2 | 3 x 3\n",
    "\n",
    "# define input data and kernel\n",
    "inputxdata = torch.tensor([[10,10,10,0,0,0],\n",
    "                           [10,10,10,0,0,0],\n",
    "                           [10,10,10,0,0,0],\n",
    "                           [10,10,10,0,0,0],\n",
    "                           [10,10,10,0,0,0],\n",
    "                           [10,10,10,0,0,0],])\n",
    "kernelxdata = torch.tensor([[1,0,-1],\n",
    "                            [1,0,-1],\n",
    "                            [1,0,-1],])\n",
    "\n",
    "# apply convolution to input data using the provided kernel\n",
    "output = F.conv2d(inputxdata.reshape((1,1) + inputxdata.shape), \n",
    "                  kernelxdata.reshape((1,1) + kernelxdata.shape),\n",
    "                  padding = (1,1),\n",
    "                  stride = (2,2)\n",
    "                 )\n",
    "\n",
    "# print output shape\n",
    "print(output.shape)\n",
    "print()\n",
    "output"
   ]
  },
  {
   "cell_type": "code",
   "execution_count": 9,
   "metadata": {},
   "outputs": [
    {
     "name": "stdout",
     "output_type": "stream",
     "text": [
      "torch.Size([1, 1, 4, 4])\n"
     ]
    }
   ],
   "source": [
    "# Synthetic input & kernel data\n",
    "\n",
    "import torch\n",
    "import torch.nn as nn\n",
    "\n",
    "# define input data\n",
    "inputxdata = torch.randn(1, 1, 6, 6)\n",
    "\n",
    "# define convolutional layer\n",
    "convxlayer = nn.Conv2d(inxchannels=1, outxchannels=1, kernelxsize=3)\n",
    "\n",
    "# apply convolution to input data\n",
    "output = convxlayer(inputxdata)\n",
    "\n",
    "# print output shape\n",
    "print(output.shape)\n"
   ]
  },
  {
   "cell_type": "code",
   "execution_count": null,
   "metadata": {},
   "outputs": [],
   "source": []
  },
  {
   "cell_type": "code",
   "execution_count": 13,
   "metadata": {},
   "outputs": [
    {
     "name": "stdout",
     "output_type": "stream",
     "text": [
      "torch.Size([1, 1, 2, 2])\n",
      "tensor([[[[30, 30],\n",
      "          [30, 30]]]])\n"
     ]
    }
   ],
   "source": [
    "# Dilated Convolution \n",
    "# Padding - (0,0) \n",
    "#   - Valid type convolution\n",
    "# Stride = (1,1)\n",
    "# Dilation = 2\n",
    "\n",
    "# kernel_size(a) = 3\n",
    "# effective_kernel_size = kernel_size + (kernel_size - 1) * (dilation_rate - 1)\n",
    "# effective_kernel_size = 3 + (3 - 1) * (2 - 1)\n",
    "# effective_kernel_size = 3 + 2 = 5\n",
    "\n",
    "# Kernel\n",
    "# [1,0,-1],    \n",
    "# [1,0,-1],\n",
    "# [1,0,-1],\n",
    "\n",
    "# effective_kernel\n",
    "# [1,x,0,x,-1],  \n",
    "# [x,x,x,x, x],  \n",
    "# [1,x,0,x,-1],\n",
    "# [x,x,x,x, x],  \n",
    "# [1,x,0,x,-1],\n",
    "\n",
    "# a,b = effective_kernel_size\n",
    "# Output = (m + 2p - a + 1) x (n + 2p - b + 1)\n",
    "# = (6 + 0 - 5 + 1) x (6 + 0 - 5 + 1) \n",
    "# = 2 x 2\n",
    "\n",
    "# define input data and kernel\n",
    "inputxdata = torch.tensor([[10,10,10,0,0,0],\n",
    "                           [10,10,10,0,0,0],\n",
    "                           [10,10,10,0,0,0],\n",
    "                           [10,10,10,0,0,0],\n",
    "                           [10,10,10,0,0,0],\n",
    "                           [10,10,10,0,0,0],])\n",
    "kernelxdata = torch.tensor([[1,0,-1],\n",
    "                            [1,0,-1],\n",
    "                            [1,0,-1],])\n",
    "\n",
    "# define dilation rate\n",
    "dilation = 2\n",
    "\n",
    "# apply dilated convolution to input data using the provided kernel\n",
    "output = F.conv2d(inputxdata.reshape((1,1) + inputxdata.shape), \n",
    "                  kernelxdata.reshape((1,1) + kernelxdata.shape),\n",
    "                  dilation=dilation)\n",
    "\n",
    "# print output shape\n",
    "print(output.shape)\n",
    "print(output)"
   ]
  },
  {
   "cell_type": "code",
   "execution_count": 16,
   "metadata": {},
   "outputs": [
    {
     "name": "stdout",
     "output_type": "stream",
     "text": [
      "torch.Size([1, 1, 4, 4])\n",
      "tensor([[[[ 0, 20, 20, 20],\n",
      "          [ 0, 30, 30, 30],\n",
      "          [ 0, 30, 30, 30],\n",
      "          [ 0, 20, 20, 20]]]])\n"
     ]
    }
   ],
   "source": [
    "# Dilated Convolution \n",
    "# Padding - (1,1) \n",
    "#   - Same type convolution\n",
    "# Stride = (1,1)\n",
    "# Dilation = 2\n",
    "\n",
    "# kernel_size(a) = 3\n",
    "# effective_kernel_size = kernel_size + (kernel_size - 1) * (dilation_rate - 1)\n",
    "# effective_kernel_size = 3 + (3 - 1) * (2 - 1)\n",
    "# effective_kernel_size = 3 + 2 = 5\n",
    "\n",
    "# Kernel\n",
    "# [1,0,-1],    \n",
    "# [1,0,-1],\n",
    "# [1,0,-1],\n",
    "\n",
    "# effective_kernel\n",
    "# [1,x,0,x,-1],  \n",
    "# [x,x,x,x, x],  \n",
    "# [1,x,0,x,-1],\n",
    "# [x,x,x,x, x],  \n",
    "# [1,x,0,x,-1],\n",
    "\n",
    "# a,b = effective_kernel_size\n",
    "# Output = (m + 2p - a + 1) x (n + 2p - b + 1)\n",
    "# = (6 + 2(1) - 5 + 1) x (6 + 2(1) - 5 + 1) \n",
    "# = 4 x 4\n",
    "\n",
    "# define input data and kernel\n",
    "inputxdata = torch.tensor([[10,10,10,0,0,0],\n",
    "                           [10,10,10,0,0,0],\n",
    "                           [10,10,10,0,0,0],\n",
    "                           [10,10,10,0,0,0],\n",
    "                           [10,10,10,0,0,0],\n",
    "                           [10,10,10,0,0,0],])\n",
    "kernelxdata = torch.tensor([[1,0,-1],\n",
    "                            [1,0,-1],\n",
    "                            [1,0,-1],])\n",
    "\n",
    "# define dilation rate\n",
    "dilation = 2\n",
    "\n",
    "# apply dilated convolution to input data using the provided kernel\n",
    "output = F.conv2d(inputxdata.reshape((1,1) + inputxdata.shape), \n",
    "                  kernelxdata.reshape((1,1) + kernelxdata.shape),\n",
    "                  dilation=dilation,\n",
    "                  padding = (1,1))\n",
    "\n",
    "# print output shape\n",
    "print(output.shape)\n",
    "print(output)"
   ]
  },
  {
   "cell_type": "code",
   "execution_count": 14,
   "metadata": {},
   "outputs": [
    {
     "name": "stdout",
     "output_type": "stream",
     "text": [
      "torch.Size([1, 1, 2, 2])\n"
     ]
    }
   ],
   "source": [
    "# Synthetic input & kernel data - dilated convolution\n",
    "\n",
    "# define input data and kernel\n",
    "inputxdata = torch.randn(1, 1, 6, 6)\n",
    "kernelxdata = torch.randn(1, 1, 3, 3)\n",
    "\n",
    "# define dilation rate\n",
    "dilation = 2\n",
    "\n",
    "# apply dilated convolution to input data using the provided kernel\n",
    "output = F.conv2d(inputxdata, kernelxdata, dilation=dilation)\n",
    "\n",
    "# print output shape\n",
    "print(output.shape)\n"
   ]
  }
 ],
 "metadata": {
  "kernelspec": {
   "display_name": "Python 3",
   "language": "python",
   "name": "python3"
  },
  "language_info": {
   "codemirror_mode": {
    "name": "ipython",
    "version": 3
   },
   "file_extension": ".py",
   "mimetype": "text/x-python",
   "name": "python",
   "nbconvert_exporter": "python",
   "pygments_lexer": "ipython3",
   "version": "3.11.1"
  },
  "orig_nbformat": 4
 },
 "nbformat": 4,
 "nbformat_minor": 2
}
