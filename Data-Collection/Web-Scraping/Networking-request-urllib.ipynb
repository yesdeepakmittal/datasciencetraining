{
  "nbformat": 4,
  "nbformat_minor": 0,
  "metadata": {
    "colab": {
      "provenance": [],
      "collapsed_sections": [],
      "authorship_tag": "ABX9TyM9+/NWtIBiBxoorsvsqgpd",
      "include_colab_link": true
    },
    "kernelspec": {
      "name": "python3",
      "display_name": "Python 3"
    },
    "language_info": {
      "name": "python"
    }
  },
  "cells": [
    {
      "cell_type": "markdown",
      "metadata": {
        "id": "view-in-github",
        "colab_type": "text"
      },
      "source": [
        "<a href=\"https://colab.research.google.com/github/yesdeepakmittal/pytraining/blob/master/Advanced/Web-Scraping/Networking-request-urllib.ipynb\" target=\"_parent\"><img src=\"https://colab.research.google.com/assets/colab-badge.svg\" alt=\"Open In Colab\"/></a>"
      ]
    },
    {
      "cell_type": "code",
      "source": [],
      "metadata": {
        "id": "kE1FD3dH0NyN"
      },
      "execution_count": null,
      "outputs": []
    },
    {
      "cell_type": "code",
      "source": [
        "import urllib.error\n",
        "import urllib.request as req\n",
        "\n",
        "link = 'https://en.wikipedia.org/wiki/States_and_union_territories_of_India'\n",
        "try:\n",
        "    response = req.urlopen(link) \n",
        "    print(response)\n",
        "    print(response.read()[:100])\n",
        "\n",
        "except urllib.error.URLError as e:\n",
        "    print('Error aa gyi->', e)"
      ],
      "metadata": {
        "id": "sKQCfyL5YWW4",
        "colab": {
          "base_uri": "https://localhost:8080/"
        },
        "outputId": "647b3903-68f3-460e-c236-a72ae6b02c18"
      },
      "execution_count": 1,
      "outputs": [
        {
          "output_type": "stream",
          "name": "stdout",
          "text": [
            "<http.client.HTTPResponse object at 0x7efd540fe150>\n",
            "b'<!DOCTYPE html>\\n<html class=\"client-nojs\" lang=\"en\" dir=\"ltr\">\\n<head>\\n<meta charset=\"UTF-8\"/>\\n<title'\n"
          ]
        }
      ]
    },
    {
      "cell_type": "code",
      "source": [],
      "metadata": {
        "id": "1e20mWZQzOyW"
      },
      "execution_count": 1,
      "outputs": []
    },
    {
      "cell_type": "code",
      "source": [
        "import requests\n",
        "\n",
        "response = requests.get(link)\n",
        "print(response)\n",
        "\n",
        "content = response.content\n",
        "print(content[:100])"
      ],
      "metadata": {
        "id": "_Ms7IHtBLVdy",
        "colab": {
          "base_uri": "https://localhost:8080/"
        },
        "outputId": "a9cfb43f-b2bd-49c6-d1e4-7357afe98e92"
      },
      "execution_count": 2,
      "outputs": [
        {
          "output_type": "stream",
          "name": "stdout",
          "text": [
            "<Response [200]>\n",
            "b'<!DOCTYPE html>\\n<html class=\"client-nojs\" lang=\"en\" dir=\"ltr\">\\n<head>\\n<meta charset=\"UTF-8\"/>\\n<title'\n"
          ]
        }
      ]
    },
    {
      "cell_type": "code",
      "source": [],
      "metadata": {
        "id": "FNdSVGqMLj0R"
      },
      "execution_count": 2,
      "outputs": []
    },
    {
      "cell_type": "code",
      "source": [
        "# Downloading a txt file from the website\n",
        "link2 = 'http://data.pr4e.org/romeo.txt'\n",
        "\n",
        "from urllib.request import urlretrieve\n",
        "\n",
        "file_save_as = 'romeo.txt'\n",
        "urlretrieve(link2,file_save_as)"
      ],
      "metadata": {
        "colab": {
          "base_uri": "https://localhost:8080/"
        },
        "id": "Om4hF_ASMj27",
        "outputId": "519618b3-fac2-4ee0-ca49-f7f1da1256bb"
      },
      "execution_count": 3,
      "outputs": [
        {
          "output_type": "execute_result",
          "data": {
            "text/plain": [
              "('romeo.txt', <http.client.HTTPMessage at 0x7efd4dbcb350>)"
            ]
          },
          "metadata": {},
          "execution_count": 3
        }
      ]
    },
    {
      "cell_type": "code",
      "source": [
        "!dir"
      ],
      "metadata": {
        "colab": {
          "base_uri": "https://localhost:8080/"
        },
        "id": "bpovYTiVMmmI",
        "outputId": "1baeed79-9c53-4ed3-e5a9-acd2739d2bcc"
      },
      "execution_count": 4,
      "outputs": [
        {
          "output_type": "stream",
          "name": "stdout",
          "text": [
            "romeo.txt  sample_data\n"
          ]
        }
      ]
    },
    {
      "cell_type": "code",
      "source": [
        "!cat romeo.txt"
      ],
      "metadata": {
        "colab": {
          "base_uri": "https://localhost:8080/"
        },
        "id": "TYwNEz9eNBix",
        "outputId": "06554acb-a381-4424-bc07-d5cece417dfb"
      },
      "execution_count": 5,
      "outputs": [
        {
          "output_type": "stream",
          "name": "stdout",
          "text": [
            "But soft what light through yonder window breaks\n",
            "It is the east and Juliet is the sun\n",
            "Arise fair sun and kill the envious moon\n",
            "Who is already sick and pale with grief\n"
          ]
        }
      ]
    },
    {
      "cell_type": "code",
      "source": [
        "!wget http://data.pr4e.org/romeo.txt "
      ],
      "metadata": {
        "colab": {
          "base_uri": "https://localhost:8080/"
        },
        "id": "Konn0f7KNJhk",
        "outputId": "596a1bf9-ce92-407c-eec9-3fc0ebf9e9bb"
      },
      "execution_count": 6,
      "outputs": [
        {
          "output_type": "stream",
          "name": "stdout",
          "text": [
            "--2022-10-08 05:03:07--  http://data.pr4e.org/romeo.txt\n",
            "Resolving data.pr4e.org (data.pr4e.org)... 192.241.136.170\n",
            "Connecting to data.pr4e.org (data.pr4e.org)|192.241.136.170|:80... connected.\n",
            "HTTP request sent, awaiting response... 200 OK\n",
            "Length: 167 [text/plain]\n",
            "Saving to: ‘romeo.txt.1’\n",
            "\n",
            "\rromeo.txt.1           0%[                    ]       0  --.-KB/s               \rromeo.txt.1         100%[===================>]     167  --.-KB/s    in 0s      \n",
            "\n",
            "2022-10-08 05:03:07 (28.6 MB/s) - ‘romeo.txt.1’ saved [167/167]\n",
            "\n"
          ]
        }
      ]
    },
    {
      "cell_type": "code",
      "source": [
        "!dir"
      ],
      "metadata": {
        "colab": {
          "base_uri": "https://localhost:8080/"
        },
        "id": "p4FHwiOkNU-O",
        "outputId": "7330c944-e96f-4e8a-9d49-700d546abaa7"
      },
      "execution_count": 7,
      "outputs": [
        {
          "output_type": "stream",
          "name": "stdout",
          "text": [
            "romeo.txt  romeo.txt.1\tsample_data\n"
          ]
        }
      ]
    },
    {
      "cell_type": "code",
      "source": [
        "!cat romeo.txt.1"
      ],
      "metadata": {
        "colab": {
          "base_uri": "https://localhost:8080/"
        },
        "id": "tJQyNFZdNsEc",
        "outputId": "68b1027e-7088-40d0-c1fa-e0b7988be251"
      },
      "execution_count": 8,
      "outputs": [
        {
          "output_type": "stream",
          "name": "stdout",
          "text": [
            "But soft what light through yonder window breaks\n",
            "It is the east and Juliet is the sun\n",
            "Arise fair sun and kill the envious moon\n",
            "Who is already sick and pale with grief\n"
          ]
        }
      ]
    },
    {
      "cell_type": "code",
      "source": [
        "# Retrieving data and printing it\n",
        "\n",
        "import urllib.request\n",
        "\n",
        "res = urllib.request.urlopen(link2)\n",
        "\n",
        "d = {}\n",
        "\n",
        "for line in res:\n",
        "    ws = line.decode().split()\n",
        "    for w in ws:\n",
        "        d[w] = d.get(w,0) + 1\n",
        "d"
      ],
      "metadata": {
        "colab": {
          "base_uri": "https://localhost:8080/"
        },
        "id": "uz3rz992b1wQ",
        "outputId": "44df54fc-827c-4825-b352-e648c5d29345"
      },
      "execution_count": 9,
      "outputs": [
        {
          "output_type": "execute_result",
          "data": {
            "text/plain": [
              "{'But': 1,\n",
              " 'soft': 1,\n",
              " 'what': 1,\n",
              " 'light': 1,\n",
              " 'through': 1,\n",
              " 'yonder': 1,\n",
              " 'window': 1,\n",
              " 'breaks': 1,\n",
              " 'It': 1,\n",
              " 'is': 3,\n",
              " 'the': 3,\n",
              " 'east': 1,\n",
              " 'and': 3,\n",
              " 'Juliet': 1,\n",
              " 'sun': 2,\n",
              " 'Arise': 1,\n",
              " 'fair': 1,\n",
              " 'kill': 1,\n",
              " 'envious': 1,\n",
              " 'moon': 1,\n",
              " 'Who': 1,\n",
              " 'already': 1,\n",
              " 'sick': 1,\n",
              " 'pale': 1,\n",
              " 'with': 1,\n",
              " 'grief': 1}"
            ]
          },
          "metadata": {},
          "execution_count": 9
        }
      ]
    },
    {
      "cell_type": "code",
      "source": [
        "res_ = urllib.request.urlopen(link)\n",
        "\n",
        "print(\"Status Code:-\",res_.getcode())\n",
        "print('-'*100)\n",
        "\n",
        "for i in res_.getheaders():\n",
        "    print(i)\n",
        "\n",
        "print('-'*100)\n",
        "print(res_.geturl())"
      ],
      "metadata": {
        "colab": {
          "base_uri": "https://localhost:8080/"
        },
        "id": "YYtiUZm1t99k",
        "outputId": "eec37e8c-3dcb-4b5e-ea02-48792146d14a"
      },
      "execution_count": 10,
      "outputs": [
        {
          "output_type": "stream",
          "name": "stdout",
          "text": [
            "Status Code:- 200\n",
            "----------------------------------------------------------------------------------------------------\n",
            "('date', 'Fri, 07 Oct 2022 06:37:31 GMT')\n",
            "('vary', 'Accept-Encoding,Cookie,Authorization')\n",
            "('server', 'ATS/9.1.3')\n",
            "('x-content-type-options', 'nosniff')\n",
            "('content-language', 'en')\n",
            "('last-modified', 'Thu, 06 Oct 2022 04:15:44 GMT')\n",
            "('content-type', 'text/html; charset=UTF-8')\n",
            "('age', '80765')\n",
            "('x-cache', 'cp2037 hit, cp2031 hit/17')\n",
            "('x-cache-status', 'hit-front')\n",
            "('server-timing', 'cache;desc=\"hit-front\", host;desc=\"cp2031\"')\n",
            "('strict-transport-security', 'max-age=106384710; includeSubDomains; preload')\n",
            "('report-to', '{ \"group\": \"wm_nel\", \"max_age\": 86400, \"endpoints\": [{ \"url\": \"https://intake-logging.wikimedia.org/v1/events?stream=w3c.reportingapi.network_error&schema_uri=/w3c/reportingapi/network_error/1.0.0\" }] }')\n",
            "('nel', '{ \"report_to\": \"wm_nel\", \"max_age\": 86400, \"failure_fraction\": 0.05, \"success_fraction\": 0.0}')\n",
            "('set-cookie', 'WMF-Last-Access=08-Oct-2022;Path=/;HttpOnly;secure;Expires=Wed, 09 Nov 2022 00:00:00 GMT')\n",
            "('set-cookie', 'WMF-Last-Access-Global=08-Oct-2022;Path=/;Domain=.wikipedia.org;HttpOnly;secure;Expires=Wed, 09 Nov 2022 00:00:00 GMT')\n",
            "('accept-ch', 'Sec-CH-UA-Arch,Sec-CH-UA-Bitness,Sec-CH-UA-Full-Version-List,Sec-CH-UA-Model,Sec-CH-UA-Platform-Version')\n",
            "('permissions-policy', 'interest-cohort=(),ch-ua-arch=(self \"intake-analytics.wikimedia.org\"),ch-ua-bitness=(self \"intake-analytics.wikimedia.org\"),ch-ua-full-version-list=(self \"intake-analytics.wikimedia.org\"),ch-ua-model=(self \"intake-analytics.wikimedia.org\"),ch-ua-platform-version=(self \"intake-analytics.wikimedia.org\")')\n",
            "('x-client-ip', '34.172.151.250')\n",
            "('cache-control', 'private, s-maxage=0, max-age=0, must-revalidate')\n",
            "('set-cookie', 'GeoIP=US:IA:Council_Bluffs:41.26:-95.85:v4; Path=/; secure; Domain=.wikipedia.org')\n",
            "('accept-ranges', 'bytes')\n",
            "('content-length', '293627')\n",
            "('connection', 'close')\n",
            "----------------------------------------------------------------------------------------------------\n",
            "https://en.wikipedia.org/wiki/States_and_union_territories_of_India\n"
          ]
        }
      ]
    },
    {
      "cell_type": "code",
      "source": [
        "#reading txt file using urllib and saving using fileproxy\n",
        "res = urllib.request.urlopen(link2)\n",
        "\n",
        "print(\"Status Code:-\",res.getcode())\n",
        "print('-'*100)\n",
        "\n",
        "for i in res.getheaders():\n",
        "    print(i)\n",
        "\n",
        "print('-'*100)\n",
        "print(res.getheader('Content-Type'))\n",
        "\n",
        "print('-'*100)\n",
        "\n",
        "\n",
        "with open('abc.txt','w') as file_proxy:\n",
        "    print(res.read(),file=file_proxy)"
      ],
      "metadata": {
        "colab": {
          "base_uri": "https://localhost:8080/"
        },
        "id": "L4DKEgVNcuTu",
        "outputId": "0077d3d1-b771-4bcb-8b69-19626f0f5c4d"
      },
      "execution_count": 11,
      "outputs": [
        {
          "output_type": "stream",
          "name": "stdout",
          "text": [
            "Status Code:- 200\n",
            "----------------------------------------------------------------------------------------------------\n",
            "('Date', 'Sat, 08 Oct 2022 05:03:45 GMT')\n",
            "('Server', 'Apache/2.4.18 (Ubuntu)')\n",
            "('Last-Modified', 'Sat, 13 May 2017 11:22:22 GMT')\n",
            "('ETag', '\"a7-54f6609245537\"')\n",
            "('Accept-Ranges', 'bytes')\n",
            "('Content-Length', '167')\n",
            "('Cache-Control', 'max-age=0, no-cache, no-store, must-revalidate')\n",
            "('Pragma', 'no-cache')\n",
            "('Expires', 'Wed, 11 Jan 1984 05:00:00 GMT')\n",
            "('Connection', 'close')\n",
            "('Content-Type', 'text/plain')\n",
            "----------------------------------------------------------------------------------------------------\n",
            "text/plain\n",
            "----------------------------------------------------------------------------------------------------\n"
          ]
        }
      ]
    },
    {
      "cell_type": "code",
      "source": [
        "!dir"
      ],
      "metadata": {
        "colab": {
          "base_uri": "https://localhost:8080/"
        },
        "id": "onrOeaETd9mi",
        "outputId": "6ec02bb8-09ad-47e1-cf74-6fb8de8ffea4"
      },
      "execution_count": 12,
      "outputs": [
        {
          "output_type": "stream",
          "name": "stdout",
          "text": [
            "abc.txt  romeo.txt  romeo.txt.1  sample_data\n"
          ]
        }
      ]
    },
    {
      "cell_type": "code",
      "source": [
        "!cat abc.txt"
      ],
      "metadata": {
        "colab": {
          "base_uri": "https://localhost:8080/"
        },
        "id": "g_sj5YwSeRIy",
        "outputId": "58fcc3ec-3cbf-489e-c16b-bb12b7648169"
      },
      "execution_count": 13,
      "outputs": [
        {
          "output_type": "stream",
          "name": "stdout",
          "text": [
            "b'But soft what light through yonder window breaks\\nIt is the east and Juliet is the sun\\nArise fair sun and kill the envious moon\\nWho is already sick and pale with grief\\n'\n"
          ]
        }
      ]
    },
    {
      "cell_type": "code",
      "source": [
        "with open('abc.txt','r') as fp:\n",
        "    for i in fp:\n",
        "        print(i)"
      ],
      "metadata": {
        "colab": {
          "base_uri": "https://localhost:8080/"
        },
        "id": "SPFIg8aGeT0h",
        "outputId": "183f0b62-6736-4945-aac6-c6320ccd5cf2"
      },
      "execution_count": 14,
      "outputs": [
        {
          "output_type": "stream",
          "name": "stdout",
          "text": [
            "b'But soft what light through yonder window breaks\\nIt is the east and Juliet is the sun\\nArise fair sun and kill the envious moon\\nWho is already sick and pale with grief\\n'\n",
            "\n"
          ]
        }
      ]
    },
    {
      "cell_type": "code",
      "source": [
        "with open('abc.txt','r') as fp:\n",
        "    print(fp.read())"
      ],
      "metadata": {
        "colab": {
          "base_uri": "https://localhost:8080/"
        },
        "id": "dKvm93vbffv3",
        "outputId": "1fc6c0f1-3691-4072-c95a-ac3458c26fe5"
      },
      "execution_count": 15,
      "outputs": [
        {
          "output_type": "stream",
          "name": "stdout",
          "text": [
            "b'But soft what light through yonder window breaks\\nIt is the east and Juliet is the sun\\nArise fair sun and kill the envious moon\\nWho is already sick and pale with grief\\n'\n",
            "\n"
          ]
        }
      ]
    },
    {
      "cell_type": "code",
      "source": [
        "with open('abc.txt','r') as fp:\n",
        "    print(fp.readlines(0))"
      ],
      "metadata": {
        "colab": {
          "base_uri": "https://localhost:8080/"
        },
        "id": "hMIi7meoefWU",
        "outputId": "fe79699b-e4c2-4d4e-a231-c58bcb74199c"
      },
      "execution_count": 16,
      "outputs": [
        {
          "output_type": "stream",
          "name": "stdout",
          "text": [
            "[\"b'But soft what light through yonder window breaks\\\\nIt is the east and Juliet is the sun\\\\nArise fair sun and kill the envious moon\\\\nWho is already sick and pale with grief\\\\n'\\n\"]\n"
          ]
        }
      ]
    },
    {
      "cell_type": "code",
      "source": [
        "import requests\n",
        "content = requests.get(link2).content\n",
        "content"
      ],
      "metadata": {
        "colab": {
          "base_uri": "https://localhost:8080/"
        },
        "id": "A5JfRYJHfs1t",
        "outputId": "dfbe4c8c-826b-45aa-c289-e7068f7e3834"
      },
      "execution_count": 17,
      "outputs": [
        {
          "output_type": "execute_result",
          "data": {
            "text/plain": [
              "b'But soft what light through yonder window breaks\\nIt is the east and Juliet is the sun\\nArise fair sun and kill the envious moon\\nWho is already sick and pale with grief\\n'"
            ]
          },
          "metadata": {},
          "execution_count": 17
        }
      ]
    },
    {
      "cell_type": "code",
      "source": [
        "print(content.decode())"
      ],
      "metadata": {
        "colab": {
          "base_uri": "https://localhost:8080/"
        },
        "id": "zP8ePu63tACF",
        "outputId": "ba34a0d0-3866-463c-ce02-a90eca6bd377"
      },
      "execution_count": 18,
      "outputs": [
        {
          "output_type": "stream",
          "name": "stdout",
          "text": [
            "But soft what light through yonder window breaks\n",
            "It is the east and Juliet is the sun\n",
            "Arise fair sun and kill the envious moon\n",
            "Who is already sick and pale with grief\n",
            "\n"
          ]
        }
      ]
    },
    {
      "cell_type": "code",
      "source": [
        "print(requests.get(link2).text)"
      ],
      "metadata": {
        "colab": {
          "base_uri": "https://localhost:8080/"
        },
        "id": "0iFJcrTDtHFs",
        "outputId": "5caba0f3-35db-483b-c571-7e0b79ee58e1"
      },
      "execution_count": 19,
      "outputs": [
        {
          "output_type": "stream",
          "name": "stdout",
          "text": [
            "But soft what light through yonder window breaks\n",
            "It is the east and Juliet is the sun\n",
            "Arise fair sun and kill the envious moon\n",
            "Who is already sick and pale with grief\n",
            "\n"
          ]
        }
      ]
    },
    {
      "cell_type": "code",
      "source": [
        "response = requests.get(link2)\n",
        "response.url"
      ],
      "metadata": {
        "colab": {
          "base_uri": "https://localhost:8080/",
          "height": 36
        },
        "id": "PRoDazBjEVsZ",
        "outputId": "524ce6e4-0df7-4ab8-e1b9-5e38d6e83929"
      },
      "execution_count": 21,
      "outputs": [
        {
          "output_type": "execute_result",
          "data": {
            "text/plain": [
              "'http://data.pr4e.org/romeo.txt'"
            ],
            "application/vnd.google.colaboratory.intrinsic+json": {
              "type": "string"
            }
          },
          "metadata": {},
          "execution_count": 21
        }
      ]
    },
    {
      "cell_type": "code",
      "source": [
        "response.status_code"
      ],
      "metadata": {
        "colab": {
          "base_uri": "https://localhost:8080/"
        },
        "id": "78026I0eEVo8",
        "outputId": "9d04aafc-25bc-42a4-d871-f48b49cd74a3"
      },
      "execution_count": 22,
      "outputs": [
        {
          "output_type": "execute_result",
          "data": {
            "text/plain": [
              "200"
            ]
          },
          "metadata": {},
          "execution_count": 22
        }
      ]
    },
    {
      "cell_type": "code",
      "source": [
        "response.headers"
      ],
      "metadata": {
        "colab": {
          "base_uri": "https://localhost:8080/"
        },
        "id": "-BUUCcDDEVkv",
        "outputId": "037aeb71-d65c-47a1-c057-1dbfdd8046f1"
      },
      "execution_count": 23,
      "outputs": [
        {
          "output_type": "execute_result",
          "data": {
            "text/plain": [
              "{'Date': 'Sat, 08 Oct 2022 05:04:19 GMT', 'Server': 'Apache/2.4.18 (Ubuntu)', 'Last-Modified': 'Sat, 13 May 2017 11:22:22 GMT', 'ETag': '\"a7-54f6609245537\"', 'Accept-Ranges': 'bytes', 'Content-Length': '167', 'Cache-Control': 'max-age=0, no-cache, no-store, must-revalidate', 'Pragma': 'no-cache', 'Expires': 'Wed, 11 Jan 1984 05:00:00 GMT', 'Keep-Alive': 'timeout=5, max=100', 'Connection': 'Keep-Alive', 'Content-Type': 'text/plain'}"
            ]
          },
          "metadata": {},
          "execution_count": 23
        }
      ]
    },
    {
      "cell_type": "code",
      "source": [
        "response.cookies"
      ],
      "metadata": {
        "colab": {
          "base_uri": "https://localhost:8080/"
        },
        "id": "VcD1f0hREViK",
        "outputId": "67fb5ee1-c879-4664-9db9-5ae762ad98cf"
      },
      "execution_count": 24,
      "outputs": [
        {
          "output_type": "execute_result",
          "data": {
            "text/plain": [
              "<RequestsCookieJar[]>"
            ]
          },
          "metadata": {},
          "execution_count": 24
        }
      ]
    },
    {
      "cell_type": "code",
      "source": [
        "response.history"
      ],
      "metadata": {
        "colab": {
          "base_uri": "https://localhost:8080/"
        },
        "id": "3ZsGptnfEVfv",
        "outputId": "acba8bc0-0e6b-4f2a-9db7-87b2e60cbb24"
      },
      "execution_count": 25,
      "outputs": [
        {
          "output_type": "execute_result",
          "data": {
            "text/plain": [
              "[]"
            ]
          },
          "metadata": {},
          "execution_count": 25
        }
      ]
    },
    {
      "cell_type": "code",
      "source": [
        "print(response.raw)"
      ],
      "metadata": {
        "colab": {
          "base_uri": "https://localhost:8080/"
        },
        "id": "jp2t9CIDE7Ld",
        "outputId": "04e958c3-f802-4cd8-9df1-22b8e9b64bce"
      },
      "execution_count": 26,
      "outputs": [
        {
          "output_type": "stream",
          "name": "stdout",
          "text": [
            "<urllib3.response.HTTPResponse object at 0x7efd4dbb7750>\n"
          ]
        }
      ]
    },
    {
      "cell_type": "code",
      "source": [
        "response.request.headers"
      ],
      "metadata": {
        "colab": {
          "base_uri": "https://localhost:8080/"
        },
        "id": "9OjctpoIE7JA",
        "outputId": "655f58ce-ec06-4e3a-94c0-5831fd6ff535"
      },
      "execution_count": 27,
      "outputs": [
        {
          "output_type": "execute_result",
          "data": {
            "text/plain": [
              "{'User-Agent': 'python-requests/2.23.0', 'Accept-Encoding': 'gzip, deflate', 'Accept': '*/*', 'Connection': 'keep-alive'}"
            ]
          },
          "metadata": {},
          "execution_count": 27
        }
      ]
    },
    {
      "cell_type": "code",
      "source": [
        "response.request.hooks"
      ],
      "metadata": {
        "id": "kl928ehTwyhf",
        "colab": {
          "base_uri": "https://localhost:8080/"
        },
        "outputId": "0d6479a3-92ac-417a-bccd-1b05742af195"
      },
      "execution_count": 28,
      "outputs": [
        {
          "output_type": "execute_result",
          "data": {
            "text/plain": [
              "{'response': []}"
            ]
          },
          "metadata": {},
          "execution_count": 28
        }
      ]
    },
    {
      "cell_type": "code",
      "source": [
        "response.text"
      ],
      "metadata": {
        "colab": {
          "base_uri": "https://localhost:8080/",
          "height": 53
        },
        "id": "fzMQkuVRFVrp",
        "outputId": "1b388ea0-db1b-4324-cbaa-e872b545c241"
      },
      "execution_count": 29,
      "outputs": [
        {
          "output_type": "execute_result",
          "data": {
            "text/plain": [
              "'But soft what light through yonder window breaks\\nIt is the east and Juliet is the sun\\nArise fair sun and kill the envious moon\\nWho is already sick and pale with grief\\n'"
            ],
            "application/vnd.google.colaboratory.intrinsic+json": {
              "type": "string"
            }
          },
          "metadata": {},
          "execution_count": 29
        }
      ]
    },
    {
      "cell_type": "code",
      "source": [
        "response.content"
      ],
      "metadata": {
        "id": "dXIa4wQ3Fa_H",
        "outputId": "eb3624a6-694e-4b76-a849-9ac028d439ef",
        "colab": {
          "base_uri": "https://localhost:8080/"
        }
      },
      "execution_count": 30,
      "outputs": [
        {
          "output_type": "execute_result",
          "data": {
            "text/plain": [
              "b'But soft what light through yonder window breaks\\nIt is the east and Juliet is the sun\\nArise fair sun and kill the envious moon\\nWho is already sick and pale with grief\\n'"
            ]
          },
          "metadata": {},
          "execution_count": 30
        }
      ]
    },
    {
      "cell_type": "code",
      "source": [
        "link3 = 'https://raw.githubusercontent.com/jasonmccreary/json-sample-data/master/sample-data.json'\n",
        "\n",
        "res3 = requests.get(link3).json()\n",
        "res3"
      ],
      "metadata": {
        "colab": {
          "base_uri": "https://localhost:8080/"
        },
        "id": "PF65xiczEMB0",
        "outputId": "2f898f39-b081-46ca-cac1-21c126e32658"
      },
      "execution_count": null,
      "outputs": [
        {
          "output_type": "execute_result",
          "data": {
            "text/plain": [
              "{'object': {'foo': 'bar', 'baz': 'qux'},\n",
              " 'empty_object': {},\n",
              " 'nested_object': {'foo': {'bar': 'baz'}},\n",
              " 'array': ['foo', 'bar', 'baz'],\n",
              " 'empty_array': [],\n",
              " 'nested_array': ['foo', ['bar', 'baz']],\n",
              " 'string': 'String value.',\n",
              " 'empty_string': '',\n",
              " 'number': 134.55,\n",
              " 'empty_number': 0,\n",
              " 'true_value': True,\n",
              " 'false_value': False,\n",
              " 'null_value': None}"
            ]
          },
          "metadata": {},
          "execution_count": 32
        }
      ]
    },
    {
      "cell_type": "code",
      "source": [
        "res3.items()"
      ],
      "metadata": {
        "colab": {
          "base_uri": "https://localhost:8080/"
        },
        "id": "ncj6C5rBEL-g",
        "outputId": "21e96028-afdc-4321-bbfd-8d460559f916"
      },
      "execution_count": null,
      "outputs": [
        {
          "output_type": "execute_result",
          "data": {
            "text/plain": [
              "dict_items([('object', {'foo': 'bar', 'baz': 'qux'}), ('empty_object', {}), ('nested_object', {'foo': {'bar': 'baz'}}), ('array', ['foo', 'bar', 'baz']), ('empty_array', []), ('nested_array', ['foo', ['bar', 'baz']]), ('string', 'String value.'), ('empty_string', ''), ('number', 134.55), ('empty_number', 0), ('true_value', True), ('false_value', False), ('null_value', None)])"
            ]
          },
          "metadata": {},
          "execution_count": 34
        }
      ]
    },
    {
      "cell_type": "code",
      "source": [
        "# Place search api - Foursquare\n",
        "\n",
        "header= {\n",
        "    \"headers\":{\n",
        "        \"Accept\": \"application/json\",\n",
        "        \"Authorization\": \"YOUR FOURSQUARE KEY\"\n",
        "    },\n",
        "\n",
        "    \"url\":\"https://api.foursquare.com/v3/places/search\"\n",
        "}\n",
        "\n",
        "import requests\n",
        "link=header['url']\n",
        "\n",
        "# [Query Parameter]Queries parameters - https://developer.foursquare.com/reference/place-search\n",
        "queries= {'limit':'1',\n",
        "          'll':'28.7041,77.1025',  #Delhi Cordinates\n",
        "          'sort':'RATING',\n",
        "          'categories':'18016',  # find category id - https://developer.foursquare.com/docs/categories\n",
        "          }\n",
        "addedheaders=header['headers']\n",
        "#request made with parameters and headers\n",
        "search_res = requests.get(link, \n",
        "                 params=queries, \n",
        "                 headers=addedheaders) \n",
        "print(search_res.url)"
      ],
      "metadata": {
        "colab": {
          "base_uri": "https://localhost:8080/"
        },
        "id": "4zMR6g8iEL7w",
        "outputId": "e4c0e087-b35f-4f16-eba1-5653937158e2"
      },
      "execution_count": null,
      "outputs": [
        {
          "output_type": "stream",
          "name": "stdout",
          "text": [
            "https://api.foursquare.com/v3/places/search?limit=1&ll=28.7041%2C77.1025&sort=RATING&categories=18016\n"
          ]
        }
      ]
    },
    {
      "cell_type": "code",
      "source": [
        "res4 = search_res.content\n",
        "print(res4)"
      ],
      "metadata": {
        "colab": {
          "base_uri": "https://localhost:8080/"
        },
        "id": "BjDUVSdXEL5S",
        "outputId": "4a87fff2-64f3-4f16-b6a4-19febca97da6"
      },
      "execution_count": null,
      "outputs": [
        {
          "output_type": "stream",
          "name": "stdout",
          "text": [
            "b'{\"results\":[{\"fsq_id\":\"4bac65b7f964a52054f33ae3\",\"categories\":[{\"id\":18018,\"name\":\"Golf Course\",\"icon\":{\"prefix\":\"https://ss3.4sqi.net/img/categories_v2/parks_outdoors/golfcourse_\",\"suffix\":\".png\"}}],\"chains\":[],\"distance\":17221,\"geocodes\":{\"main\":{\"latitude\":28.600077,\"longitude\":77.233345}},\"link\":\"/v3/places/4bac65b7f964a52054f33ae3\",\"location\":{\"country\":\"IN\",\"cross_street\":\"\",\"formatted_address\":\"New Delhi, Delhi\",\"locality\":\"New Delhi\",\"region\":\"Delhi\"},\"name\":\"Delhi Golf Club\",\"related_places\":{},\"timezone\":\"Asia/Kolkata\"}],\"context\":{\"geo_bounds\":{\"circle\":{\"center\":{\"latitude\":28.7041,\"longitude\":77.1025},\"radius\":22000}}}}'\n"
          ]
        }
      ]
    },
    {
      "cell_type": "code",
      "source": [
        "search_res.json()"
      ],
      "metadata": {
        "colab": {
          "base_uri": "https://localhost:8080/"
        },
        "id": "jIUVUrX6EL2s",
        "outputId": "e740ccc7-a514-4611-9d09-5cf24c4bbd8a"
      },
      "execution_count": null,
      "outputs": [
        {
          "output_type": "execute_result",
          "data": {
            "text/plain": [
              "{'results': [{'fsq_id': '4bac65b7f964a52054f33ae3',\n",
              "   'categories': [{'id': 18018,\n",
              "     'name': 'Golf Course',\n",
              "     'icon': {'prefix': 'https://ss3.4sqi.net/img/categories_v2/parks_outdoors/golfcourse_',\n",
              "      'suffix': '.png'}}],\n",
              "   'chains': [],\n",
              "   'distance': 17221,\n",
              "   'geocodes': {'main': {'latitude': 28.600077, 'longitude': 77.233345}},\n",
              "   'link': '/v3/places/4bac65b7f964a52054f33ae3',\n",
              "   'location': {'country': 'IN',\n",
              "    'cross_street': '',\n",
              "    'formatted_address': 'New Delhi, Delhi',\n",
              "    'locality': 'New Delhi',\n",
              "    'region': 'Delhi'},\n",
              "   'name': 'Delhi Golf Club',\n",
              "   'related_places': {},\n",
              "   'timezone': 'Asia/Kolkata'}],\n",
              " 'context': {'geo_bounds': {'circle': {'center': {'latitude': 28.7041,\n",
              "     'longitude': 77.1025},\n",
              "    'radius': 22000}}}}"
            ]
          },
          "metadata": {},
          "execution_count": 64
        }
      ]
    },
    {
      "cell_type": "code",
      "source": [
        "# Place Details api - Foursquare\n",
        "\n",
        "header= {\n",
        "    \"headers\":{\n",
        "        \"Accept\": \"application/json\",\n",
        "        \"Authorization\": \"YOUR FOURSQUARE KEY\"\n",
        "    },\n",
        "\n",
        "    \"url\":\"https://api.foursquare.com/v3/places/{fsq_id}\"\n",
        "}\n",
        "\n",
        "link=header['url']\n",
        "\n",
        "addedheaders=header['headers']\n",
        "\n",
        "# [path parameter]\n",
        "path_params = {'fsq_id':search_res.json()['results'][0]['fsq_id']}\n",
        "#request made with parameters and headers\n",
        "r = requests.get(link.format(fsq_id = path_params['fsq_id']), \n",
        "                 headers=addedheaders) \n",
        "print(r.url)"
      ],
      "metadata": {
        "colab": {
          "base_uri": "https://localhost:8080/"
        },
        "id": "uzspAc6-cSp3",
        "outputId": "6d86b57f-86e4-4753-efaa-94b64c7b2833"
      },
      "execution_count": null,
      "outputs": [
        {
          "output_type": "stream",
          "name": "stdout",
          "text": [
            "https://api.foursquare.com/v3/places/4bac65b7f964a52054f33ae3\n"
          ]
        }
      ]
    },
    {
      "cell_type": "code",
      "source": [
        "r.json()"
      ],
      "metadata": {
        "colab": {
          "base_uri": "https://localhost:8080/"
        },
        "id": "vBSnwEOPcSmd",
        "outputId": "0724ff2b-2fb0-437e-8e0a-2d0928049f51"
      },
      "execution_count": null,
      "outputs": [
        {
          "output_type": "execute_result",
          "data": {
            "text/plain": [
              "{'fsq_id': '4bac65b7f964a52054f33ae3',\n",
              " 'categories': [{'id': 18018,\n",
              "   'name': 'Golf Course',\n",
              "   'icon': {'prefix': 'https://ss3.4sqi.net/img/categories_v2/parks_outdoors/golfcourse_',\n",
              "    'suffix': '.png'}}],\n",
              " 'chains': [],\n",
              " 'geocodes': {'main': {'latitude': 28.600077, 'longitude': 77.233345}},\n",
              " 'link': '/v3/places/4bac65b7f964a52054f33ae3',\n",
              " 'location': {'country': 'IN',\n",
              "  'cross_street': '',\n",
              "  'formatted_address': 'New Delhi, Delhi',\n",
              "  'locality': 'New Delhi',\n",
              "  'region': 'Delhi'},\n",
              " 'name': 'Delhi Golf Club',\n",
              " 'related_places': {},\n",
              " 'timezone': 'Asia/Kolkata'}"
            ]
          },
          "metadata": {},
          "execution_count": 73
        }
      ]
    },
    {
      "cell_type": "code",
      "source": [
        "web_url=\"http://httpbin.org/forms/post\"\n",
        "target_url=\"http://httpbin.org/post\"\n",
        "query_params = {\n",
        "          'custname':'Test',\n",
        "          'custtel':'Test',\n",
        "          'topping':['mushroom'],\n",
        "          'custemail':'test@test.com',\n",
        "          'delivery':'17:09',\n",
        "          'size':'test',\n",
        "          'comments':'Only for testing'\n",
        "          }\n",
        "\n",
        "headers= { \n",
        "    'Accept':'text/html,application/xhtml+xml,application/xml;q=0.9,image/webp,image/apng,*/*;q=0.8',\n",
        "    'Content-Type':'text/html; charset=UTF-8',\n",
        "    'Referer':web_url\n",
        "}\n",
        "response = requests.post(target_url,data=query_params,headers=headers)\n",
        "print(response.status_code)\n",
        "print(response.json())"
      ],
      "metadata": {
        "colab": {
          "base_uri": "https://localhost:8080/"
        },
        "id": "9P4H7Nr-e7KP",
        "outputId": "cf2c33cd-8e6d-46aa-ae3a-694c6a4a81ce"
      },
      "execution_count": 41,
      "outputs": [
        {
          "output_type": "stream",
          "name": "stdout",
          "text": [
            "200\n",
            "{'args': {}, 'data': 'custname=Test&custtel=Test&topping=mushroom&custemail=test%40test.com&delivery=17%3A09&size=test&comments=Only+for+testing', 'files': {}, 'form': {}, 'headers': {'Accept': 'text/html,application/xhtml+xml,application/xml;q=0.9,image/webp,image/apng,*/*;q=0.8', 'Accept-Encoding': 'gzip, deflate', 'Content-Length': '122', 'Content-Type': 'text/html; charset=UTF-8', 'Host': 'httpbin.org', 'Referer': 'http://httpbin.org/forms/post', 'User-Agent': 'python-requests/2.23.0', 'X-Amzn-Trace-Id': 'Root=1-63411402-3a3e93a16bd87d5b7b5cfeb7'}, 'json': None, 'origin': '34.172.151.250', 'url': 'http://httpbin.org/post'}\n"
          ]
        }
      ]
    },
    {
      "cell_type": "code",
      "source": [],
      "metadata": {
        "id": "FJA9CLz7Fa8P"
      },
      "execution_count": null,
      "outputs": []
    },
    {
      "cell_type": "code",
      "source": [
        "import urllib.parse as urlparse\n",
        "\n",
        "parse_link = 'https://www.flipkart.com/search?q=artificial+intelligence+books&otracker=search&otracker1=search&marketplace=FLIPKART&as-show=on&as=off&p%5B%5D=facets.binding%255B%255D%3DPaperback'\n",
        "urlparse.urlsplit(parse_link)"
      ],
      "metadata": {
        "colab": {
          "base_uri": "https://localhost:8080/"
        },
        "id": "XmBYXct69IZV",
        "outputId": "e4d3b5a1-36fe-47e9-8570-cfac65134048"
      },
      "execution_count": null,
      "outputs": [
        {
          "output_type": "execute_result",
          "data": {
            "text/plain": [
              "SplitResult(scheme='https', netloc='www.flipkart.com', path='/search', query='q=artificial+intelligence+books&otracker=search&otracker1=search&marketplace=FLIPKART&as-show=on&as=off&p%5B%5D=facets.binding%255B%255D%3DPaperback', fragment='')"
            ]
          },
          "metadata": {},
          "execution_count": 20
        }
      ]
    },
    {
      "cell_type": "code",
      "source": [
        "urlparse.urlparse(parse_link)"
      ],
      "metadata": {
        "colab": {
          "base_uri": "https://localhost:8080/"
        },
        "id": "JpVraT5e9dtM",
        "outputId": "aaefbdd3-7df2-4c66-8773-8ed570841611"
      },
      "execution_count": null,
      "outputs": [
        {
          "output_type": "execute_result",
          "data": {
            "text/plain": [
              "ParseResult(scheme='https', netloc='www.flipkart.com', path='/search', params='', query='q=artificial+intelligence+books&otracker=search&otracker1=search&marketplace=FLIPKART&as-show=on&as=off&p%5B%5D=facets.binding%255B%255D%3DPaperback', fragment='')"
            ]
          },
          "metadata": {},
          "execution_count": 21
        }
      ]
    },
    {
      "cell_type": "code",
      "source": [
        "urlparse.urlparse(parse_link).scheme"
      ],
      "metadata": {
        "colab": {
          "base_uri": "https://localhost:8080/",
          "height": 36
        },
        "id": "zqVRwvQV_Wf1",
        "outputId": "7d95e730-4e18-44d8-aa09-668c93a0236a"
      },
      "execution_count": null,
      "outputs": [
        {
          "output_type": "execute_result",
          "data": {
            "text/plain": [
              "'https'"
            ],
            "application/vnd.google.colaboratory.intrinsic+json": {
              "type": "string"
            }
          },
          "metadata": {},
          "execution_count": 22
        }
      ]
    },
    {
      "cell_type": "code",
      "source": [
        "#Encoding a url parameters\n",
        "d = {'price':'medium','size':'S','brand':'puma','preference':'long short'}\n",
        "\n",
        "urlparse.urlencode(d)"
      ],
      "metadata": {
        "colab": {
          "base_uri": "https://localhost:8080/",
          "height": 36
        },
        "id": "6RUj6UQNB4PW",
        "outputId": "d3578552-32fa-4854-9017-6d512082080d"
      },
      "execution_count": null,
      "outputs": [
        {
          "output_type": "execute_result",
          "data": {
            "text/plain": [
              "'price=medium&size=S&brand=puma&preference=long+short'"
            ],
            "application/vnd.google.colaboratory.intrinsic+json": {
              "type": "string"
            }
          },
          "metadata": {},
          "execution_count": 23
        }
      ]
    },
    {
      "cell_type": "code",
      "source": [
        "urlparse.quote(link)"
      ],
      "metadata": {
        "colab": {
          "base_uri": "https://localhost:8080/",
          "height": 36
        },
        "id": "vo8PIPCNCX93",
        "outputId": "ea624aee-779b-4037-cda6-98656a35f462"
      },
      "execution_count": null,
      "outputs": [
        {
          "output_type": "execute_result",
          "data": {
            "text/plain": [
              "'https%3A//en.wikipedia.org/wiki/States_and_union_territories_of_India'"
            ],
            "application/vnd.google.colaboratory.intrinsic+json": {
              "type": "string"
            }
          },
          "metadata": {},
          "execution_count": 24
        }
      ]
    },
    {
      "cell_type": "code",
      "source": [
        "urlparse.quote_plus(link)"
      ],
      "metadata": {
        "colab": {
          "base_uri": "https://localhost:8080/",
          "height": 36
        },
        "id": "GihNoTEtDYwd",
        "outputId": "7159c9ea-50e6-4234-cadb-b4c85d5687f3"
      },
      "execution_count": null,
      "outputs": [
        {
          "output_type": "execute_result",
          "data": {
            "text/plain": [
              "'https%3A%2F%2Fen.wikipedia.org%2Fwiki%2FStates_and_union_territories_of_India'"
            ],
            "application/vnd.google.colaboratory.intrinsic+json": {
              "type": "string"
            }
          },
          "metadata": {},
          "execution_count": 25
        }
      ]
    },
    {
      "cell_type": "code",
      "source": [
        "urlparse.unquote(urlparse.quote(link))"
      ],
      "metadata": {
        "colab": {
          "base_uri": "https://localhost:8080/",
          "height": 36
        },
        "id": "jfH4vBRyDdjU",
        "outputId": "4d38baec-b866-482d-ccef-c6fa2b97a064"
      },
      "execution_count": null,
      "outputs": [
        {
          "output_type": "execute_result",
          "data": {
            "text/plain": [
              "'https://en.wikipedia.org/wiki/States_and_union_territories_of_India'"
            ],
            "application/vnd.google.colaboratory.intrinsic+json": {
              "type": "string"
            }
          },
          "metadata": {},
          "execution_count": 26
        }
      ]
    },
    {
      "cell_type": "code",
      "source": [
        "urlparse.unquote_plus(urlparse.quote_plus(link))"
      ],
      "metadata": {
        "colab": {
          "base_uri": "https://localhost:8080/",
          "height": 36
        },
        "id": "IAWvKMJtDjr6",
        "outputId": "12cf6a7f-0f7c-4eae-e374-9f7d2909d4b6"
      },
      "execution_count": null,
      "outputs": [
        {
          "output_type": "execute_result",
          "data": {
            "text/plain": [
              "'https://en.wikipedia.org/wiki/States_and_union_territories_of_India'"
            ],
            "application/vnd.google.colaboratory.intrinsic+json": {
              "type": "string"
            }
          },
          "metadata": {},
          "execution_count": 27
        }
      ]
    },
    {
      "cell_type": "code",
      "source": [],
      "metadata": {
        "id": "DI8kHcxEDqPz"
      },
      "execution_count": null,
      "outputs": []
    },
    {
      "cell_type": "code",
      "source": [
        "# Parsing the page with rules for robots(crawlers/spiders/robots)\n",
        "# https://docs.python.org/3/library/urllib.robotparser.html#module-urllib.robotparser\n",
        "\n",
        "import urllib.robotparser as robot\n",
        "robo_robo = robot.RobotFileParser()\n",
        "\n",
        "# robo_robo.set_url('https://www.amazon.in/robots.txt') \n",
        "robo_robo.set_url('https://en.wikipedia.org/robots.txt') \n",
        "robo_robo.read()"
      ],
      "metadata": {
        "id": "lbLEfBetEdRp"
      },
      "execution_count": null,
      "outputs": []
    },
    {
      "cell_type": "code",
      "source": [
        "print(robo_robo)"
      ],
      "metadata": {
        "colab": {
          "base_uri": "https://localhost:8080/"
        },
        "id": "jkJmaYt_Fcw5",
        "outputId": "ef517eba-e6d7-4a9f-cdef-942dd0b6f31b"
      },
      "execution_count": null,
      "outputs": [
        {
          "output_type": "stream",
          "name": "stdout",
          "text": [
            "User-agent: MJ12bot\n",
            "Disallow: /\n",
            "\n",
            "User-agent: Mediapartners-Google*\n",
            "Disallow: /\n",
            "\n",
            "User-agent: IsraBot\n",
            "Allow: \n",
            "\n",
            "User-agent: Orthogaffe\n",
            "Allow: \n",
            "\n",
            "User-agent: UbiCrawler\n",
            "Disallow: /\n",
            "\n",
            "User-agent: DOC\n",
            "Disallow: /\n",
            "\n",
            "User-agent: Zao\n",
            "Disallow: /\n",
            "\n",
            "User-agent: sitecheck.internetseer.com\n",
            "Disallow: /\n",
            "\n",
            "User-agent: Zealbot\n",
            "Disallow: /\n",
            "\n",
            "User-agent: MSIECrawler\n",
            "Disallow: /\n",
            "\n",
            "User-agent: SiteSnagger\n",
            "Disallow: /\n",
            "\n",
            "User-agent: WebStripper\n",
            "Disallow: /\n",
            "\n",
            "User-agent: WebCopier\n",
            "Disallow: /\n",
            "\n",
            "User-agent: Fetch\n",
            "Disallow: /\n",
            "\n",
            "User-agent: Offline Explorer\n",
            "Disallow: /\n",
            "\n",
            "User-agent: Teleport\n",
            "Disallow: /\n",
            "\n",
            "User-agent: TeleportPro\n",
            "Disallow: /\n",
            "\n",
            "User-agent: WebZIP\n",
            "Disallow: /\n",
            "\n",
            "User-agent: linko\n",
            "Disallow: /\n",
            "\n",
            "User-agent: HTTrack\n",
            "Disallow: /\n",
            "\n",
            "User-agent: Microsoft.URL.Control\n",
            "Disallow: /\n",
            "\n",
            "User-agent: Xenu\n",
            "Disallow: /\n",
            "\n",
            "User-agent: larbin\n",
            "Disallow: /\n",
            "\n",
            "User-agent: libwww\n",
            "Disallow: /\n",
            "\n",
            "User-agent: ZyBORG\n",
            "Disallow: /\n",
            "\n",
            "User-agent: Download Ninja\n",
            "Disallow: /\n",
            "\n",
            "User-agent: fast\n",
            "Disallow: /\n",
            "\n",
            "User-agent: wget\n",
            "Disallow: /\n",
            "\n",
            "User-agent: grub-client\n",
            "Disallow: /\n",
            "\n",
            "User-agent: k2spider\n",
            "Disallow: /\n",
            "\n",
            "User-agent: NPBot\n",
            "Disallow: /\n",
            "\n",
            "User-agent: WebReaper\n",
            "Disallow: /\n",
            "\n",
            "User-agent: *\n",
            "Allow: /w/api.php%3Faction%3Dmobileview%26\n",
            "Allow: /w/load.php\n",
            "Allow: /api/rest_v1/%3Fdoc\n",
            "Disallow: /w/\n",
            "Disallow: /api/\n",
            "Disallow: /trap/\n",
            "Disallow: /wiki/Special%3A\n",
            "Disallow: /wiki/Spezial%3A\n",
            "Disallow: /wiki/Spesial%3A\n",
            "Disallow: /wiki/Special%3A\n",
            "Disallow: /wiki/Spezial%3A\n",
            "Disallow: /wiki/Spesial%3A\n",
            "\n",
            "\n"
          ]
        }
      ]
    },
    {
      "cell_type": "code",
      "source": [
        "robo_robo.can_fetch('*','https://en.wikipedia.org/wiki/Wikipedia:Contents')"
      ],
      "metadata": {
        "colab": {
          "base_uri": "https://localhost:8080/"
        },
        "id": "9OZDH2oJFfO_",
        "outputId": "6a209cdf-5e59-4ea6-d25b-5535ef12f87b"
      },
      "execution_count": null,
      "outputs": [
        {
          "output_type": "execute_result",
          "data": {
            "text/plain": [
              "True"
            ]
          },
          "metadata": {},
          "execution_count": 36
        }
      ]
    },
    {
      "cell_type": "markdown",
      "source": [
        "Reference:- Hands-on Web Scraping with Python Book [Packt]"
      ],
      "metadata": {
        "id": "1BgpwZMrOzgI"
      }
    },
    {
      "cell_type": "code",
      "source": [],
      "metadata": {
        "id": "vbYktRSY48Ur"
      },
      "execution_count": null,
      "outputs": []
    }
  ]
}