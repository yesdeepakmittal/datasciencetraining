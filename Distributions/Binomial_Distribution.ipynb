{
 "cells": [
  {
   "cell_type": "markdown",
   "metadata": {},
   "source": [
    "In this experiment we will predict the number of overbooking an airline can do to increase revenue given that some passengers from every flights often miss the flight"
   ]
  },
  {
   "cell_type": "code",
   "execution_count": 36,
   "metadata": {},
   "outputs": [],
   "source": [
    "import pandas as pd\n",
    "import numpy as np\n",
    "import matplotlib.pyplot as plt\n",
    "import seaborn as sns\n",
    "from scipy import stats\n",
    "import math\n",
    "%matplotlib inline"
   ]
  },
  {
   "cell_type": "code",
   "execution_count": 25,
   "metadata": {},
   "outputs": [
    {
     "data": {
      "text/html": [
       "<div>\n",
       "<style scoped>\n",
       "    .dataframe tbody tr th:only-of-type {\n",
       "        vertical-align: middle;\n",
       "    }\n",
       "\n",
       "    .dataframe tbody tr th {\n",
       "        vertical-align: top;\n",
       "    }\n",
       "\n",
       "    .dataframe thead th {\n",
       "        text-align: right;\n",
       "    }\n",
       "</style>\n",
       "<table border=\"1\" class=\"dataframe\">\n",
       "  <thead>\n",
       "    <tr style=\"text-align: right;\">\n",
       "      <th></th>\n",
       "      <th>passenger_id</th>\n",
       "      <th>Arrival</th>\n",
       "    </tr>\n",
       "  </thead>\n",
       "  <tbody>\n",
       "    <tr>\n",
       "      <th>0</th>\n",
       "      <td>38</td>\n",
       "      <td>1</td>\n",
       "    </tr>\n",
       "    <tr>\n",
       "      <th>1</th>\n",
       "      <td>727</td>\n",
       "      <td>1</td>\n",
       "    </tr>\n",
       "    <tr>\n",
       "      <th>2</th>\n",
       "      <td>847</td>\n",
       "      <td>1</td>\n",
       "    </tr>\n",
       "    <tr>\n",
       "      <th>3</th>\n",
       "      <td>296</td>\n",
       "      <td>1</td>\n",
       "    </tr>\n",
       "    <tr>\n",
       "      <th>4</th>\n",
       "      <td>925</td>\n",
       "      <td>0</td>\n",
       "    </tr>\n",
       "  </tbody>\n",
       "</table>\n",
       "</div>"
      ],
      "text/plain": [
       "   passenger_id  Arrival\n",
       "0            38        1\n",
       "1           727        1\n",
       "2           847        1\n",
       "3           296        1\n",
       "4           925        0"
      ]
     },
     "execution_count": 25,
     "metadata": {},
     "output_type": "execute_result"
    }
   ],
   "source": [
    "arrival = [1]*900\n",
    "arrival.extend([0]*100)\n",
    "data = pd.DataFrame({'passenger_id':list(range(1,1001)),\n",
    "                     'Arrival':arrival})\n",
    "data = data.sample(frac=1,random_state=2).reset_index(drop=True)\n",
    "data.head()"
   ]
  },
  {
   "cell_type": "code",
   "execution_count": 27,
   "metadata": {},
   "outputs": [
    {
     "data": {
      "text/plain": [
       "<AxesSubplot:xlabel='passenger_id', ylabel='Count'>"
      ]
     },
     "execution_count": 27,
     "metadata": {},
     "output_type": "execute_result"
    },
    {
     "data": {
      "image/png": "[encoded data removed]",
      "text/plain": [
       "<Figure size 432x288 with 1 Axes>"
      ]
     },
     "metadata": {
      "needs_background": "light"
     },
     "output_type": "display_data"
    }
   ],
   "source": [
    "sns.histplot(data.passenger_id,kde=True)"
   ]
  },
  {
   "cell_type": "code",
   "execution_count": 30,
   "metadata": {},
   "outputs": [
    {
     "data": {
      "image/png": "[encoded data removed]",
      "text/plain": [
       "<Figure size 432x288 with 1 Axes>"
      ]
     },
     "metadata": {
      "needs_background": "light"
     },
     "output_type": "display_data"
    }
   ],
   "source": [
    "data.Arrival.value_counts().plot.bar(title='Comparison of Arrival of Passengers V/s Not Arrival')\n",
    "plt.show()"
   ]
  },
  {
   "cell_type": "code",
   "execution_count": 31,
   "metadata": {},
   "outputs": [
    {
     "data": {
      "text/plain": [
       "1    0.9\n",
       "0    0.1\n",
       "Name: Arrival, dtype: float64"
      ]
     },
     "execution_count": 31,
     "metadata": {},
     "output_type": "execute_result"
    }
   ],
   "source": [
    "prob_of_arrival = data.Arrival.value_counts(normalize=True)\n",
    "prob_of_arrival"
   ]
  },
  {
   "cell_type": "markdown",
   "metadata": {},
   "source": [
    "*So brother their is a 90% probability of arrival of a passenger*"
   ]
  },
  {
   "cell_type": "markdown",
   "metadata": {},
   "source": [
    "#### How many seats can we overbook?\n",
    "Let us assume that every flight has a capacity of 100 people\n",
    "\n",
    "  $(100 + x)*0.90 <= 100$\n",
    "  \n",
    "  $ x = 11$\n",
    "\n",
    "  So we can overbook 11 seats(on average)\n",
    "\n",
    "  Also consider if more than 100 passenger appear for flight given that we overbooked, their is a penalty of 20000 against the flight price 10000"
   ]
  },
  {
   "cell_type": "code",
   "execution_count": 39,
   "metadata": {},
   "outputs": [
    {
     "data": {
      "text/plain": [
       "0.12321001647736995"
      ]
     },
     "execution_count": 39,
     "metadata": {},
     "output_type": "execute_result"
    }
   ],
   "source": [
    "prob_of_appear = prob_of_arrival[1]\n",
    "PRICE = 10000\n",
    "PENALTY = PRICE * 2\n",
    "CAPACITY = 100\n",
    "\n",
    "\n",
    "# Probability that exactly 101 passengers will appear given that we overbooked 11 passengers\n",
    "'''\n",
    "n = 111\n",
    "x = 101\n",
    "p = prob_of_appear\n",
    "q = 1 - p\n",
    "\n",
    "Use Binomial Distribution to calculate the probabilty\n",
    "'''\n",
    "\n",
    "stats.binom.pmf(k = 101, n = 111, p = prob_of_appear)"
   ]
  },
  {
   "cell_type": "code",
   "execution_count": 38,
   "metadata": {},
   "outputs": [
    {
     "data": {
      "text/plain": [
       "0.12321001647736993"
      ]
     },
     "execution_count": 38,
     "metadata": {},
     "output_type": "execute_result"
    }
   ],
   "source": [
    "n = 111\n",
    "x = 101\n",
    "n_x = n - x \n",
    "\n",
    "fact_n = math.factorial(111)\n",
    "fact_x = math.factorial(101)\n",
    "fact_n_x = math.factorial(10)\n",
    "\n",
    "p = prob_of_appear\n",
    "q = 1 - p \n",
    "\n",
    "(fact_n/(fact_x*fact_n_x))*(p**101)*(q**10)"
   ]
  },
  {
   "cell_type": "code",
   "execution_count": 60,
   "metadata": {},
   "outputs": [
    {
     "name": "stdout",
     "output_type": "stream",
     "text": [
      "Tickets Sold: 100 | Net revenue: 1000000\n",
      "Tickets Sold: 101 | Net revenue: 1010000\n",
      "Tickets Sold: 102 | Net revenue: 1019994\n",
      "Tickets Sold: 103 | Net revenue: 1029965\n",
      "Tickets Sold: 104 | Net revenue: 1039853\n",
      "Tickets Sold: 105 | Net revenue: 1049530\n",
      "Tickets Sold: 106 | Net revenue: 1058768\n",
      "Tickets Sold: 107 | Net revenue: 1067236\n",
      "Tickets Sold: 108 | Net revenue: 1074539\n",
      "Tickets Sold: 109 | Net revenue: 1080283\n",
      "Tickets Sold: 110 | Net revenue: 1084158\n",
      "Tickets Sold: 111 | Net revenue: 1085994\n",
      "Tickets Sold: 112 | Net revenue: 1085791\n",
      "Tickets Sold: 113 | Net revenue: 1083704\n",
      "Tickets Sold: 114 | Net revenue: 1079991\n",
      "Tickets Sold: 115 | Net revenue: 1074968\n",
      "Tickets Sold: 116 | Net revenue: 1068948\n",
      "Tickets Sold: 117 | Net revenue: 1062212\n",
      "Tickets Sold: 118 | Net revenue: 1054988\n",
      "Tickets Sold: 119 | Net revenue: 1047445\n"
     ]
    },
    {
     "data": {
      "image/png": "[encoded data removed]",
      "text/plain": [
       "<Figure size 720x576 with 1 Axes>"
      ]
     },
     "metadata": {
      "needs_background": "light"
     },
     "output_type": "display_data"
    }
   ],
   "source": [
    "# Calculate expected penalty for different cases\n",
    "\n",
    "def excepted_penalty(n_tickets):\n",
    "    penalty = 0\n",
    "    \n",
    "    for extra in range(1,n_tickets - CAPACITY + 1):\n",
    "        probability = stats.binom.pmf( k = CAPACITY + extra, n = n_tickets, p = prob_of_appear)\n",
    "        penalty += (probability * PENALTY * extra)\n",
    "\n",
    "    return penalty\n",
    "\n",
    "tkts = []\n",
    "rvnue = []\n",
    "\n",
    "for ticket in range(100,120):\n",
    "    revenue = PRICE * ticket\n",
    "    penalty = excepted_penalty(ticket)\n",
    "    net_revenue = round(revenue - penalty)\n",
    "    print('Tickets Sold:',ticket,'| Net revenue:',net_revenue)\n",
    "    tkts.append(ticket)\n",
    "    rvnue.append(net_revenue)\n",
    "\n",
    "plt.figure(figsize=(10,8))\n",
    "plt.scatter(tkts,rvnue)\n",
    "plt.xticks(tkts)\n",
    "plt.yticks(rvnue)\n",
    "plt.grid()\n",
    "plt.show()"
   ]
  },
  {
   "cell_type": "code",
   "execution_count": null,
   "metadata": {},
   "outputs": [],
   "source": []
  },
  {
   "cell_type": "markdown",
   "metadata": {},
   "source": [
    "Let's plot the Probability Mass Function(not PDF) and CDF for 1000 generated data points for doing experiments"
   ]
  },
  {
   "cell_type": "code",
   "execution_count": 64,
   "metadata": {},
   "outputs": [
    {
     "data": {
      "text/plain": [
       "array([103, 103, 100,  99, 102, 105, 105, 101,  97, 102, 100,  99, 102,\n",
       "       103,  99,  98,  91,  98, 100, 103, 104,  96,  97, 100,  96, 104,\n",
       "        94,  99,  97, 100, 100, 101, 103, 103,  93, 105,  98, 100,  97,\n",
       "        99, 103,  98,  99,  98, 101,  97, 101, 100, 100,  90, 100,  97,\n",
       "       101, 102, 100,  97, 103, 105, 102, 103,  96, 100,  97,  98, 103,\n",
       "       101,  98, 105, 100,  99, 103, 104, 103, 102, 105, 102,  99,  97,\n",
       "       103, 102,  99, 105,  96, 103, 104, 101,  96,  96, 105, 105, 102,\n",
       "        96, 101,  99,  98, 102, 102,  97, 104, 101])"
      ]
     },
     "execution_count": 64,
     "metadata": {},
     "output_type": "execute_result"
    }
   ],
   "source": [
    "appear_distribution = stats.binom(n=111,p = prob_of_appear)\n",
    "data = appear_distribution.rvs(1000)\n",
    "data[:100]"
   ]
  },
  {
   "cell_type": "code",
   "execution_count": 65,
   "metadata": {},
   "outputs": [
    {
     "data": {
      "text/plain": [
       "scipy.stats._distn_infrastructure.rv_frozen"
      ]
     },
     "execution_count": 65,
     "metadata": {},
     "output_type": "execute_result"
    }
   ],
   "source": [
    "type(appear_distribution)"
   ]
  },
  {
   "cell_type": "code",
   "execution_count": 66,
   "metadata": {},
   "outputs": [
    {
     "data": {
      "text/plain": [
       "11"
      ]
     },
     "execution_count": 66,
     "metadata": {},
     "output_type": "execute_result"
    }
   ],
   "source": [
    "# calculate bins using sturge law\n",
    "bins = 1 + int(np.ceil(np.log2(1000)))\n",
    "bins"
   ]
  },
  {
   "cell_type": "code",
   "execution_count": 67,
   "metadata": {},
   "outputs": [
    {
     "data": {
      "text/plain": [
       "11"
      ]
     },
     "execution_count": 67,
     "metadata": {},
     "output_type": "execute_result"
    }
   ],
   "source": [
    "# calculate bins using sturge law\n",
    "bins = 1 + int(np.ceil(3.33*np.log10(1000)))\n",
    "bins"
   ]
  },
  {
   "cell_type": "code",
   "execution_count": 68,
   "metadata": {},
   "outputs": [
    {
     "data": {
      "image/png": "[encoded data removed]",
      "text/plain": [
       "<Figure size 432x288 with 1 Axes>"
      ]
     },
     "metadata": {
      "needs_background": "light"
     },
     "output_type": "display_data"
    }
   ],
   "source": [
    "sns.histplot(data,bins=bins,kde=True)\n",
    "plt.xlabel('No. of passenger appeared')\n",
    "plt.grid()\n",
    "plt.show()"
   ]
  },
  {
   "cell_type": "code",
   "execution_count": 69,
   "metadata": {},
   "outputs": [
    {
     "data": {
      "image/png": "[encoded data removed]",
      "text/plain": [
       "<Figure size 432x288 with 1 Axes>"
      ]
     },
     "metadata": {
      "needs_background": "light"
     },
     "output_type": "display_data"
    }
   ],
   "source": [
    "sns.histplot(data,bins=bins,kde=True,stat='density')\n",
    "plt.xlabel('No. of passenger appeared')\n",
    "plt.grid()\n",
    "plt.show()"
   ]
  },
  {
   "cell_type": "code",
   "execution_count": 71,
   "metadata": {},
   "outputs": [
    {
     "data": {
      "image/png": "[encoded data removed]",
      "text/plain": [
       "<Figure size 432x288 with 1 Axes>"
      ]
     },
     "metadata": {
      "needs_background": "light"
     },
     "output_type": "display_data"
    }
   ],
   "source": [
    "#CDF\n",
    "x = np.linspace(80,130)\n",
    "\n",
    "cdf = appear_distribution.cdf(x)\n",
    "plt.plot(x,cdf)\n",
    "plt.ylabel('Cumulative P.')\n",
    "plt.grid()\n",
    "plt.show()"
   ]
  }
 ],
 "metadata": {
  "interpreter": {
   "hash": "b891e4ff0c124cc369eb56af2fa4eb958a263b8dc39383d55d2cb4ec96c947f9"
  },
  "kernelspec": {
   "display_name": "Python 3.10.4 64-bit",
   "language": "python",
   "name": "python3"
  },
  "language_info": {
   "codemirror_mode": {
    "name": "ipython",
    "version": 3
   },
   "file_extension": ".py",
   "mimetype": "text/x-python",
   "name": "python",
   "nbconvert_exporter": "python",
   "pygments_lexer": "ipython3",
   "version": "3.10.4"
  },
  "orig_nbformat": 4
 },
 "nbformat": 4,
 "nbformat_minor": 2
}
