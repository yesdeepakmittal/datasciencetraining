{
 "cells": [
  {
   "cell_type": "code",
   "execution_count": 3,
   "metadata": {},
   "outputs": [
    {
     "data": {
      "text/plain": [
       "array([74, 13, 32, 15, 21, 13, 24, 58, 11, 40, 11, 19, 70, 42, 66, 83, 19,\n",
       "       89, 12, 25, 28, 45, 61, 75, 28, 75, 24, 17, 53, 23])"
      ]
     },
     "execution_count": 3,
     "metadata": {},
     "output_type": "execute_result"
    }
   ],
   "source": [
    "import numpy as np\n",
    "\n",
    "data = np.random.randint(low=10,high = 100, size = 30, dtype=int)\n",
    "data"
   ]
  },
  {
   "cell_type": "code",
   "execution_count": 4,
   "metadata": {},
   "outputs": [],
   "source": [
    "z_score = {\n",
    "    68: 1,\n",
    "    95: 1.96,\n",
    "    99: 2.57\n",
    "}\n",
    "def ci(data,level):\n",
    "    avg = np.mean(data)\n",
    "    std = np.std(data)\n",
    "    n = len(data)\n",
    "    lower_bound = np.round(avg - z_score[level]*std/np.sqrt(n),2)\n",
    "    upper_bound = np.round(avg + z_score[level]*std/np.sqrt(n),2)\n",
    "    return [lower_bound,upper_bound]\n",
    "\n",
    "def ciList(data):\n",
    "    res = []\n",
    "    for level in [68,95,99]:\n",
    "        res.append(ci(data,level))\n",
    "    return res\n",
    "  "
   ]
  },
  {
   "cell_type": "code",
   "execution_count": 5,
   "metadata": {},
   "outputs": [
    {
     "data": {
      "text/plain": [
       "[[34.39, 43.35], [30.09, 47.65], [27.36, 50.38]]"
      ]
     },
     "execution_count": 5,
     "metadata": {},
     "output_type": "execute_result"
    }
   ],
   "source": [
    "ciList(data)"
   ]
  }
 ],
 "metadata": {
  "interpreter": {
   "hash": "b891e4ff0c124cc369eb56af2fa4eb958a263b8dc39383d55d2cb4ec96c947f9"
  },
  "kernelspec": {
   "display_name": "Python 3.10.4 64-bit",
   "language": "python",
   "name": "python3"
  },
  "language_info": {
   "codemirror_mode": {
    "name": "ipython",
    "version": 3
   },
   "file_extension": ".py",
   "mimetype": "text/x-python",
   "name": "python",
   "nbconvert_exporter": "python",
   "pygments_lexer": "ipython3",
   "version": "3.10.4"
  },
  "orig_nbformat": 4
 },
 "nbformat": 4,
 "nbformat_minor": 2
}
