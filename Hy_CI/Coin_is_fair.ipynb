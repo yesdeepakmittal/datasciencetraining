{
 "cells": [
  {
   "cell_type": "markdown",
   "metadata": {},
   "source": [
    "In this case study we will run an experiement to check whether a coin is fair or is baised towards Head.\n",
    "\n",
    "- Experiment: A coin tossed 100 times\n",
    "- Test statistics: Head observed 65 times\n",
    "- Null Hypothesis: Coin is fair\n",
    "- Alternate Hypothesis: Biased towards Head\n",
    "\n",
    "If the null hypothesis is true, we can use Binomail Distribution to model 100 Bernoulli trials\n",
    "\n",
    "$P(T >= 65) = 1 - P(T <= 64)$\n",
    "\n",
    "- $P(T <= 64)$ - calculate it using the concept of CDF"
   ]
  },
  {
   "cell_type": "code",
   "execution_count": 4,
   "metadata": {},
   "outputs": [],
   "source": [
    "from scipy import stats"
   ]
  },
  {
   "cell_type": "code",
   "execution_count": 5,
   "metadata": {},
   "outputs": [
    {
     "data": {
      "text/plain": [
       "0.0017588208614850442"
      ]
     },
     "execution_count": 5,
     "metadata": {},
     "output_type": "execute_result"
    }
   ],
   "source": [
    "prob = stats.binom.cdf(k=64,n=100,p = 0.5)\n",
    "1 - prob"
   ]
  },
  {
   "cell_type": "markdown",
   "metadata": {},
   "source": [
    "p value is very small(0.17%< 5%), reject Null Hypothesis at 5% significance level"
   ]
  }
 ],
 "metadata": {
  "interpreter": {
   "hash": "b891e4ff0c124cc369eb56af2fa4eb958a263b8dc39383d55d2cb4ec96c947f9"
  },
  "kernelspec": {
   "display_name": "Python 3.10.4 64-bit",
   "language": "python",
   "name": "python3"
  },
  "language_info": {
   "codemirror_mode": {
    "name": "ipython",
    "version": 3
   },
   "file_extension": ".py",
   "mimetype": "text/x-python",
   "name": "python",
   "nbconvert_exporter": "python",
   "pygments_lexer": "ipython3",
   "version": "3.10.4"
  },
  "orig_nbformat": 4
 },
 "nbformat": 4,
 "nbformat_minor": 2
}
