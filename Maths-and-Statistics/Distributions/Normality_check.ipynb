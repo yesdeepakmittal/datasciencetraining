{
 "cells": [
  {
   "cell_type": "code",
   "execution_count": 7,
   "metadata": {},
   "outputs": [],
   "source": [
    "import numpy as np\n",
    "from scipy import stats\n",
    "import seaborn as sns"
   ]
  },
  {
   "cell_type": "code",
   "execution_count": 16,
   "metadata": {},
   "outputs": [
    {
     "data": {
      "text/plain": [
       "<AxesSubplot:ylabel='Density'>"
      ]
     },
     "execution_count": 16,
     "metadata": {},
     "output_type": "execute_result"
    },
    {
     "data": {
      "image/png": "[encoded data removed]",
      "text/plain": [
       "<Figure size 432x288 with 1 Axes>"
      ]
     },
     "metadata": {
      "needs_background": "light"
     },
     "output_type": "display_data"
    }
   ],
   "source": [
    "data_dis = stats.norm(loc=100,scale=10)\n",
    "sns.histplot(data_dis.rvs(10000),kde=True,stat='density')"
   ]
  },
  {
   "cell_type": "markdown",
   "metadata": {},
   "source": [
    "#### Now how to check whether this distribution is normal or not? Take Margin of error for the test to be 2%"
   ]
  },
  {
   "cell_type": "code",
   "execution_count": 17,
   "metadata": {},
   "outputs": [],
   "source": [
    "data = list(data_dis.rvs(1000))\n",
    "mean = np.mean(data)\n",
    "std = np.std(data)\n",
    "\n",
    "n1 = n2 = n3 = 0"
   ]
  },
  {
   "cell_type": "code",
   "execution_count": 18,
   "metadata": {},
   "outputs": [
    {
     "data": {
      "text/plain": [
       "(100.27578192982442, 9.700533494676826)"
      ]
     },
     "execution_count": 18,
     "metadata": {},
     "output_type": "execute_result"
    }
   ],
   "source": [
    "mean,std"
   ]
  },
  {
   "cell_type": "code",
   "execution_count": 19,
   "metadata": {},
   "outputs": [
    {
     "data": {
      "text/plain": [
       "(685, 956, 996)"
      ]
     },
     "execution_count": 19,
     "metadata": {},
     "output_type": "execute_result"
    }
   ],
   "source": [
    "for i in data:\n",
    "    if (i > mean - 1*std) and (i < mean + 1*std):\n",
    "        n1 += 1\n",
    "    if (i > mean - 2*std) and (i < mean + 2*std):\n",
    "        n2 += 1\n",
    "    if (i > mean - 3*std) and (i < mean + 3*std):\n",
    "        n3 += 1\n",
    "\n",
    "n1,n2,n3"
   ]
  },
  {
   "cell_type": "code",
   "execution_count": 20,
   "metadata": {},
   "outputs": [
    {
     "name": "stdout",
     "output_type": "stream",
     "text": [
      "It is normally distributed\n"
     ]
    }
   ],
   "source": [
    "d1 = n1/1000\n",
    "d2 = n2/1000\n",
    "d3 = n3/1000\n",
    "\n",
    "if (abs(d1 - 0.68) <= 0.02) and (abs(d2 - 0.97) <= 0.02) and (abs(d3 - 0.99) <= 0.02):\n",
    "    print('It is normally distributed')\n",
    "else:\n",
    "    print('It is not normally distributed')"
   ]
  },
  {
   "cell_type": "markdown",
   "metadata": {},
   "source": [
    "If someone give the distribution plot and ask you whether this a normally distributed, do not say yes instantly without checking the **condition** of variable(like discrete for binomail or continuous for normal distribution) and doing **statistical test**"
   ]
  }
 ],
 "metadata": {
  "interpreter": {
   "hash": "b891e4ff0c124cc369eb56af2fa4eb958a263b8dc39383d55d2cb4ec96c947f9"
  },
  "kernelspec": {
   "display_name": "Python 3.10.4 64-bit",
   "language": "python",
   "name": "python3"
  },
  "language_info": {
   "codemirror_mode": {
    "name": "ipython",
    "version": 3
   },
   "file_extension": ".py",
   "mimetype": "text/x-python",
   "name": "python",
   "nbconvert_exporter": "python",
   "pygments_lexer": "ipython3",
   "version": "3.10.4"
  },
  "orig_nbformat": 4
 },
 "nbformat": 4,
 "nbformat_minor": 2
}
