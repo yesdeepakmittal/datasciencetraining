{
 "cells": [
  {
   "attachments": {},
   "cell_type": "markdown",
   "metadata": {},
   "source": [
    "### Bayes Theorem\n",
    "\n",
    "P(A | B) = P(B | A) * P(A) /P(B)\n",
    "\n",
    "- Probability of getting Covid = 60%\n",
    "- People tested positive and have Covid(True Positive) = 90%\n",
    "- People test positive and do not have Covid(False Positive) = 10%\n",
    "\n",
    "If someone test positive, what is the probability that she actually has Covid?\n",
    "\n",
    "P(positive_given_covid)"
   ]
  },
  {
   "cell_type": "markdown",
   "metadata": {},
   "source": []
  }
 ],
 "metadata": {
  "kernelspec": {
   "display_name": "Python 3",
   "language": "python",
   "name": "python3"
  },
  "language_info": {
   "name": "python",
   "version": "3.11.1 (tags/v3.11.1:a7a450f, Dec  6 2022, 19:58:39) [MSC v.1934 64 bit (AMD64)]"
  },
  "orig_nbformat": 4,
  "vscode": {
   "interpreter": {
    "hash": "dbfb93579cd233f61bf7b1160072e941f3a008209323d76924e71308a0086e35"
   }
  }
 },
 "nbformat": 4,
 "nbformat_minor": 2
}
