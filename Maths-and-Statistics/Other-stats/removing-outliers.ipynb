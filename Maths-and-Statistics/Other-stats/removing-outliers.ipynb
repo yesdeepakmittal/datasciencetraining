{
 "cells": [
  {
   "cell_type": "code",
   "execution_count": 10,
   "metadata": {},
   "outputs": [],
   "source": [
    "import numpy as np\n",
    "\n",
    "data = np.random.exponential(10,100)"
   ]
  },
  {
   "cell_type": "code",
   "execution_count": 11,
   "metadata": {},
   "outputs": [],
   "source": [
    "q1 = np.quantile(data,0.25)\n",
    "q3 = np.quantile(data,0.75)\n",
    "outliers = []\n",
    "iqr = q3 - q1\n",
    "\n",
    "lower_fence = q1 - 1.5*iqr\n",
    "higher_fence = q3 + 1.5*iqr\n",
    "outliers.extend(data[data < lower_fence])\n",
    "outliers.extend(data[data > higher_fence])"
   ]
  },
  {
   "cell_type": "code",
   "execution_count": 12,
   "metadata": {},
   "outputs": [
    {
     "data": {
      "text/plain": [
       "[44.687127294359364,\n",
       " 44.06853006517808,\n",
       " 49.58662048633891,\n",
       " 46.635187308188826,\n",
       " 41.06585234064709]"
      ]
     },
     "execution_count": 12,
     "metadata": {},
     "output_type": "execute_result"
    }
   ],
   "source": [
    "outliers"
   ]
  }
 ],
 "metadata": {
  "kernelspec": {
   "display_name": "Python 3",
   "language": "python",
   "name": "python3"
  },
  "language_info": {
   "codemirror_mode": {
    "name": "ipython",
    "version": 3
   },
   "file_extension": ".py",
   "mimetype": "text/x-python",
   "name": "python",
   "nbconvert_exporter": "python",
   "pygments_lexer": "ipython3",
   "version": "3.11.1"
  },
  "orig_nbformat": 4,
  "vscode": {
   "interpreter": {
    "hash": "dbfb93579cd233f61bf7b1160072e941f3a008209323d76924e71308a0086e35"
   }
  }
 },
 "nbformat": 4,
 "nbformat_minor": 2
}
