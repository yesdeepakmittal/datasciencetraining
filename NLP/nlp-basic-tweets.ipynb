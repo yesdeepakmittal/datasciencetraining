{
  "nbformat": 4,
  "nbformat_minor": 0,
  "metadata": {
    "colab": {
      "provenance": []
    },
    "kernelspec": {
      "name": "python3",
      "display_name": "Python 3"
    },
    "language_info": {
      "name": "python"
    }
  },
  "cells": [
    {
      "cell_type": "code",
      "source": [
        "# !pip install snscrape\n",
        "\n",
        "import pandas as pd\n",
        "import snscrape.modules.twitter as sntwitter\n",
        "\n",
        "''' Fetching 50 recent tweets\n",
        "\n",
        "tweets_arr = []\n",
        "user_name = 'elonmusk'\n",
        "for i,tweet in enumerate(sntwitter.TwitterSearchScraper('from:{}'.format(user_name)).get_items()): \n",
        "    if i>50: \n",
        "        break\n",
        "    print(tweet.content)\n",
        "    # tweets_arr.append([tweet.date, tweet.id, tweet.content, tweet.user.username,\n",
        "                        # tweet.replyCount,tweet.retweetCount,tweet.likeCount,tweet.quoteCount,tweet.lang,tweet.source,tweet.mentionedUsers]) \n",
        "'''\n",
        "\n",
        "'''\n",
        "import os\n",
        "os.system(\"snscrape --jsonl --max-results 10 twitter-search 'from:elonmusk'> elon-tweets.json\")\n",
        "\n",
        "!ls\n",
        "'''"
      ],
      "metadata": {
        "id": "hiwMcE4LcVAn"
      },
      "execution_count": null,
      "outputs": []
    },
    {
      "cell_type": "code",
      "source": [
        "# !pip install nltk\n",
        "\n",
        "import nltk\n",
        "import re \n",
        "import string\n"
      ],
      "metadata": {
        "id": "NWKRlBTBivpt"
      },
      "execution_count": null,
      "outputs": []
    },
    {
      "cell_type": "code",
      "source": [
        "tw = next(sntwitter.TwitterSearchScraper('from:{}'.format('yesdeepakmittal')).get_items(),None)\n",
        "tw"
      ],
      "metadata": {
        "colab": {
          "base_uri": "https://localhost:8080/"
        },
        "id": "ob2TbgX93mn8",
        "outputId": "db850c86-4fa0-42b0-ab03-8812f6242885"
      },
      "execution_count": null,
      "outputs": [
        {
          "output_type": "execute_result",
          "data": {
            "text/plain": [
              "Tweet(url='https://twitter.com/yesdeepakmittal/status/1609258873390772224', date=datetime.datetime(2022, 12, 31, 18, 43, 8, tzinfo=datetime.timezone.utc), content='Happy New Year dosto 🙂', renderedContent='Happy New Year dosto 🙂', id=1609258873390772224, user=User(username='yesdeepakmittal', id=1153916176453513216, displayname='Deepak Mittal', description='Software Developer', rawDescription='Software Developer', descriptionUrls=None, verified=False, created=datetime.datetime(2019, 7, 24, 6, 33, 49, tzinfo=datetime.timezone.utc), followersCount=27, friendsCount=202, statusesCount=93, favouritesCount=207, listedCount=6, mediaCount=7, location='Noida, India', protected=False, linkUrl=None, linkTcourl=None, profileImageUrl='https://pbs.twimg.com/profile_images/1604107809712656384/35tZAXZh_normal.jpg', profileBannerUrl='https://pbs.twimg.com/profile_banners/1153916176453513216/1630471496', label=None), replyCount=0, retweetCount=0, likeCount=0, quoteCount=0, conversationId=1609258873390772224, lang='en', source='<a href=\"http://twitter.com/download/android\" rel=\"nofollow\">Twitter for Android</a>', sourceUrl='http://twitter.com/download/android', sourceLabel='Twitter for Android', outlinks=None, tcooutlinks=None, media=None, retweetedTweet=None, quotedTweet=None, inReplyToTweetId=None, inReplyToUser=None, mentionedUsers=None, coordinates=None, place=None, hashtags=None, cashtags=None)"
            ]
          },
          "metadata": {},
          "execution_count": 22
        }
      ]
    },
    {
      "cell_type": "code",
      "source": [
        "tw.user.username"
      ],
      "metadata": {
        "colab": {
          "base_uri": "https://localhost:8080/",
          "height": 35
        },
        "id": "KyXCHdbK4abR",
        "outputId": "0714ddf8-be81-4507-fdb8-b389fe08dea8"
      },
      "execution_count": null,
      "outputs": [
        {
          "output_type": "execute_result",
          "data": {
            "text/plain": [
              "'yesdeepakmittal'"
            ],
            "application/vnd.google.colaboratory.intrinsic+json": {
              "type": "string"
            }
          },
          "metadata": {},
          "execution_count": 23
        }
      ]
    },
    {
      "cell_type": "code",
      "source": [
        "tw.content"
      ],
      "metadata": {
        "colab": {
          "base_uri": "https://localhost:8080/",
          "height": 35
        },
        "id": "THy0nkAB5BTB",
        "outputId": "9e7d5127-5e2d-4867-be44-7e765f999d7a"
      },
      "execution_count": null,
      "outputs": [
        {
          "output_type": "execute_result",
          "data": {
            "text/plain": [
              "'Happy New Year dosto 🙂'"
            ],
            "application/vnd.google.colaboratory.intrinsic+json": {
              "type": "string"
            }
          },
          "metadata": {},
          "execution_count": 24
        }
      ]
    },
    {
      "cell_type": "code",
      "source": [
        "def clean_tweet(twt):\n",
        "  twt = re.sub(r'^RT[\\s]+','',twt)\n",
        "  twt = re.sub(r'https?:\\/\\/.*[\\r\\n]*','',twt)\n",
        "  twt = re.sub(r'#','',twt)\n",
        "  return twt\n",
        "\n",
        "twt = 'Testing my tweet on #something weird stuff https://twitter.com/yesdeepakmittal/status/1609258873390772224'\n",
        "clean_tweet(twt)"
      ],
      "metadata": {
        "colab": {
          "base_uri": "https://localhost:8080/",
          "height": 35
        },
        "id": "RtnIMLQW5zow",
        "outputId": "7b98b838-a51c-4707-8d75-9d80e78f5c35"
      },
      "execution_count": null,
      "outputs": [
        {
          "output_type": "execute_result",
          "data": {
            "text/plain": [
              "'Testing my tweet on something weird stuff '"
            ],
            "application/vnd.google.colaboratory.intrinsic+json": {
              "type": "string"
            }
          },
          "metadata": {},
          "execution_count": 29
        }
      ]
    },
    {
      "cell_type": "markdown",
      "source": [
        "### Tokenization"
      ],
      "metadata": {
        "id": "Y_Su973EDp-9"
      }
    },
    {
      "cell_type": "code",
      "source": [
        "from nltk.corpus import stopwords\n",
        "from nltk.stem import PorterStemmer\n",
        "from nltk.tokenize import TweetTokenizer\n",
        "\n",
        "tokenizer = TweetTokenizer(preserve_case=False,\n",
        "                           strip_handles=True,\n",
        "                           reduce_len=True)\n",
        "tokenizer.tokenize(twt)"
      ],
      "metadata": {
        "id": "WPmOrzEXAnJ_"
      },
      "execution_count": null,
      "outputs": []
    },
    {
      "cell_type": "code",
      "source": [
        "nltk.download('stopwords')\n",
        "\n",
        "print(stopwords.words(\"english\")[:15])\n",
        "len(stopwords.words(\"english\"))"
      ],
      "metadata": {
        "colab": {
          "base_uri": "https://localhost:8080/"
        },
        "id": "dTvYq4BkEZyD",
        "outputId": "a7b31f6c-49b0-4120-b268-296aaf1bb300"
      },
      "execution_count": null,
      "outputs": [
        {
          "output_type": "stream",
          "name": "stdout",
          "text": [
            "['i', 'me', 'my', 'myself', 'we', 'our', 'ours', 'ourselves', 'you', \"you're\", \"you've\", \"you'll\", \"you'd\", 'your', 'yours']\n"
          ]
        },
        {
          "output_type": "stream",
          "name": "stderr",
          "text": [
            "[nltk_data] Downloading package stopwords to /root/nltk_data...\n",
            "[nltk_data]   Package stopwords is already up-to-date!\n"
          ]
        },
        {
          "output_type": "execute_result",
          "data": {
            "text/plain": [
              "179"
            ]
          },
          "metadata": {},
          "execution_count": 36
        }
      ]
    },
    {
      "cell_type": "code",
      "source": [
        "string.punctuation"
      ],
      "metadata": {
        "colab": {
          "base_uri": "https://localhost:8080/",
          "height": 35
        },
        "id": "k8r81TT7FbuL",
        "outputId": "b655baef-bb76-4cba-c3b0-a9d258516543"
      },
      "execution_count": null,
      "outputs": [
        {
          "output_type": "execute_result",
          "data": {
            "text/plain": [
              "'!\"#$%&\\'()*+,-./:;<=>?@[\\\\]^_`{|}~'"
            ],
            "application/vnd.google.colaboratory.intrinsic+json": {
              "type": "string"
            }
          },
          "metadata": {},
          "execution_count": 35
        }
      ]
    },
    {
      "cell_type": "code",
      "source": [
        "stopwords_set = set(stopwords.words(\"english\"))\n",
        "punctuations = set(string.punctuation)\n",
        "\n",
        "result = []\n",
        "for w in tokenizer.tokenize(twt):\n",
        "  if (w not in stopwords_set) and (w not in punctuations):\n",
        "    result.append(w)\n",
        "\n",
        "'result after tokenization:',result"
      ],
      "metadata": {
        "colab": {
          "base_uri": "https://localhost:8080/"
        },
        "id": "nhOU_xS8GAzf",
        "outputId": "1c6199c3-59cf-4011-f439-3b18f5a012df"
      },
      "execution_count": null,
      "outputs": [
        {
          "output_type": "execute_result",
          "data": {
            "text/plain": [
              "('result after tokenization:',\n",
              " ['testing',\n",
              "  'tweet',\n",
              "  '#something',\n",
              "  'weird',\n",
              "  'stuff',\n",
              "  'https://twitter.com/yesdeepakmittal/status/1609258873390772224'])"
            ]
          },
          "metadata": {},
          "execution_count": 42
        }
      ]
    },
    {
      "cell_type": "code",
      "source": [],
      "metadata": {
        "id": "rUcHoZPQX4Zx"
      },
      "execution_count": null,
      "outputs": []
    },
    {
      "cell_type": "markdown",
      "source": [
        "### Stemming"
      ],
      "metadata": {
        "id": "a0RbYrBaKWVv"
      }
    },
    {
      "cell_type": "code",
      "source": [
        "stemmer = PorterStemmer()\n",
        "\n",
        "'result after stemming & tokenizaton:',' '.join([stemmer.stem(w) for w in result])"
      ],
      "metadata": {
        "colab": {
          "base_uri": "https://localhost:8080/"
        },
        "id": "hRI6xZdzJBCU",
        "outputId": "43f6d891-2bf9-401c-bdb9-a5a5bd49d175"
      },
      "execution_count": null,
      "outputs": [
        {
          "output_type": "execute_result",
          "data": {
            "text/plain": [
              "('result after stemming & tokenizaton:',\n",
              " 'test tweet #someth weird stuff https://twitter.com/yesdeepakmittal/status/1609258873390772224')"
            ]
          },
          "metadata": {},
          "execution_count": 41
        }
      ]
    },
    {
      "cell_type": "code",
      "source": [],
      "metadata": {
        "id": "IYT-_-IYKiJF"
      },
      "execution_count": null,
      "outputs": []
    }
  ]
}