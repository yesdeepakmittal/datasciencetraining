{
 "cells": [
  {
   "cell_type": "code",
   "execution_count": 14,
   "metadata": {},
   "outputs": [
    {
     "name": "stdout",
     "output_type": "stream",
     "text": [
      "HTTP/1.1 200 OK\n",
      "date: Fri, 20 Jan 2023 11:14:34 GMT\n",
      "server: uvicorn\n",
      "content-length: 145\n",
      "content-type: application/json\n",
      "\n",
      "[{\"roll_no\":1,\"name\":\"Deepak\",\"city\":\"Meerut\"},{\"roll_no\":2,\"name\":\"Avika\",\"city\":\"Meerut\"},{\"roll_no\":3,\"name\":\"Kamini-Sharma\",\"city\":\"Meerut\"}]\n"
     ]
    },
    {
     "name": "stderr",
     "output_type": "stream",
     "text": [
      "  % Total    % Received % Xferd  Average Speed   Time    Time     Time  Current\n",
      "                                 Dload  Upload   Total   Spent    Left  Speed\n",
      "\n",
      "  0     0    0     0    0     0      0      0 --:--:-- --:--:-- --:--:--     0\n",
      "100   145  100   145    0     0  47231      0 --:--:-- --:--:-- --:--:-- 72500\n"
     ]
    }
   ],
   "source": [
    "!curl -i http://127.0.0.1:8000/students -X GET "
   ]
  },
  {
   "cell_type": "code",
   "execution_count": 25,
   "metadata": {},
   "outputs": [
    {
     "data": {
      "text/plain": [
       "<Response [201]>"
      ]
     },
     "execution_count": 25,
     "metadata": {},
     "output_type": "execute_result"
    }
   ],
   "source": [
    "import requests,json\n",
    "\n",
    "headers = {'Content-type': 'application/json'}\n",
    "data = {\n",
    "    'name':'DK',\n",
    "    'city':'Meerut'\n",
    "}\n",
    "\n",
    "requests.post('http://127.0.0.1:8000/students',data= json.dumps(data),headers=headers)"
   ]
  },
  {
   "cell_type": "code",
   "execution_count": null,
   "metadata": {},
   "outputs": [],
   "source": [
    "_ = '''!curl -i http://127.0.0.1:5000/students -X POST -H 'Content-Type: application/json' -d '{\"name\":\"Deepak\",\"city\":\"Meerut\"}'     '''"
   ]
  },
  {
   "cell_type": "code",
   "execution_count": 28,
   "metadata": {},
   "outputs": [
    {
     "data": {
      "text/plain": [
       "<Response [404]>"
      ]
     },
     "execution_count": 28,
     "metadata": {},
     "output_type": "execute_result"
    }
   ],
   "source": [
    "requests.delete('http://127.0.0.1:8000/students/3')"
   ]
  },
  {
   "cell_type": "code",
   "execution_count": 26,
   "metadata": {},
   "outputs": [
    {
     "name": "stdout",
     "output_type": "stream",
     "text": [
      "HTTP/1.1 404 Not Found\n",
      "date: Fri, 20 Jan 2023 11:27:06 GMT\n",
      "server: uvicorn\n",
      "content-length: 22\n",
      "content-type: application/json\n",
      "\n",
      "{\"detail\":\"Not Found\"}\n"
     ]
    },
    {
     "name": "stderr",
     "output_type": "stream",
     "text": [
      "  % Total    % Received % Xferd  Average Speed   Time    Time     Time  Current\n",
      "                                 Dload  Upload   Total   Spent    Left  Speed\n",
      "\n",
      "  0     0    0     0    0     0      0      0 --:--:-- --:--:-- --:--:--     0\n",
      "100    22  100    22    0     0   8365      0 --:--:-- --:--:-- --:--:-- 11000\n"
     ]
    }
   ],
   "source": [
    "!curl -i http://127.0.0.1:8000/students/4 -X DELETE"
   ]
  },
  {
   "cell_type": "code",
   "execution_count": null,
   "metadata": {},
   "outputs": [],
   "source": []
  }
 ],
 "metadata": {
  "kernelspec": {
   "display_name": "Python 3",
   "language": "python",
   "name": "python3"
  },
  "language_info": {
   "codemirror_mode": {
    "name": "ipython",
    "version": 3
   },
   "file_extension": ".py",
   "mimetype": "text/x-python",
   "name": "python",
   "nbconvert_exporter": "python",
   "pygments_lexer": "ipython3",
   "version": "3.11.1"
  },
  "orig_nbformat": 4,
  "vscode": {
   "interpreter": {
    "hash": "dbfb93579cd233f61bf7b1160072e941f3a008209323d76924e71308a0086e35"
   }
  }
 },
 "nbformat": 4,
 "nbformat_minor": 2
}
