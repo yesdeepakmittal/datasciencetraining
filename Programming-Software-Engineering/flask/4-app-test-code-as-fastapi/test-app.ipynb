{
 "cells": [
  {
   "cell_type": "code",
   "execution_count": null,
   "metadata": {},
   "outputs": [
    {
     "name": "stdout",
     "output_type": "stream",
     "text": [
      "HTTP/1.1 200 OK\n",
      "Server: Werkzeug/2.2.2 Python/3.11.1\n",
      "Date: Fri, 20 Jan 2023 07:04:36 GMT\n",
      "Content-Type: application/json\n",
      "Content-Length: 192\n",
      "Connection: close\n",
      "\n",
      "[{\"city\":\"Meerut\",\"name\":\"Deepak\",\"roll_no\":1},{\"city\":\"Meerut\",\"name\":\"Avika\",\"roll_no\":2},{\"city\":\"Meerut\",\"name\":\"Kamini-Sharma\",\"roll_no\":3},{\"city\":\"Meerut\",\"name\":\"Deepak\",\"roll_no\":4}]\n"
     ]
    },
    {
     "name": "stderr",
     "output_type": "stream",
     "text": [
      "  % Total    % Received % Xferd  Average Speed   Time    Time     Time  Current\n",
      "                                 Dload  Upload   Total   Spent    Left  Speed\n",
      "\n",
      "  0     0    0     0    0     0      0      0 --:--:-- --:--:-- --:--:--     0\n",
      "100   192  100   192    0     0  87431      0 --:--:-- --:--:-- --:--:--  187k\n"
     ]
    }
   ],
   "source": [
    "!curl -i http://127.0.0.1:5000/students -X GET "
   ]
  },
  {
   "cell_type": "code",
   "execution_count": null,
   "metadata": {},
   "outputs": [
    {
     "data": {
      "text/plain": [
       "<Response [201]>"
      ]
     },
     "metadata": {},
     "output_type": "display_data"
    }
   ],
   "source": [
    "import requests,json\n",
    "\n",
    "headers = {'Content-type': 'application/json'}\n",
    "data = {\n",
    "    'name':'DK',\n",
    "    'city':'Meerut'\n",
    "}\n",
    "\n",
    "requests.post('http://127.0.0.1:5000/students',data= json.dumps(data),headers=headers)"
   ]
  },
  {
   "cell_type": "code",
   "execution_count": null,
   "metadata": {},
   "outputs": [],
   "source": [
    "_ = '''!curl -i http://127.0.0.1:5000/students -X POST -H 'Content-Type: application/json' -d '{\"name\":\"Deepak\",\"city\":\"Meerut\"}'     '''"
   ]
  },
  {
   "cell_type": "code",
   "execution_count": null,
   "metadata": {},
   "outputs": [
    {
     "data": {
      "text/plain": [
       "<Response [200]>"
      ]
     },
     "metadata": {},
     "output_type": "display_data"
    }
   ],
   "source": [
    "requests.delete('http://127.0.0.1:5000/students/4')"
   ]
  },
  {
   "cell_type": "code",
   "execution_count": null,
   "metadata": {},
   "outputs": [
    {
     "name": "stdout",
     "output_type": "stream",
     "text": [
      "HTTP/1.1 200 OK\n",
      "Server: Werkzeug/2.2.2 Python/3.11.1\n",
      "Date: Fri, 20 Jan 2023 07:13:30 GMT\n",
      "Content-Type: text/html; charset=utf-8\n",
      "Content-Length: 5\n",
      "Connection: close\n",
      "\n",
      "happy\n"
     ]
    },
    {
     "name": "stderr",
     "output_type": "stream",
     "text": [
      "  % Total    % Received % Xferd  Average Speed   Time    Time     Time  Current\n",
      "                                 Dload  Upload   Total   Spent    Left  Speed\n",
      "\n",
      "  0     0    0     0    0     0      0      0 --:--:-- --:--:-- --:--:--     0\n",
      "100     5  100     5    0     0   1807      0 --:--:-- --:--:-- --:--:--  2500\n"
     ]
    }
   ],
   "source": [
    "!curl -i http://127.0.0.1:5000/students/5 -X DELETE"
   ]
  }
 ],
 "metadata": {
  "kernelspec": {
   "display_name": "Python 3",
   "language": "python",
   "name": "python3"
  },
  "language_info": {
   "name": "python",
   "version": "3.11.1 (tags/v3.11.1:a7a450f, Dec  6 2022, 19:58:39) [MSC v.1934 64 bit (AMD64)]"
  },
  "orig_nbformat": 4,
  "vscode": {
   "interpreter": {
    "hash": "dbfb93579cd233f61bf7b1160072e941f3a008209323d76924e71308a0086e35"
   }
  }
 },
 "nbformat": 4,
 "nbformat_minor": 2
}
