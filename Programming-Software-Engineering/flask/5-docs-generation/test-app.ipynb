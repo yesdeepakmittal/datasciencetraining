{
 "cells": [
  {
   "cell_type": "code",
   "execution_count": 18,
   "metadata": {},
   "outputs": [
    {
     "name": "stdout",
     "output_type": "stream",
     "text": [
      "HTTP/1.1 200 OK\n",
      "Server: Werkzeug/2.2.2 Python/3.11.1\n",
      "Date: Sat, 21 Jan 2023 05:41:56 GMT\n",
      "Content-Type: application/json\n",
      "Content-Length: 426\n",
      "Connection: close\n",
      "\n",
      "[\n",
      "  {\n",
      "    \"city\": \"Meerut\",\n",
      "    \"name\": \"Deepak\",\n",
      "    \"roll_no\": 1\n",
      "  },\n",
      "  {\n",
      "    \"city\": \"Meerut\",\n",
      "    \"name\": \"Avika\",\n",
      "    \"roll_no\": 2\n",
      "  },\n",
      "  {\n",
      "    \"city\": \"Meerut\",\n",
      "    \"name\": \"Kamini-Sharma\",\n",
      "    \"roll_no\": 3\n",
      "  },\n",
      "  {\n",
      "    \"city\": \"city\",\n",
      "    \"name\": \"name\",\n",
      "    \"roll_no\": 4\n",
      "  },\n",
      "  {\n",
      "    \"city\": \"Kotdwar\",\n",
      "    \"name\": \"Garima\",\n",
      "    \"roll_no\": 5\n",
      "  },\n",
      "  {\n",
      "    \"city\": \"Kotdwar\",\n",
      "    \"name\": \"name2\",\n",
      "    \"roll_no\": 6\n",
      "  }\n",
      "]\n"
     ]
    },
    {
     "name": "stderr",
     "output_type": "stream",
     "text": [
      "  % Total    % Received % Xferd  Average Speed   Time    Time     Time  Current\n",
      "                                 Dload  Upload   Total   Spent    Left  Speed\n",
      "\n",
      "  0     0    0     0    0     0      0      0 --:--:-- --:--:-- --:--:--     0\n",
      "100   426  100   426    0     0  96249      0 --:--:-- --:--:-- --:--:--  138k\n"
     ]
    }
   ],
   "source": [
    "!curl -i http://127.0.0.1:5000/myapi/students -X GET "
   ]
  },
  {
   "cell_type": "code",
   "execution_count": 26,
   "metadata": {},
   "outputs": [
    {
     "data": {
      "text/plain": [
       "<Response [201]>"
      ]
     },
     "execution_count": 26,
     "metadata": {},
     "output_type": "execute_result"
    }
   ],
   "source": [
    "import requests,json\n",
    "\n",
    "headers = {'Content-type': 'application/json'}\n",
    "data = {\n",
    "    'name':'name2',\n",
    "    'city':'Kotdwar'\n",
    "}\n",
    "\n",
    "requests.post('http://127.0.0.1:5000/myapi/students',data= json.dumps(data),headers=headers)"
   ]
  },
  {
   "cell_type": "code",
   "execution_count": 24,
   "metadata": {},
   "outputs": [
    {
     "data": {
      "text/plain": [
       "<Response [500]>"
      ]
     },
     "execution_count": 24,
     "metadata": {},
     "output_type": "execute_result"
    }
   ],
   "source": [
    "headers = {'Content-type': 'application/json'}\n",
    "data = {\n",
    "    'name':'Kamini Ji',\n",
    "    'city':'Meerut'\n",
    "}\n",
    "\n",
    "requests.put('http://127.0.0.1:5000/myapi/students/3',data= json.dumps(data),headers=headers)"
   ]
  },
  {
   "cell_type": "code",
   "execution_count": 25,
   "metadata": {},
   "outputs": [
    {
     "data": {
      "text/plain": [
       "<Response [200]>"
      ]
     },
     "execution_count": 25,
     "metadata": {},
     "output_type": "execute_result"
    }
   ],
   "source": [
    "requests.delete('http://127.0.0.1:5000/myapi/students/4')"
   ]
  },
  {
   "cell_type": "code",
   "execution_count": 27,
   "metadata": {},
   "outputs": [
    {
     "name": "stdout",
     "output_type": "stream",
     "text": [
      "HTTP/1.1 200 OK\n",
      "Server: Werkzeug/2.2.2 Python/3.11.1\n",
      "Date: Sat, 21 Jan 2023 10:36:59 GMT\n",
      "Content-Type: application/json\n",
      "Content-Length: 25\n",
      "Connection: close\n",
      "\n",
      "\"Mai delete nhi krunga!\"\n"
     ]
    },
    {
     "name": "stderr",
     "output_type": "stream",
     "text": [
      "  % Total    % Received % Xferd  Average Speed   Time    Time     Time  Current\n",
      "                                 Dload  Upload   Total   Spent    Left  Speed\n",
      "\n",
      "  0     0    0     0    0     0      0      0 --:--:-- --:--:-- --:--:--     0\n",
      "100    25  100    25    0     0   9051      0 --:--:-- --:--:-- --:--:-- 12500\n"
     ]
    }
   ],
   "source": [
    "!curl -i http://127.0.0.1:5000/myapi/students/4 -X DELETE"
   ]
  }
 ],
 "metadata": {
  "kernelspec": {
   "display_name": "Python 3",
   "language": "python",
   "name": "python3"
  },
  "language_info": {
   "codemirror_mode": {
    "name": "ipython",
    "version": 3
   },
   "file_extension": ".py",
   "mimetype": "text/x-python",
   "name": "python",
   "nbconvert_exporter": "python",
   "pygments_lexer": "ipython3",
   "version": "3.11.1"
  },
  "orig_nbformat": 4,
  "vscode": {
   "interpreter": {
    "hash": "dbfb93579cd233f61bf7b1160072e941f3a008209323d76924e71308a0086e35"
   }
  }
 },
 "nbformat": 4,
 "nbformat_minor": 2
}
