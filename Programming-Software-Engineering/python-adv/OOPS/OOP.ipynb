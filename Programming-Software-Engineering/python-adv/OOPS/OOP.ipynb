{
  "nbformat": 4,
  "nbformat_minor": 0,
  "metadata": {
    "colab": {
      "provenance": []
    },
    "kernelspec": {
      "name": "python3",
      "display_name": "Python 3"
    },
    "language_info": {
      "name": "python"
    }
  },
  "cells": [
    {
      "cell_type": "code",
      "source": [
        "'''\n",
        "    Python does not have private method functionality but conventionally methods are represented by an underscore as prefix\n",
        "    Ex: _mera_pen() \n",
        "\n",
        "    - https://docs.python.org/3/reference/datamodel.html#special-method-names\n",
        "'''\n",
        "\n",
        "class Bank:\n",
        "    def __new__(cls,number,balance):   # new dunder method is the constructor of this class\n",
        "        print('Instance of my class is being created!')\n",
        "    def __init__(self,number,balance) -> None:  #init(dunder method) is used to set default property & it is not a constructor\n",
        "        print('inside init')\n",
        "        self.number = number\n",
        "        self.balance_init = balance\n",
        "\n",
        "my_bank = Bank(1,2)"
      ],
      "metadata": {
        "colab": {
          "base_uri": "https://localhost:8080/"
        },
        "id": "SphU1KrQbfeL",
        "outputId": "c779e6c1-8c43-40d8-baef-8a9b46fee112"
      },
      "execution_count": 115,
      "outputs": [
        {
          "output_type": "stream",
          "name": "stdout",
          "text": [
            "Instance of my class is being created!\n"
          ]
        }
      ]
    },
    {
      "cell_type": "code",
      "source": [
        "class Abc:\n",
        "  def __init__(self):\n",
        "    pass\n",
        "\n",
        "obj = Abc()\n",
        "obj                 # without __repr__() method, this is how object is presented"
      ],
      "metadata": {
        "colab": {
          "base_uri": "https://localhost:8080/"
        },
        "id": "iq2tCOuDkhjb",
        "outputId": "418afbbb-c9ce-45bc-9276-0a1278eb6930"
      },
      "execution_count": 116,
      "outputs": [
        {
          "output_type": "execute_result",
          "data": {
            "text/plain": [
              "<__main__.Abc at 0x7f5b5f9f7a60>"
            ]
          },
          "metadata": {},
          "execution_count": 116
        }
      ]
    },
    {
      "cell_type": "code",
      "source": [
        "class Abc2:\n",
        "  def __init__(self):\n",
        "    pass\n",
        "  \n",
        "  def __repr__(self):\n",
        "    return \"My pretty existence now!\"\n",
        "\n",
        "obj = Abc2()\n",
        "obj                   # with __repr__() magic fn declared in class definition"
      ],
      "metadata": {
        "colab": {
          "base_uri": "https://localhost:8080/"
        },
        "id": "6hZWVJGTkxVb",
        "outputId": "621c48a4-0c0d-49a6-80f4-2922fc0343ad"
      },
      "execution_count": 117,
      "outputs": [
        {
          "output_type": "execute_result",
          "data": {
            "text/plain": [
              "My pretty existence now!"
            ]
          },
          "metadata": {},
          "execution_count": 117
        }
      ]
    },
    {
      "cell_type": "code",
      "source": [
        "class Account:\n",
        "  def __init__(self,branch,code):\n",
        "    self.branch = branch\n",
        "    self.code = code\n",
        "\n",
        "  # Magic functions\n",
        "  def __repr__(self):\n",
        "    return f\"Bank brach name is {self.branch}\"\n",
        "  \n",
        "  def __str__(self):\n",
        "    return 'Bank code is {}'.format(self.code)\n",
        "\n",
        "ac = Account('Meerut',23)\n",
        "print(repr(ac))\n",
        "print(str(ac))\n",
        "print(ac)           # By default it will call __repr__() magic function"
      ],
      "metadata": {
        "colab": {
          "base_uri": "https://localhost:8080/"
        },
        "id": "z5A2c-eOcMFH",
        "outputId": "31e0d0ce-f565-4c91-e037-21e16d5197ce"
      },
      "execution_count": 118,
      "outputs": [
        {
          "output_type": "stream",
          "name": "stdout",
          "text": [
            "Bank brach name is Meerut\n",
            "Bank code is 23\n",
            "Bank code is 23\n"
          ]
        }
      ]
    },
    {
      "cell_type": "code",
      "source": [
        "class Balance(Account):   # inheriting class Account\n",
        "  def __init__(self,branch,code,koi_value):\n",
        "    super().__init__(branch,code)     # instantiating class Account\n",
        "\n",
        "    self.koi_value = koi_value\n",
        "  \n",
        "  def __eq__(self,some_random_value):\n",
        "    return 'Is Equal? [' + str(self.koi_value) + '] '+ str(self.koi_value == some_random_value)\n",
        "\n",
        "  def __gt__(self,some_random_value):\n",
        "    return self.koi_value > some_random_value\n",
        "    "
      ],
      "metadata": {
        "id": "a2w7FjcYhFzT"
      },
      "execution_count": 91,
      "outputs": []
    },
    {
      "cell_type": "code",
      "source": [
        "a99 = Balance('Branch Name','Branch Code',99)\n",
        "a99.code"
      ],
      "metadata": {
        "colab": {
          "base_uri": "https://localhost:8080/",
          "height": 35
        },
        "id": "dTzL6a_iiAFM",
        "outputId": "7a592983-1532-4487-a214-c63a04634be9"
      },
      "execution_count": 98,
      "outputs": [
        {
          "output_type": "execute_result",
          "data": {
            "text/plain": [
              "'Branch Code'"
            ],
            "application/vnd.google.colaboratory.intrinsic+json": {
              "type": "string"
            }
          },
          "metadata": {},
          "execution_count": 98
        }
      ]
    },
    {
      "cell_type": "code",
      "source": [
        "a88 = Balance('Branch Name','Branch Code',88)\n",
        "\n",
        "a99 == a88"
      ],
      "metadata": {
        "colab": {
          "base_uri": "https://localhost:8080/",
          "height": 35
        },
        "id": "C864fOXUiC8G",
        "outputId": "90d84447-ec1e-4de9-abbf-db4a195115a1"
      },
      "execution_count": 101,
      "outputs": [
        {
          "output_type": "execute_result",
          "data": {
            "text/plain": [
              "'Is Equal? [99] Is Equal? [88] False'"
            ],
            "application/vnd.google.colaboratory.intrinsic+json": {
              "type": "string"
            }
          },
          "metadata": {},
          "execution_count": 101
        }
      ]
    },
    {
      "cell_type": "code",
      "source": [
        "a88 == a99"
      ],
      "metadata": {
        "colab": {
          "base_uri": "https://localhost:8080/",
          "height": 35
        },
        "id": "rusIgKaqm4f4",
        "outputId": "d7fa9af7-e23e-4058-e3ad-aab539201ce1"
      },
      "execution_count": 102,
      "outputs": [
        {
          "output_type": "execute_result",
          "data": {
            "text/plain": [
              "'Is Equal? [88] Is Equal? [99] False'"
            ],
            "application/vnd.google.colaboratory.intrinsic+json": {
              "type": "string"
            }
          },
          "metadata": {},
          "execution_count": 102
        }
      ]
    },
    {
      "cell_type": "code",
      "source": [
        "a99 > a88.koi_value"
      ],
      "metadata": {
        "colab": {
          "base_uri": "https://localhost:8080/"
        },
        "id": "F9ouKZvNn21M",
        "outputId": "51ec33a6-51af-409d-e69f-f5052511f3e6"
      },
      "execution_count": 103,
      "outputs": [
        {
          "output_type": "execute_result",
          "data": {
            "text/plain": [
              "True"
            ]
          },
          "metadata": {},
          "execution_count": 103
        }
      ]
    },
    {
      "cell_type": "code",
      "source": [
        "isinstance(a99,Balance)"
      ],
      "metadata": {
        "colab": {
          "base_uri": "https://localhost:8080/"
        },
        "id": "E_BrFs-spGiX",
        "outputId": "ba06569d-8355-45f2-8c7e-0c3fd8bca981"
      },
      "execution_count": 104,
      "outputs": [
        {
          "output_type": "execute_result",
          "data": {
            "text/plain": [
              "True"
            ]
          },
          "metadata": {},
          "execution_count": 104
        }
      ]
    },
    {
      "cell_type": "code",
      "source": [
        "isinstance(a88,Balance)"
      ],
      "metadata": {
        "colab": {
          "base_uri": "https://localhost:8080/"
        },
        "id": "I7v3WPRdqWm5",
        "outputId": "60ce5855-d5a9-4f24-896e-1c74839b51c1"
      },
      "execution_count": 105,
      "outputs": [
        {
          "output_type": "execute_result",
          "data": {
            "text/plain": [
              "True"
            ]
          },
          "metadata": {},
          "execution_count": 105
        }
      ]
    },
    {
      "cell_type": "code",
      "source": [
        "class CountMe:\n",
        "  def __init__(self):\n",
        "    self.cnt = 0\n",
        "\n",
        "  def __call__(self,value=1):\n",
        "    self.cnt = self.cnt + value\n",
        "\n",
        "obj = CountMe()\n",
        "obj.cnt"
      ],
      "metadata": {
        "colab": {
          "base_uri": "https://localhost:8080/"
        },
        "id": "LeYmSxjkqcLp",
        "outputId": "685d2749-98c6-41aa-a6cc-328ff8bc372f"
      },
      "execution_count": 106,
      "outputs": [
        {
          "output_type": "execute_result",
          "data": {
            "text/plain": [
              "0"
            ]
          },
          "metadata": {},
          "execution_count": 106
        }
      ]
    },
    {
      "cell_type": "code",
      "source": [
        "obj()\n",
        "obj.cnt"
      ],
      "metadata": {
        "colab": {
          "base_uri": "https://localhost:8080/"
        },
        "id": "UJVfZ23u2DSx",
        "outputId": "f66edaad-2635-4c4f-c002-fb7426a8ac28"
      },
      "execution_count": 107,
      "outputs": [
        {
          "output_type": "execute_result",
          "data": {
            "text/plain": [
              "1"
            ]
          },
          "metadata": {},
          "execution_count": 107
        }
      ]
    },
    {
      "cell_type": "code",
      "source": [
        "obj(3)\n",
        "obj.cnt"
      ],
      "metadata": {
        "colab": {
          "base_uri": "https://localhost:8080/"
        },
        "id": "rFdcMphI2GRV",
        "outputId": "2bca7943-c4af-49f7-beb2-2931e744eb04"
      },
      "execution_count": 108,
      "outputs": [
        {
          "output_type": "execute_result",
          "data": {
            "text/plain": [
              "4"
            ]
          },
          "metadata": {},
          "execution_count": 108
        }
      ]
    },
    {
      "cell_type": "code",
      "source": [
        "obj()\n",
        "obj.cnt"
      ],
      "metadata": {
        "colab": {
          "base_uri": "https://localhost:8080/"
        },
        "id": "_-1oHV522KKQ",
        "outputId": "796b8d7f-74d8-47f8-a158-0ac8a9828870"
      },
      "execution_count": 109,
      "outputs": [
        {
          "output_type": "execute_result",
          "data": {
            "text/plain": [
              "5"
            ]
          },
          "metadata": {},
          "execution_count": 109
        }
      ]
    },
    {
      "cell_type": "code",
      "source": [
        "class Parent:\n",
        "  def __init__(self):\n",
        "    pass\n",
        "\n",
        "  def awesome_fn(self):\n",
        "    return \"I'm Parent, You're not!\"\n",
        "\n",
        "class Child(Parent):\n",
        "  def awesome_fn(self,var: bool):\n",
        "    if var:\n",
        "      return \"I'm Child, You're not!\"\n",
        "    return super().awesome_fn()\n",
        "\n",
        "obj = Child()\n",
        "obj.awesome_fn(True)"
      ],
      "metadata": {
        "colab": {
          "base_uri": "https://localhost:8080/",
          "height": 35
        },
        "id": "qNdqZWcR2PSr",
        "outputId": "cfccae4a-8f4a-4fea-beed-9a2f7efc6306"
      },
      "execution_count": 121,
      "outputs": [
        {
          "output_type": "execute_result",
          "data": {
            "text/plain": [
              "\"I'm Child, You're not!\""
            ],
            "application/vnd.google.colaboratory.intrinsic+json": {
              "type": "string"
            }
          },
          "metadata": {},
          "execution_count": 121
        }
      ]
    },
    {
      "cell_type": "code",
      "source": [
        "obj.awesome_fn(False)"
      ],
      "metadata": {
        "colab": {
          "base_uri": "https://localhost:8080/",
          "height": 35
        },
        "id": "fgsobgl04VBk",
        "outputId": "a6102db7-44bf-4995-8c5c-38c8287b9fda"
      },
      "execution_count": 122,
      "outputs": [
        {
          "output_type": "execute_result",
          "data": {
            "text/plain": [
              "\"I'm Parent, You're not!\""
            ],
            "application/vnd.google.colaboratory.intrinsic+json": {
              "type": "string"
            }
          },
          "metadata": {},
          "execution_count": 122
        }
      ]
    },
    {
      "cell_type": "code",
      "source": [
        "# Multiple Inheritance\n",
        "\n",
        "class Parent1:\n",
        "  def parent1_fn(self):\n",
        "    return 'calling parent1_fn'\n",
        "\n",
        "class Parent2:\n",
        "  def parent2_fn(self):\n",
        "    return 'calling parent2_fn'\n",
        "\n",
        "class Child(Parent1,Parent2):\n",
        "  pass\n",
        "\n",
        "obj = Child()\n",
        "obj.parent1_fn()"
      ],
      "metadata": {
        "colab": {
          "base_uri": "https://localhost:8080/",
          "height": 35
        },
        "id": "Lmq6irgy4qNd",
        "outputId": "fc0b3288-93bb-4881-ac05-1a9fad47b950"
      },
      "execution_count": 123,
      "outputs": [
        {
          "output_type": "execute_result",
          "data": {
            "text/plain": [
              "'calling parent1_fn'"
            ],
            "application/vnd.google.colaboratory.intrinsic+json": {
              "type": "string"
            }
          },
          "metadata": {},
          "execution_count": 123
        }
      ]
    },
    {
      "cell_type": "code",
      "source": [
        "obj.parent2_fn()"
      ],
      "metadata": {
        "colab": {
          "base_uri": "https://localhost:8080/",
          "height": 35
        },
        "id": "pHvPM21N5oJQ",
        "outputId": "40ebfd12-a031-48ba-b950-ce49a55750f1"
      },
      "execution_count": 124,
      "outputs": [
        {
          "output_type": "execute_result",
          "data": {
            "text/plain": [
              "'calling parent2_fn'"
            ],
            "application/vnd.google.colaboratory.intrinsic+json": {
              "type": "string"
            }
          },
          "metadata": {},
          "execution_count": 124
        }
      ]
    },
    {
      "cell_type": "code",
      "source": [
        "# class precedence list(Method Resolution Order) - https://www.python.org/download/releases/2.3/mro/\n",
        "\n",
        "class Parent1:\n",
        "  def parent(self):\n",
        "    return 'calling parent1'\n",
        "  \n",
        "class Parent2:\n",
        "  def parent(self):\n",
        "    return 'calling_parent2'"
      ],
      "metadata": {
        "id": "hC6h9jhR5qyV"
      },
      "execution_count": 135,
      "outputs": []
    },
    {
      "cell_type": "code",
      "source": [
        "class Child(Parent1,Parent2):\n",
        "  pass\n",
        "\n",
        "obj = Child()\n",
        "obj.parent()"
      ],
      "metadata": {
        "colab": {
          "base_uri": "https://localhost:8080/",
          "height": 35
        },
        "id": "bvPQ9W18AF6a",
        "outputId": "3a57ec5a-e191-4592-f66c-888926e1fa62"
      },
      "execution_count": 139,
      "outputs": [
        {
          "output_type": "execute_result",
          "data": {
            "text/plain": [
              "'calling parent1'"
            ],
            "application/vnd.google.colaboratory.intrinsic+json": {
              "type": "string"
            }
          },
          "metadata": {},
          "execution_count": 139
        }
      ]
    },
    {
      "cell_type": "code",
      "source": [
        "class Child(Parent2,Parent1):\n",
        "  pass\n",
        "\n",
        "obj = Child()\n",
        "obj.parent()"
      ],
      "metadata": {
        "colab": {
          "base_uri": "https://localhost:8080/",
          "height": 35
        },
        "id": "1vqO8K0C78Uh",
        "outputId": "36e2d729-6d69-4bf3-92c9-8019f73f363b"
      },
      "execution_count": 140,
      "outputs": [
        {
          "output_type": "execute_result",
          "data": {
            "text/plain": [
              "'calling_parent2'"
            ],
            "application/vnd.google.colaboratory.intrinsic+json": {
              "type": "string"
            }
          },
          "metadata": {},
          "execution_count": 140
        }
      ]
    },
    {
      "cell_type": "code",
      "source": [
        "class Child(Parent2,Parent1):\n",
        "  def parent(self):\n",
        "    return 'calling_child'\n",
        "\n",
        "obj = Child()\n",
        "obj.parent()"
      ],
      "metadata": {
        "colab": {
          "base_uri": "https://localhost:8080/",
          "height": 35
        },
        "id": "loKzsUNr_isy",
        "outputId": "0e4b6dd4-6e48-4a33-df3e-923ed305d097"
      },
      "execution_count": 141,
      "outputs": [
        {
          "output_type": "execute_result",
          "data": {
            "text/plain": [
              "'calling_child'"
            ],
            "application/vnd.google.colaboratory.intrinsic+json": {
              "type": "string"
            }
          },
          "metadata": {},
          "execution_count": 141
        }
      ]
    },
    {
      "cell_type": "code",
      "source": [
        "Child.mro()"
      ],
      "metadata": {
        "colab": {
          "base_uri": "https://localhost:8080/"
        },
        "id": "amnTihI08C0R",
        "outputId": "7e81c143-c4aa-4343-977f-51946ed536a5"
      },
      "execution_count": 142,
      "outputs": [
        {
          "output_type": "execute_result",
          "data": {
            "text/plain": [
              "[__main__.Child, __main__.Parent2, __main__.Parent1, object]"
            ]
          },
          "metadata": {},
          "execution_count": 142
        }
      ]
    },
    {
      "cell_type": "code",
      "source": [],
      "metadata": {
        "id": "UjnCyCFZ_sie"
      },
      "execution_count": null,
      "outputs": []
    }
  ]
}