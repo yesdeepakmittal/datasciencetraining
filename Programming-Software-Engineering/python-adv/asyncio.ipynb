{
  "cells": [
    {
      "cell_type": "code",
      "execution_count": null,
      "metadata": {
        "id": "DE1IhVKfW0cy"
      },
      "outputs": [],
      "source": [
        "import asyncio\n",
        "from installer import install_package\n",
        "\n",
        "install_package('unsync')\n",
        "\n",
        "from unsync import unsync"
      ]
    },
    {
      "cell_type": "code",
      "execution_count": 4,
      "metadata": {
        "colab": {
          "base_uri": "https://localhost:8080/"
        },
        "id": "QFopc_MwW0c1",
        "outputId": "021f257b-66d4-4630-9a9f-d491fe14fae5"
      },
      "outputs": [
        {
          "name": "stdout",
          "output_type": "stream",
          "text": [
            "1\n",
            "2\n"
          ]
        }
      ],
      "source": [
        "@unsync\n",
        "async def fn():\n",
        "  print('1')\n",
        "\n",
        "  await asyncio.sleep(1)   #coroutine | if await is omitted, fn will run normally and coroutine won't execute\n",
        "\n",
        "  print('2')\n",
        "\n",
        "# asyncio.run(fn())\n",
        "fn().result()"
      ]
    },
    {
      "cell_type": "code",
      "execution_count": 5,
      "metadata": {
        "colab": {
          "base_uri": "https://localhost:8080/"
        },
        "id": "uBFNUJ2Cc7sf",
        "outputId": "b6f8ab5a-24dd-4400-8627-8ea78dda48e8"
      },
      "outputs": [
        {
          "name": "stdout",
          "output_type": "stream",
          "text": [
            "1\n",
            "2\n",
            "1\n",
            "2\n"
          ]
        }
      ],
      "source": [
        "@unsync\n",
        "async def test(x,n):\n",
        "    for i in range(n):\n",
        "        print(x)\n",
        "        await asyncio.sleep(5)\n",
        "        '''fn will sleep for 5 seconds for both test(1) & test(2)\n",
        "           fn will wait for 5 seconds for test(1) meanwhile it will start processing requests for test(2)        \n",
        "        '''\n",
        "\n",
        "# concurrently executing many coroutines\n",
        "@unsync\n",
        "async def mera_fn():\n",
        "    await asyncio.gather(\n",
        "        test(\"1\", 2),\n",
        "        test(\"2\", 2),\n",
        "    )\n",
        "mera_fn().result()"
      ]
    }
  ],
  "metadata": {
    "colab": {
      "provenance": []
    },
    "kernelspec": {
      "display_name": "Python 3",
      "language": "python",
      "name": "python3"
    },
    "language_info": {
      "name": "python",
      "version": "3.11.1 (tags/v3.11.1:a7a450f, Dec  6 2022, 19:58:39) [MSC v.1934 64 bit (AMD64)]"
    },
    "orig_nbformat": 4,
    "vscode": {
      "interpreter": {
        "hash": "dbfb93579cd233f61bf7b1160072e941f3a008209323d76924e71308a0086e35"
      }
    }
  },
  "nbformat": 4,
  "nbformat_minor": 0
}
