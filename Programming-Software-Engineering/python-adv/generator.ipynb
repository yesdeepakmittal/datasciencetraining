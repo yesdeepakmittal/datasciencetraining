{
  "cells": [
    {
      "cell_type": "markdown",
      "metadata": {
        "id": "SXcJrH0zmHD4"
      },
      "source": [
        "In Python, a generator is a special type of function that allows a programmer to create an iterator. These are objects that can be iterated (looped) upon. Generators are different from regular functions because they use the \"yield\" statement instead of \"return\" and they can be paused and resumed in the middle of their execution. When a generator function is called, it returns a generator object but does not execute the function. The code inside the generator function is only executed when the \"next()\" method is called on the generator object. This allows for efficient memory usage and the ability to generate a large number of items on the fly instead of creating them all at once. - ChatGPT"
      ]
    },
    {
      "cell_type": "markdown",
      "metadata": {
        "id": "iGcwd-PmmNhD"
      },
      "source": [
        "The main difference between generators and list comprehensions is that elements are generated on demand and not computed and stored all at once in memory. - Building Data Science Applications with FastAPI(Packt Publication)"
      ]
    },
    {
      "cell_type": "code",
      "execution_count": 67,
      "metadata": {
        "colab": {
          "base_uri": "https://localhost:8080/"
        },
        "id": "ESgGtrOhl-iA",
        "outputId": "a8411834-b2a5-4771-80fd-dfe03dca5436"
      },
      "outputs": [
        {
          "data": {
            "text/plain": [
              "(<generator object <genexpr> at 0x7f4814bf2e40>, generator)"
            ]
          },
          "execution_count": 67,
          "metadata": {},
          "output_type": "execute_result"
        }
      ],
      "source": [
        "g = (i for i in range(10))\n",
        "g,type(g)"
      ]
    },
    {
      "cell_type": "code",
      "execution_count": 68,
      "metadata": {
        "colab": {
          "base_uri": "https://localhost:8080/"
        },
        "id": "ywJ0ATKumT_d",
        "outputId": "7a3210c8-a0ec-4573-ea52-a5d85246bc92"
      },
      "outputs": [
        {
          "data": {
            "text/plain": [
              "0"
            ]
          },
          "execution_count": 68,
          "metadata": {},
          "output_type": "execute_result"
        }
      ],
      "source": [
        "next(g)"
      ]
    },
    {
      "cell_type": "code",
      "execution_count": 69,
      "metadata": {
        "colab": {
          "base_uri": "https://localhost:8080/"
        },
        "id": "BdkXyhtTmWJe",
        "outputId": "7a2710fb-9664-4374-f5da-8e131d97745a"
      },
      "outputs": [
        {
          "data": {
            "text/plain": [
              "1"
            ]
          },
          "execution_count": 69,
          "metadata": {},
          "output_type": "execute_result"
        }
      ],
      "source": [
        "next(g)"
      ]
    },
    {
      "cell_type": "code",
      "execution_count": 71,
      "metadata": {
        "colab": {
          "base_uri": "https://localhost:8080/"
        },
        "id": "f9G4FZmymXqf",
        "outputId": "a15a8f79-b855-4b23-f94e-f7c7c99cff9c"
      },
      "outputs": [
        {
          "data": {
            "text/plain": [
              "<generator object odd_numbers at 0x7f4814bcb4a0>"
            ]
          },
          "execution_count": 71,
          "metadata": {},
          "output_type": "execute_result"
        }
      ],
      "source": [
        "def odd_numbers(n):\n",
        "  for i in range(n):\n",
        "    if i & 1:\n",
        "      yield i \n",
        "\n",
        "g2 = odd_numbers(9)\n",
        "g2"
      ]
    },
    {
      "cell_type": "code",
      "execution_count": 72,
      "metadata": {
        "colab": {
          "base_uri": "https://localhost:8080/"
        },
        "id": "sGkZDe65m8ox",
        "outputId": "4a02bd6e-c47b-46eb-95e3-7b674057e70c"
      },
      "outputs": [
        {
          "data": {
            "text/plain": [
              "1"
            ]
          },
          "execution_count": 72,
          "metadata": {},
          "output_type": "execute_result"
        }
      ],
      "source": [
        "next(g2)"
      ]
    },
    {
      "cell_type": "code",
      "execution_count": 73,
      "metadata": {
        "colab": {
          "base_uri": "https://localhost:8080/"
        },
        "id": "-EhVC6sEnH-d",
        "outputId": "9e1a7335-1684-4976-ea20-7cdcbc4b697d"
      },
      "outputs": [
        {
          "data": {
            "text/plain": [
              "3"
            ]
          },
          "execution_count": 73,
          "metadata": {},
          "output_type": "execute_result"
        }
      ],
      "source": [
        "next(g2)"
      ]
    },
    {
      "cell_type": "code",
      "execution_count": 74,
      "metadata": {
        "colab": {
          "base_uri": "https://localhost:8080/"
        },
        "id": "DJjjFDONnI_b",
        "outputId": "ae45932a-0ec0-40b4-c2cb-e7032d526915"
      },
      "outputs": [
        {
          "data": {
            "text/plain": [
              "5"
            ]
          },
          "execution_count": 74,
          "metadata": {},
          "output_type": "execute_result"
        }
      ],
      "source": [
        "next(g2)"
      ]
    },
    {
      "cell_type": "code",
      "execution_count": 75,
      "metadata": {
        "colab": {
          "base_uri": "https://localhost:8080/"
        },
        "id": "qlfuWW3dnJ3_",
        "outputId": "8f22fbef-a751-49dd-b520-e43eac1ecdbc"
      },
      "outputs": [
        {
          "data": {
            "text/plain": [
              "7"
            ]
          },
          "execution_count": 75,
          "metadata": {},
          "output_type": "execute_result"
        }
      ],
      "source": [
        "next(g2)"
      ]
    },
    {
      "cell_type": "code",
      "execution_count": 76,
      "metadata": {
        "colab": {
          "base_uri": "https://localhost:8080/",
          "height": 165
        },
        "id": "3JcpFvWwngMq",
        "outputId": "f7ae8fde-9a3e-479d-fb57-b40b878ea687"
      },
      "outputs": [
        {
          "ename": "StopIteration",
          "evalue": "ignored",
          "output_type": "error",
          "traceback": [
            "\u001b[0;31m---------------------------------------------------------------------------\u001b[0m",
            "\u001b[0;31mStopIteration\u001b[0m                             Traceback (most recent call last)",
            "\u001b[0;32m<ipython-input-76-a6dbba519a9b>\u001b[0m in \u001b[0;36m<module>\u001b[0;34m\u001b[0m\n\u001b[0;32m----> 1\u001b[0;31m \u001b[0mnext\u001b[0m\u001b[0;34m(\u001b[0m\u001b[0mg2\u001b[0m\u001b[0;34m)\u001b[0m\u001b[0;34m\u001b[0m\u001b[0;34m\u001b[0m\u001b[0m\n\u001b[0m",
            "\u001b[0;31mStopIteration\u001b[0m: "
          ]
        }
      ],
      "source": [
        "next(g2)  # It will keep yielding until StopIteration hit"
      ]
    },
    {
      "cell_type": "code",
      "execution_count": 79,
      "metadata": {
        "colab": {
          "base_uri": "https://localhost:8080/"
        },
        "id": "CI4vuTbing1A",
        "outputId": "25cbfdd9-c1da-454b-8285-9cf49636ce9f"
      },
      "outputs": [
        {
          "name": "stdout",
          "output_type": "stream",
          "text": [
            "Bye! Bye!\n"
          ]
        },
        {
          "data": {
            "text/plain": [
              "[0, 1, 2, 3, 4]"
            ]
          },
          "execution_count": 79,
          "metadata": {},
          "output_type": "execute_result"
        }
      ],
      "source": [
        "def mera_generator(n):\n",
        "  for i in range(n):\n",
        "    yield i\n",
        "  print('Bye! Bye!')\n",
        "\n",
        "list(mera_generator(5))"
      ]
    },
    {
      "cell_type": "code",
      "execution_count": 80,
      "metadata": {
        "colab": {
          "base_uri": "https://localhost:8080/"
        },
        "id": "f9j13AZQo6jK",
        "outputId": "1539819b-6361-4ad8-9cce-a5a12c0792d9"
      },
      "outputs": [
        {
          "name": "stdout",
          "output_type": "stream",
          "text": [
            "0\n",
            "1\n",
            "2\n",
            "3\n",
            "4\n",
            "Bye! Bye!\n"
          ]
        }
      ],
      "source": [
        "for i in mera_generator(5):\n",
        "  print(i)"
      ]
    },
    {
      "cell_type": "code",
      "execution_count": 81,
      "metadata": {
        "colab": {
          "base_uri": "https://localhost:8080/"
        },
        "id": "9kmti5-KpAOF",
        "outputId": "de71cb0d-5cfd-46e1-e9dc-8df5e1608b17"
      },
      "outputs": [
        {
          "data": {
            "text/plain": [
              "0"
            ]
          },
          "execution_count": 81,
          "metadata": {},
          "output_type": "execute_result"
        }
      ],
      "source": [
        "g3 = mera_generator(5)\n",
        "next(g3)"
      ]
    },
    {
      "cell_type": "code",
      "execution_count": 82,
      "metadata": {
        "colab": {
          "base_uri": "https://localhost:8080/"
        },
        "id": "zE2Aan0ZpvyJ",
        "outputId": "bfe36b3c-2fa3-4457-b4d7-671b941ca00d"
      },
      "outputs": [
        {
          "data": {
            "text/plain": [
              "1"
            ]
          },
          "execution_count": 82,
          "metadata": {},
          "output_type": "execute_result"
        }
      ],
      "source": [
        "next(g3)"
      ]
    },
    {
      "cell_type": "code",
      "execution_count": 83,
      "metadata": {
        "colab": {
          "base_uri": "https://localhost:8080/"
        },
        "id": "s4xViZfOpw-1",
        "outputId": "3b969dfb-d3a7-4350-92fc-2f7753c30b95"
      },
      "outputs": [
        {
          "data": {
            "text/plain": [
              "2"
            ]
          },
          "execution_count": 83,
          "metadata": {},
          "output_type": "execute_result"
        }
      ],
      "source": [
        "next(g3)"
      ]
    },
    {
      "cell_type": "code",
      "execution_count": 84,
      "metadata": {
        "colab": {
          "base_uri": "https://localhost:8080/"
        },
        "id": "gIDeNe-lpxgr",
        "outputId": "364dd9cb-bc69-4898-8d5b-4b0b85a7105a"
      },
      "outputs": [
        {
          "data": {
            "text/plain": [
              "3"
            ]
          },
          "execution_count": 84,
          "metadata": {},
          "output_type": "execute_result"
        }
      ],
      "source": [
        "next(g3)"
      ]
    },
    {
      "cell_type": "code",
      "execution_count": 85,
      "metadata": {
        "colab": {
          "base_uri": "https://localhost:8080/"
        },
        "id": "v8i2LlFcpxzH",
        "outputId": "2a3b4e6d-7409-4eba-dcd4-2609431529a2"
      },
      "outputs": [
        {
          "data": {
            "text/plain": [
              "4"
            ]
          },
          "execution_count": 85,
          "metadata": {},
          "output_type": "execute_result"
        }
      ],
      "source": [
        "next(g3)"
      ]
    },
    {
      "cell_type": "code",
      "execution_count": 86,
      "metadata": {
        "colab": {
          "base_uri": "https://localhost:8080/",
          "height": 183
        },
        "id": "FET6bMXcpyCT",
        "outputId": "375d64af-e28c-4b8c-f82d-67765d3d532f"
      },
      "outputs": [
        {
          "name": "stdout",
          "output_type": "stream",
          "text": [
            "Bye! Bye!\n"
          ]
        },
        {
          "ename": "StopIteration",
          "evalue": "ignored",
          "output_type": "error",
          "traceback": [
            "\u001b[0;31m---------------------------------------------------------------------------\u001b[0m",
            "\u001b[0;31mStopIteration\u001b[0m                             Traceback (most recent call last)",
            "\u001b[0;32m<ipython-input-86-6b6bb0f0c642>\u001b[0m in \u001b[0;36m<module>\u001b[0;34m\u001b[0m\n\u001b[0;32m----> 1\u001b[0;31m \u001b[0mnext\u001b[0m\u001b[0;34m(\u001b[0m\u001b[0mg3\u001b[0m\u001b[0;34m)\u001b[0m\u001b[0;34m\u001b[0m\u001b[0;34m\u001b[0m\u001b[0m\n\u001b[0m",
            "\u001b[0;31mStopIteration\u001b[0m: "
          ]
        }
      ],
      "source": [
        "next(g3)"
      ]
    }
  ],
  "metadata": {
    "colab": {
      "provenance": []
    },
    "kernelspec": {
      "display_name": "Python 3",
      "language": "python",
      "name": "python3"
    },
    "language_info": {
      "name": "python",
      "version": "3.11.1 (tags/v3.11.1:a7a450f, Dec  6 2022, 19:58:39) [MSC v.1934 64 bit (AMD64)]"
    },
    "vscode": {
      "interpreter": {
        "hash": "dbfb93579cd233f61bf7b1160072e941f3a008209323d76924e71308a0086e35"
      }
    }
  },
  "nbformat": 4,
  "nbformat_minor": 0
}
