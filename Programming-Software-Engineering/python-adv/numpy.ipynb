{
  "cells": [
    {
      "cell_type": "markdown",
      "metadata": {
        "id": "view-in-github",
        "colab_type": "text"
      },
      "source": [
        "<a href=\"https://colab.research.google.com/github/yesdeepakmittal/pytraining/blob/master/Advanced/numpy.ipynb\" target=\"_parent\"><img src=\"https://colab.research.google.com/assets/colab-badge.svg\" alt=\"Open In Colab\"/></a>"
      ]
    },
    {
      "cell_type": "code",
      "execution_count": null,
      "metadata": {
        "id": "q-EWWbcGMjUM"
      },
      "outputs": [],
      "source": [
        "import numpy as np"
      ]
    },
    {
      "cell_type": "code",
      "execution_count": null,
      "metadata": {
        "id": "5gD2wIt7QipG"
      },
      "outputs": [],
      "source": [
        ""
      ]
    },
    {
      "cell_type": "code",
      "execution_count": null,
      "metadata": {
        "colab": {
          "base_uri": "https://localhost:8080/"
        },
        "id": "evbrEIYTNSE1",
        "outputId": "ab1f204e-f680-4dd4-d305-3a1547ced277"
      },
      "outputs": [
        {
          "name": "stdout",
          "output_type": "stream",
          "text": [
            "[0. 0. 0.]\n",
            "\n",
            "\n",
            "[[0. 0. 0.]\n",
            " [0. 0. 0.]\n",
            " [0. 0. 0.]]\n"
          ]
        }
      ],
      "source": [
        "zero_matrix = np.zeros(3)\n",
        "print(zero_matrix)\n",
        "\n",
        "print('\\n')\n",
        "\n",
        "zero_matrix = np.zeros((3,3))\n",
        "print(zero_matrix)"
      ]
    },
    {
      "cell_type": "code",
      "execution_count": null,
      "metadata": {
        "colab": {
          "base_uri": "https://localhost:8080/"
        },
        "id": "WQ_TyizISMT7",
        "outputId": "0ecd9efa-16dd-4658-f401-cfb947561eb0"
      },
      "outputs": [
        {
          "data": {
            "text/plain": [
              "array([[1., 1., 1., 1.],\n",
              "       [1., 1., 1., 1.],\n",
              "       [1., 1., 1., 1.]])"
            ]
          },
          "execution_count": 4,
          "metadata": {},
          "output_type": "execute_result"
        }
      ],
      "source": [
        "np.ones((3,4))"
      ]
    },
    {
      "cell_type": "code",
      "execution_count": null,
      "metadata": {
        "colab": {
          "base_uri": "https://localhost:8080/"
        },
        "id": "3ysRWLmPSWZ1",
        "outputId": "04086f0e-46c4-4085-b5a5-5f92b209d422"
      },
      "outputs": [
        {
          "data": {
            "text/plain": [
              "array([[[1., 1., 1.],\n",
              "        [1., 1., 1.],\n",
              "        [1., 1., 1.]],\n",
              "\n",
              "       [[1., 1., 1.],\n",
              "        [1., 1., 1.],\n",
              "        [1., 1., 1.]],\n",
              "\n",
              "       [[1., 1., 1.],\n",
              "        [1., 1., 1.],\n",
              "        [1., 1., 1.]]])"
            ]
          },
          "execution_count": 5,
          "metadata": {},
          "output_type": "execute_result"
        }
      ],
      "source": [
        "np.ones((3,3,3))"
      ]
    },
    {
      "cell_type": "code",
      "execution_count": null,
      "metadata": {
        "colab": {
          "base_uri": "https://localhost:8080/"
        },
        "id": "oaC1a5QdNmbU",
        "outputId": "a25f551f-7bdf-4d77-fc83-08604a5e39c7"
      },
      "outputs": [
        {
          "name": "stdout",
          "output_type": "stream",
          "text": [
            "[[1 2 3 4]\n",
            " [5 6 7 8]]\n",
            "\n",
            "Transposed Matrix\n",
            " [[1 5]\n",
            " [2 6]\n",
            " [3 7]\n",
            " [4 8]]\n"
          ]
        }
      ],
      "source": [
        "matrix = np.array([[1,2,3,4],[5,6,7,8]])\n",
        "print(matrix)\n",
        "\n",
        "print()\n",
        "\n",
        "print('Transposed Matrix\\n',matrix.T)"
      ]
    },
    {
      "cell_type": "code",
      "execution_count": null,
      "metadata": {
        "id": "2V3xUTlkQipJ",
        "outputId": "3ec99a8f-bf01-4ac4-8839-7feefee4975b"
      },
      "outputs": [
        {
          "data": {
            "text/plain": [
              "array([1, 2, 3, 4, 5, 6, 7, 8])"
            ]
          },
          "execution_count": 7,
          "metadata": {},
          "output_type": "execute_result"
        }
      ],
      "source": [
        "matrix.flatten()"
      ]
    },
    {
      "cell_type": "code",
      "execution_count": null,
      "metadata": {
        "colab": {
          "base_uri": "https://localhost:8080/"
        },
        "id": "ogoulGmmOJjV",
        "outputId": "a30084cd-fdd4-4559-9e27-246cd087906c"
      },
      "outputs": [
        {
          "name": "stdout",
          "output_type": "stream",
          "text": [
            "6\n"
          ]
        }
      ],
      "source": [
        "print(matrix[1,1]) #Accessing (1,1)th element"
      ]
    },
    {
      "cell_type": "code",
      "execution_count": null,
      "metadata": {
        "colab": {
          "base_uri": "https://localhost:8080/"
        },
        "id": "cdEb99VSOc7l",
        "outputId": "16f361e5-8cd8-40ea-f706-d6ea7ecd23b1"
      },
      "outputs": [
        {
          "name": "stdout",
          "output_type": "stream",
          "text": [
            "(2, 4)\n"
          ]
        }
      ],
      "source": [
        "print(np.shape(matrix))"
      ]
    },
    {
      "cell_type": "code",
      "execution_count": null,
      "metadata": {
        "id": "GEen9_VuQipK",
        "outputId": "4eb3bcf9-c737-4fd1-d355-c9fa828e9ddb"
      },
      "outputs": [
        {
          "data": {
            "text/plain": [
              "(2, 4)"
            ]
          },
          "execution_count": 10,
          "metadata": {},
          "output_type": "execute_result"
        }
      ],
      "source": [
        "matrix.shape"
      ]
    },
    {
      "cell_type": "code",
      "execution_count": null,
      "metadata": {
        "colab": {
          "base_uri": "https://localhost:8080/"
        },
        "id": "qLHnA6ndOoiB",
        "outputId": "e54c6e19-30ee-4668-c7ec-3e87914157c1"
      },
      "outputs": [
        {
          "name": "stdout",
          "output_type": "stream",
          "text": [
            "The sum of columns of a matrix: [ 6  8 10 12]\n"
          ]
        }
      ],
      "source": [
        "print('The sum of columns of a matrix:',sum(matrix))"
      ]
    },
    {
      "cell_type": "code",
      "execution_count": null,
      "metadata": {
        "colab": {
          "base_uri": "https://localhost:8080/"
        },
        "id": "4N14-bQzPLoQ",
        "outputId": "7d714c2f-a49b-4446-b8f9-24e9b0b17938"
      },
      "outputs": [
        {
          "name": "stdout",
          "output_type": "stream",
          "text": [
            "The sum of first row: 10\n",
            "The sum of second row: 26\n",
            "\n",
            "\n",
            "The sum of first column: 6\n",
            "The sum of first column: 6\n"
          ]
        }
      ],
      "source": [
        "print('The sum of first row:',np.sum(matrix[0]))\n",
        "print('The sum of second row:',np.sum(matrix[1]))\n",
        "\n",
        "print('\\n')\n",
        "\n",
        "print('The sum of first column:',np.sum(matrix,axis=0)[0])\n",
        "print('The sum of first column:',sum(matrix)[0])"
      ]
    },
    {
      "cell_type": "code",
      "execution_count": null,
      "metadata": {
        "colab": {
          "base_uri": "https://localhost:8080/"
        },
        "id": "kOCevSp3O1x5",
        "outputId": "225e3206-503e-4b65-cb38-21be62897a00"
      },
      "outputs": [
        {
          "name": "stdout",
          "output_type": "stream",
          "text": [
            "[ 6  8 10 12]\n",
            "The sum of entire matrix: 36\n"
          ]
        }
      ],
      "source": [
        "# sum() vs np.sum()\n",
        "\n",
        "print(sum(matrix))  #perform sum column-wise\n",
        "\n",
        "print('The sum of entire matrix:',np.sum(matrix))   #perform sum of entire matrix"
      ]
    },
    {
      "cell_type": "code",
      "execution_count": null,
      "metadata": {
        "colab": {
          "base_uri": "https://localhost:8080/"
        },
        "id": "mL7BjK1dRs44",
        "outputId": "15d74083-5285-4f12-9a68-9df3a1894954"
      },
      "outputs": [
        {
          "name": "stdout",
          "output_type": "stream",
          "text": [
            "[0.9452449  0.95842464 0.18131936 0.91683323 0.88795515 0.20460359\n",
            " 0.41336306 0.44789265 0.74109842 0.35186782 0.99536278 0.7955444\n",
            " 0.02575158 0.0923094  0.68666052]\n"
          ]
        }
      ],
      "source": [
        "print(np.random.rand(15))"
      ]
    },
    {
      "cell_type": "code",
      "execution_count": null,
      "metadata": {
        "colab": {
          "base_uri": "https://localhost:8080/"
        },
        "id": "u_6LbXP2SFHo",
        "outputId": "8aff14a7-9486-4fa9-f830-9eda7e79c58c"
      },
      "outputs": [
        {
          "data": {
            "text/plain": [
              "array([[0.57899906, 0.71892703, 0.19078916],\n",
              "       [0.69755767, 0.88563007, 0.89301205],\n",
              "       [0.78873038, 0.97861938, 0.34097149]])"
            ]
          },
          "execution_count": 19,
          "metadata": {},
          "output_type": "execute_result"
        }
      ],
      "source": [
        "np.random.rand(3,3)"
      ]
    },
    {
      "cell_type": "code",
      "execution_count": null,
      "metadata": {
        "colab": {
          "base_uri": "https://localhost:8080/"
        },
        "id": "gb0Kh6AERsrP",
        "outputId": "79e155a6-7cc4-46d9-cc40-f1a3c363877d"
      },
      "outputs": [
        {
          "data": {
            "text/plain": [
              "array([ 1.,  2.,  3.,  4.,  5.,  6.,  7.,  8.,  9., 10.])"
            ]
          },
          "execution_count": 20,
          "metadata": {},
          "output_type": "execute_result"
        }
      ],
      "source": [
        "np.linspace(1,10,10)"
      ]
    },
    {
      "cell_type": "code",
      "execution_count": null,
      "metadata": {
        "colab": {
          "base_uri": "https://localhost:8080/"
        },
        "id": "AiXv2DFrRzzS",
        "outputId": "dae3ada3-eb55-4d3f-e502-4894fe35d124"
      },
      "outputs": [
        {
          "data": {
            "text/plain": [
              "array([0. , 0.5, 1. , 1.5, 2. , 2.5, 3. , 3.5, 4. , 4.5, 5. ])"
            ]
          },
          "execution_count": 21,
          "metadata": {},
          "output_type": "execute_result"
        }
      ],
      "source": [
        "np.linspace(0,5,11)"
      ]
    },
    {
      "cell_type": "code",
      "execution_count": null,
      "metadata": {
        "colab": {
          "base_uri": "https://localhost:8080/"
        },
        "id": "zjoYGNQLRzwG",
        "outputId": "e668d234-acd2-4793-9ff1-317642837c70"
      },
      "outputs": [
        {
          "data": {
            "text/plain": [
              "array([1, 1, 2, 2, 3, 3, 4, 4])"
            ]
          },
          "execution_count": 22,
          "metadata": {},
          "output_type": "execute_result"
        }
      ],
      "source": [
        "a = [1,2,3,4]\n",
        "np.repeat(a,2)"
      ]
    },
    {
      "cell_type": "code",
      "execution_count": null,
      "metadata": {
        "colab": {
          "base_uri": "https://localhost:8080/"
        },
        "id": "ugRzcUa7Sql6",
        "outputId": "d9383476-ad0b-4828-a6ae-a9b659d56f0e"
      },
      "outputs": [
        {
          "data": {
            "text/plain": [
              "array([1, 2, 3, 4, 1, 2, 3, 4])"
            ]
          },
          "execution_count": 121,
          "metadata": {
            "tags": []
          },
          "output_type": "execute_result"
        }
      ],
      "source": [
        "np.tile(a,2)"
      ]
    },
    {
      "cell_type": "code",
      "execution_count": null,
      "metadata": {
        "colab": {
          "base_uri": "https://localhost:8080/"
        },
        "id": "X7xp_u_WSxdY",
        "outputId": "f257701e-aacd-4475-9bdf-07c9b037e597"
      },
      "outputs": [
        {
          "data": {
            "text/plain": [
              "array([[1., 0., 0., 0.],\n",
              "       [0., 1., 0., 0.],\n",
              "       [0., 0., 1., 0.],\n",
              "       [0., 0., 0., 1.]])"
            ]
          },
          "execution_count": 23,
          "metadata": {},
          "output_type": "execute_result"
        }
      ],
      "source": [
        "#Identity matrix \n",
        "np.eye(4)"
      ]
    },
    {
      "cell_type": "code",
      "execution_count": null,
      "metadata": {
        "colab": {
          "base_uri": "https://localhost:8080/"
        },
        "id": "rEzWx0DHS-CJ",
        "outputId": "ccb74da2-4265-496e-9a59-856fe1235d63"
      },
      "outputs": [
        {
          "data": {
            "text/plain": [
              "array([[1, 0, 0, 0],\n",
              "       [0, 2, 0, 0],\n",
              "       [0, 0, 3, 0],\n",
              "       [0, 0, 0, 4]])"
            ]
          },
          "execution_count": 24,
          "metadata": {},
          "output_type": "execute_result"
        }
      ],
      "source": [
        "np.diag([1,2,3,4])"
      ]
    },
    {
      "cell_type": "code",
      "execution_count": null,
      "metadata": {
        "colab": {
          "base_uri": "https://localhost:8080/"
        },
        "id": "AflknsoUTNUu",
        "outputId": "284449fb-0aeb-4ed1-b34a-cf03ab2c2f13"
      },
      "outputs": [
        {
          "data": {
            "text/plain": [
              "array([5, 2, 4, 4, 6, 2, 8, 1, 5])"
            ]
          },
          "execution_count": 25,
          "metadata": {},
          "output_type": "execute_result"
        }
      ],
      "source": [
        "diag = np.random.randint(low = 1,high = 10, size = 9)\n",
        "diag"
      ]
    },
    {
      "cell_type": "code",
      "execution_count": null,
      "metadata": {
        "colab": {
          "base_uri": "https://localhost:8080/"
        },
        "id": "f64Vu4OUTNK3",
        "outputId": "cc89e114-81cf-4454-feaa-07dd320cc0f8"
      },
      "outputs": [
        {
          "data": {
            "text/plain": [
              "array([[5, 2, 4],\n",
              "       [4, 6, 2],\n",
              "       [8, 1, 5]])"
            ]
          },
          "execution_count": 26,
          "metadata": {},
          "output_type": "execute_result"
        }
      ],
      "source": [
        "diag_new = np.reshape(diag, (3,3))\n",
        "diag_new"
      ]
    },
    {
      "cell_type": "code",
      "execution_count": null,
      "metadata": {
        "colab": {
          "base_uri": "https://localhost:8080/"
        },
        "id": "dEyHsBoJckgY",
        "outputId": "04614a0c-d7a9-4df6-e548-e9d11d3616cc"
      },
      "outputs": [
        {
          "data": {
            "text/plain": [
              "array([5, 2, 4, 4, 6, 2, 8, 1, 5])"
            ]
          },
          "execution_count": 27,
          "metadata": {},
          "output_type": "execute_result"
        }
      ],
      "source": [
        "diag_new.flatten()"
      ]
    },
    {
      "cell_type": "code",
      "execution_count": null,
      "metadata": {
        "colab": {
          "base_uri": "https://localhost:8080/"
        },
        "id": "BtmRSmYGpqF4",
        "outputId": "af8f1f36-b665-434a-eea8-62ff460652db"
      },
      "outputs": [
        {
          "data": {
            "text/plain": [
              "array([1, 2, 4, 5, 6, 8])"
            ]
          },
          "execution_count": 28,
          "metadata": {},
          "output_type": "execute_result"
        }
      ],
      "source": [
        "np.unique(diag_new.flatten())"
      ]
    },
    {
      "cell_type": "code",
      "execution_count": null,
      "metadata": {
        "colab": {
          "base_uri": "https://localhost:8080/"
        },
        "id": "3LdbUuvMp-tz",
        "outputId": "0f89059c-662c-480c-ba28-07b70277bde1"
      },
      "outputs": [
        {
          "data": {
            "text/plain": [
              "(array([1, 2, 4, 5, 6, 8]), array([1, 2, 2, 2, 1, 1], dtype=int64))"
            ]
          },
          "execution_count": 29,
          "metadata": {},
          "output_type": "execute_result"
        }
      ],
      "source": [
        "np.unique(diag_new.flatten(),return_counts=True)"
      ]
    },
    {
      "cell_type": "code",
      "execution_count": null,
      "metadata": {
        "colab": {
          "base_uri": "https://localhost:8080/"
        },
        "id": "xzjejCgSqHml",
        "outputId": "ce03c601-9969-4f55-d2be-398a30333720"
      },
      "outputs": [
        {
          "data": {
            "text/plain": [
              "(array([1, 2, 4, 5, 6, 8]), array([7, 1, 2, 0, 4, 6], dtype=int64))"
            ]
          },
          "execution_count": 30,
          "metadata": {},
          "output_type": "execute_result"
        }
      ],
      "source": [
        "np.unique(diag_new.flatten(),return_index=True)"
      ]
    },
    {
      "cell_type": "code",
      "execution_count": null,
      "metadata": {
        "colab": {
          "base_uri": "https://localhost:8080/"
        },
        "id": "teLaJIvudJ82",
        "outputId": "45dc2543-c60e-44db-c493-a38f1e2b0d41"
      },
      "outputs": [
        {
          "data": {
            "text/plain": [
              "array([ 5,  2,  4,  4,  6,  2,  8,  1,  5, 10, 11])"
            ]
          },
          "execution_count": 31,
          "metadata": {},
          "output_type": "execute_result"
        }
      ],
      "source": [
        "np.append(diag_new.flatten(),[10,11])"
      ]
    },
    {
      "cell_type": "code",
      "execution_count": null,
      "metadata": {
        "colab": {
          "base_uri": "https://localhost:8080/"
        },
        "id": "kZSaTC7qdJ5P",
        "outputId": "1ee9626c-d3ff-471b-8de3-6aa1d05f0676"
      },
      "outputs": [
        {
          "data": {
            "text/plain": [
              "array([22, 33,  5,  2,  4,  4,  6,  2,  8,  1,  5])"
            ]
          },
          "execution_count": 32,
          "metadata": {},
          "output_type": "execute_result"
        }
      ],
      "source": [
        "np.insert(diag_new.flatten(),0,[22,33])"
      ]
    },
    {
      "cell_type": "code",
      "execution_count": null,
      "metadata": {
        "colab": {
          "base_uri": "https://localhost:8080/"
        },
        "id": "LTTyH_5UeOyE",
        "outputId": "5bec10d3-61ec-465d-c58f-8667603984a1"
      },
      "outputs": [
        {
          "data": {
            "text/plain": [
              "array([5, 2, 4, 4, 6, 2, 8, 1, 5])"
            ]
          },
          "execution_count": 33,
          "metadata": {},
          "output_type": "execute_result"
        }
      ],
      "source": [
        "diag_new.flatten()"
      ]
    },
    {
      "cell_type": "code",
      "execution_count": null,
      "metadata": {
        "colab": {
          "base_uri": "https://localhost:8080/"
        },
        "id": "gukCRS-0eDd1",
        "outputId": "e3e2fca4-ba38-4f0f-c546-631984e15ed6"
      },
      "outputs": [
        {
          "data": {
            "text/plain": [
              "array([5, 4, 6, 2, 8, 1, 5])"
            ]
          },
          "execution_count": 34,
          "metadata": {},
          "output_type": "execute_result"
        }
      ],
      "source": [
        "np.delete(diag_new.flatten(),[1,2])"
      ]
    },
    {
      "cell_type": "code",
      "execution_count": null,
      "metadata": {
        "colab": {
          "base_uri": "https://localhost:8080/"
        },
        "id": "PDfxCvSSeDaF",
        "outputId": "1d10142b-b918-4dbf-e935-1bd65dadcc6e"
      },
      "outputs": [
        {
          "data": {
            "text/plain": [
              "array([1, 2, 3, 3])"
            ]
          },
          "execution_count": 35,
          "metadata": {},
          "output_type": "execute_result"
        }
      ],
      "source": [
        "temp = np.array([1,2,3,3])\n",
        "temp_copy = temp.copy()\n",
        "temp_copy"
      ]
    },
    {
      "cell_type": "code",
      "execution_count": null,
      "metadata": {
        "colab": {
          "base_uri": "https://localhost:8080/"
        },
        "id": "BSsbM85OeDIF",
        "outputId": "ae58dcf1-4245-4222-ebe1-d5c173ea7559"
      },
      "outputs": [
        {
          "data": {
            "text/plain": [
              "array([[10, 20, 30],\n",
              "       [40, 50, 60],\n",
              "       [ 5, 15, 25],\n",
              "       [35, 45, 55]])"
            ]
          },
          "execution_count": 36,
          "metadata": {},
          "output_type": "execute_result"
        }
      ],
      "source": [
        "temp1 = np.array([[10,20,30],[40,50,60]])\n",
        "temp2 = np.array([[5,15,25],[35,45,55]])\n",
        "\n",
        "np.concatenate((temp1,temp2),axis=0)"
      ]
    },
    {
      "cell_type": "code",
      "execution_count": null,
      "metadata": {
        "colab": {
          "base_uri": "https://localhost:8080/"
        },
        "id": "xySCKokkpfYO",
        "outputId": "26408b09-ac26-4a4b-83b5-e8a7a37e00f5"
      },
      "outputs": [
        {
          "data": {
            "text/plain": [
              "array([[10, 20, 30],\n",
              "       [40, 50, 60],\n",
              "       [ 5, 15, 25],\n",
              "       [35, 45, 55]])"
            ]
          },
          "execution_count": 37,
          "metadata": {},
          "output_type": "execute_result"
        }
      ],
      "source": [
        "np.vstack((temp1,temp2))"
      ]
    },
    {
      "cell_type": "code",
      "execution_count": null,
      "metadata": {
        "colab": {
          "base_uri": "https://localhost:8080/"
        },
        "id": "sZ5d8cQsmm1S",
        "outputId": "c477a813-39c9-480b-bca8-26345b8fcd8e"
      },
      "outputs": [
        {
          "data": {
            "text/plain": [
              "array([[10, 20, 30,  5, 15, 25],\n",
              "       [40, 50, 60, 35, 45, 55]])"
            ]
          },
          "execution_count": 206,
          "metadata": {
            "tags": []
          },
          "output_type": "execute_result"
        }
      ],
      "source": [
        "np.concatenate((temp1,temp2),axis=1)"
      ]
    },
    {
      "cell_type": "code",
      "execution_count": null,
      "metadata": {
        "colab": {
          "base_uri": "https://localhost:8080/"
        },
        "id": "NDsBvTS3mnwL",
        "outputId": "eb271da0-d16f-4526-f67b-afed00268515"
      },
      "outputs": [
        {
          "data": {
            "text/plain": [
              "array([[10, 20, 30,  5, 15, 25],\n",
              "       [40, 50, 60, 35, 45, 55]])"
            ]
          },
          "execution_count": 207,
          "metadata": {
            "tags": []
          },
          "output_type": "execute_result"
        }
      ],
      "source": [
        "np.hstack((temp1,temp2))"
      ]
    },
    {
      "cell_type": "code",
      "execution_count": null,
      "metadata": {
        "colab": {
          "base_uri": "https://localhost:8080/"
        },
        "id": "l2dQ9neemnrx",
        "outputId": "38e3ac83-f90d-4da1-8c6d-84b0f2f55243"
      },
      "outputs": [
        {
          "data": {
            "text/plain": [
              "array([2, 4])"
            ]
          },
          "execution_count": 208,
          "metadata": {
            "tags": []
          },
          "output_type": "execute_result"
        }
      ],
      "source": [
        "np.intersect1d([1,2,3,4],[2,4,6,8])"
      ]
    },
    {
      "cell_type": "code",
      "execution_count": null,
      "metadata": {
        "colab": {
          "base_uri": "https://localhost:8080/"
        },
        "id": "EdO8pTgxmnoj",
        "outputId": "6c7d2485-4bba-48ac-8cab-2dea16623a70"
      },
      "outputs": [
        {
          "data": {
            "text/plain": [
              "array([1, 2, 3, 4, 6, 8])"
            ]
          },
          "execution_count": 209,
          "metadata": {
            "tags": []
          },
          "output_type": "execute_result"
        }
      ],
      "source": [
        "np.union1d([1,2,3,4],[2,4,6,8])"
      ]
    },
    {
      "cell_type": "code",
      "execution_count": null,
      "metadata": {
        "colab": {
          "base_uri": "https://localhost:8080/"
        },
        "id": "uDvVhKDHrVFw",
        "outputId": "43dd6692-90a6-4bbe-817c-8b6669be1f52"
      },
      "outputs": [
        {
          "data": {
            "text/plain": [
              "array([1, 3])"
            ]
          },
          "execution_count": 210,
          "metadata": {
            "tags": []
          },
          "output_type": "execute_result"
        }
      ],
      "source": [
        "np.setdiff1d([1,2,3,4],[2,4,6,8])"
      ]
    },
    {
      "cell_type": "code",
      "execution_count": null,
      "metadata": {
        "colab": {
          "base_uri": "https://localhost:8080/"
        },
        "id": "yh3PyKMYrZAu",
        "outputId": "7287d08c-a85f-4f8c-b0f8-54a9f24a1132"
      },
      "outputs": [
        {
          "data": {
            "text/plain": [
              "array([1, 3, 6, 8])"
            ]
          },
          "execution_count": 211,
          "metadata": {
            "tags": []
          },
          "output_type": "execute_result"
        }
      ],
      "source": [
        "np.setxor1d([1,2,3,4],[2,4,6,8])"
      ]
    },
    {
      "cell_type": "code",
      "execution_count": null,
      "metadata": {
        "colab": {
          "base_uri": "https://localhost:8080/"
        },
        "id": "WvUONCUprK9v",
        "outputId": "5fd59703-6dc5-477e-df2d-6f9351583cb8"
      },
      "outputs": [
        {
          "data": {
            "text/plain": [
              "array([[8, 1, 3],\n",
              "       [6, 5, 6],\n",
              "       [2, 8, 3]])"
            ]
          },
          "execution_count": 212,
          "metadata": {
            "tags": []
          },
          "output_type": "execute_result"
        }
      ],
      "source": [
        "diag_new"
      ]
    },
    {
      "cell_type": "code",
      "execution_count": null,
      "metadata": {
        "colab": {
          "base_uri": "https://localhost:8080/"
        },
        "id": "xbI5I7DKTNHl",
        "outputId": "db95b174-54da-4c9b-d6e1-5fdf3534c4db"
      },
      "outputs": [
        {
          "data": {
            "text/plain": [
              "array([8, 5, 3])"
            ]
          },
          "execution_count": 213,
          "metadata": {
            "tags": []
          },
          "output_type": "execute_result"
        }
      ],
      "source": [
        "np.diag(diag_new)"
      ]
    },
    {
      "cell_type": "code",
      "execution_count": null,
      "metadata": {
        "colab": {
          "base_uri": "https://localhost:8080/"
        },
        "id": "4Z1spy_jWFYc",
        "outputId": "eb9f9872-4e14-487d-9adc-4e81d8d0d9f4"
      },
      "outputs": [
        {
          "data": {
            "text/plain": [
              "2"
            ]
          },
          "execution_count": 214,
          "metadata": {
            "tags": []
          },
          "output_type": "execute_result"
        }
      ],
      "source": [
        "diag_new.ndim"
      ]
    },
    {
      "cell_type": "code",
      "execution_count": null,
      "metadata": {
        "colab": {
          "base_uri": "https://localhost:8080/"
        },
        "id": "pTLtyaIKWFU8",
        "outputId": "e21c2693-614f-4976-efda-2c0a023776ec"
      },
      "outputs": [
        {
          "data": {
            "text/plain": [
              "9"
            ]
          },
          "execution_count": 215,
          "metadata": {
            "tags": []
          },
          "output_type": "execute_result"
        }
      ],
      "source": [
        "diag_new.size"
      ]
    },
    {
      "cell_type": "code",
      "execution_count": null,
      "metadata": {
        "colab": {
          "base_uri": "https://localhost:8080/"
        },
        "id": "BhewjkkkWhCd",
        "outputId": "70680cc8-eeeb-4f25-ecf6-206493bf1c39"
      },
      "outputs": [
        {
          "data": {
            "text/plain": [
              "(3, 3)"
            ]
          },
          "execution_count": 216,
          "metadata": {
            "tags": []
          },
          "output_type": "execute_result"
        }
      ],
      "source": [
        "diag_new.shape"
      ]
    },
    {
      "cell_type": "code",
      "execution_count": null,
      "metadata": {
        "colab": {
          "base_uri": "https://localhost:8080/"
        },
        "id": "dVrvxIoKWg_z",
        "outputId": "93799a09-b912-4a88-cad4-331c37225054"
      },
      "outputs": [
        {
          "data": {
            "text/plain": [
              "array([[8, 1, 3],\n",
              "       [6, 5, 6],\n",
              "       [2, 8, 3]])"
            ]
          },
          "execution_count": 217,
          "metadata": {
            "tags": []
          },
          "output_type": "execute_result"
        }
      ],
      "source": [
        "diag_new"
      ]
    },
    {
      "cell_type": "code",
      "execution_count": null,
      "metadata": {
        "colab": {
          "base_uri": "https://localhost:8080/"
        },
        "id": "-xnyTaJ6Wg8I",
        "outputId": "43761ca0-9b96-4f07-e512-149ac31181c6"
      },
      "outputs": [
        {
          "data": {
            "text/plain": [
              "array([[18, 11, 13],\n",
              "       [16, 15, 16],\n",
              "       [12, 18, 13]])"
            ]
          },
          "execution_count": 218,
          "metadata": {
            "tags": []
          },
          "output_type": "execute_result"
        }
      ],
      "source": [
        "diag_new + 10"
      ]
    },
    {
      "cell_type": "code",
      "execution_count": null,
      "metadata": {
        "colab": {
          "base_uri": "https://localhost:8080/"
        },
        "id": "GCSpekfiXHMe",
        "outputId": "1ab9d9fd-b349-479f-dacd-6a6533137000"
      },
      "outputs": [
        {
          "data": {
            "text/plain": [
              "array([[-2, -9, -7],\n",
              "       [-4, -5, -4],\n",
              "       [-8, -2, -7]])"
            ]
          },
          "execution_count": 219,
          "metadata": {
            "tags": []
          },
          "output_type": "execute_result"
        }
      ],
      "source": [
        "diag_new - 10"
      ]
    },
    {
      "cell_type": "code",
      "execution_count": null,
      "metadata": {
        "colab": {
          "base_uri": "https://localhost:8080/"
        },
        "id": "BVaeWETNXME7",
        "outputId": "6c4a65af-315b-43f9-f679-44dee1d44e48"
      },
      "outputs": [
        {
          "data": {
            "text/plain": [
              "array([[80, 10, 30],\n",
              "       [60, 50, 60],\n",
              "       [20, 80, 30]])"
            ]
          },
          "execution_count": 220,
          "metadata": {
            "tags": []
          },
          "output_type": "execute_result"
        }
      ],
      "source": [
        "diag_new * 10"
      ]
    },
    {
      "cell_type": "code",
      "execution_count": null,
      "metadata": {
        "colab": {
          "base_uri": "https://localhost:8080/"
        },
        "id": "UF9D8FNLXMBO",
        "outputId": "3f741365-e265-4509-979e-0ac959f1923b"
      },
      "outputs": [
        {
          "data": {
            "text/plain": [
              "array([[4. , 0.5, 1.5],\n",
              "       [3. , 2.5, 3. ],\n",
              "       [1. , 4. , 1.5]])"
            ]
          },
          "execution_count": 221,
          "metadata": {
            "tags": []
          },
          "output_type": "execute_result"
        }
      ],
      "source": [
        "diag_new / 2"
      ]
    },
    {
      "cell_type": "code",
      "execution_count": null,
      "metadata": {
        "colab": {
          "base_uri": "https://localhost:8080/"
        },
        "id": "Lk0jrLZTXL-N",
        "outputId": "d6b89589-708c-4ae7-d5e2-9d63bc0ef2cc"
      },
      "outputs": [
        {
          "data": {
            "text/plain": [
              "array([[4, 0, 1],\n",
              "       [3, 2, 3],\n",
              "       [1, 4, 1]])"
            ]
          },
          "execution_count": 222,
          "metadata": {
            "tags": []
          },
          "output_type": "execute_result"
        }
      ],
      "source": [
        "diag_new // 2 "
      ]
    },
    {
      "cell_type": "code",
      "execution_count": null,
      "metadata": {
        "colab": {
          "base_uri": "https://localhost:8080/"
        },
        "id": "ldYOMpAVYInt",
        "outputId": "b80a3520-f4e8-42a3-f9fd-00e6e88cea3b"
      },
      "outputs": [
        {
          "data": {
            "text/plain": [
              "array([[8, 1, 3],\n",
              "       [6, 5, 6],\n",
              "       [2, 8, 3]])"
            ]
          },
          "execution_count": 223,
          "metadata": {
            "tags": []
          },
          "output_type": "execute_result"
        }
      ],
      "source": [
        "diag_new"
      ]
    },
    {
      "cell_type": "code",
      "execution_count": null,
      "metadata": {
        "colab": {
          "base_uri": "https://localhost:8080/"
        },
        "id": "5jO43S25cK4E",
        "outputId": "0dee0904-56f3-40c5-e566-f7c15b9a017b"
      },
      "outputs": [
        {
          "data": {
            "text/plain": [
              "array([[1, 3, 8],\n",
              "       [5, 6, 6],\n",
              "       [2, 3, 8]])"
            ]
          },
          "execution_count": 224,
          "metadata": {
            "tags": []
          },
          "output_type": "execute_result"
        }
      ],
      "source": [
        "np.sort(diag_new)"
      ]
    },
    {
      "cell_type": "code",
      "execution_count": null,
      "metadata": {
        "colab": {
          "base_uri": "https://localhost:8080/"
        },
        "id": "4eWHp_V8YDh8",
        "outputId": "dbce4cfc-2ab8-4b93-9816-365a80b7cbf8"
      },
      "outputs": [
        {
          "data": {
            "text/plain": [
              "array([[2.98095799e+03, 2.71828183e+00, 2.00855369e+01],\n",
              "       [4.03428793e+02, 1.48413159e+02, 4.03428793e+02],\n",
              "       [7.38905610e+00, 2.98095799e+03, 2.00855369e+01]])"
            ]
          },
          "execution_count": 225,
          "metadata": {
            "tags": []
          },
          "output_type": "execute_result"
        }
      ],
      "source": [
        "# Exponential \n",
        "np.exp(diag_new)"
      ]
    },
    {
      "cell_type": "code",
      "execution_count": null,
      "metadata": {
        "colab": {
          "base_uri": "https://localhost:8080/"
        },
        "id": "ES3P6NYGYDeR",
        "outputId": "42c124d4-e839-44a6-fe4f-039fc2edc7fd"
      },
      "outputs": [
        {
          "data": {
            "text/plain": [
              "array([[2.07944154, 0.        , 1.09861229],\n",
              "       [1.79175947, 1.60943791, 1.79175947],\n",
              "       [0.69314718, 2.07944154, 1.09861229]])"
            ]
          },
          "execution_count": 226,
          "metadata": {
            "tags": []
          },
          "output_type": "execute_result"
        }
      ],
      "source": [
        "np.log(diag_new) #natural log"
      ]
    },
    {
      "cell_type": "code",
      "execution_count": null,
      "metadata": {
        "colab": {
          "base_uri": "https://localhost:8080/"
        },
        "id": "gZObWRHcYDbP",
        "outputId": "599fec53-52e4-4cb7-8750-629b45a8a117"
      },
      "outputs": [
        {
          "data": {
            "text/plain": [
              "array([[0.90308999, 0.        , 0.47712125],\n",
              "       [0.77815125, 0.69897   , 0.77815125],\n",
              "       [0.30103   , 0.90308999, 0.47712125]])"
            ]
          },
          "execution_count": 227,
          "metadata": {
            "tags": []
          },
          "output_type": "execute_result"
        }
      ],
      "source": [
        "np.log10(diag_new)"
      ]
    },
    {
      "cell_type": "code",
      "execution_count": null,
      "metadata": {
        "colab": {
          "base_uri": "https://localhost:8080/"
        },
        "id": "dZ_pk_1qYDYZ",
        "outputId": "5c384099-d412-4b41-d504-db8d87aa2108"
      },
      "outputs": [
        {
          "data": {
            "text/plain": [
              "array([[3.        , 0.        , 1.5849625 ],\n",
              "       [2.5849625 , 2.32192809, 2.5849625 ],\n",
              "       [1.        , 3.        , 1.5849625 ]])"
            ]
          },
          "execution_count": 228,
          "metadata": {
            "tags": []
          },
          "output_type": "execute_result"
        }
      ],
      "source": [
        "np.log2(diag_new)"
      ]
    },
    {
      "cell_type": "code",
      "execution_count": null,
      "metadata": {
        "colab": {
          "base_uri": "https://localhost:8080/"
        },
        "id": "1KrKjUkxYDVG",
        "outputId": "f13e1142-e0d3-44c9-9d69-84a823ed3f2c"
      },
      "outputs": [
        {
          "data": {
            "text/plain": [
              "array([2.30258509, 1.        , 4.60517019, 2.        ,        inf])"
            ]
          },
          "execution_count": 229,
          "metadata": {
            "tags": []
          },
          "output_type": "execute_result"
        }
      ],
      "source": [
        "np.log([10,np.e,100,np.e**2,np.inf])"
      ]
    },
    {
      "cell_type": "code",
      "execution_count": null,
      "metadata": {
        "colab": {
          "base_uri": "https://localhost:8080/"
        },
        "id": "SgTF8EVmZJUA",
        "outputId": "afb2b372-8d1b-4dea-f241-f9138e31d3f5"
      },
      "outputs": [
        {
          "data": {
            "text/plain": [
              "array([1.        , 0.43429448, 2.        , 0.86858896,        inf])"
            ]
          },
          "execution_count": 230,
          "metadata": {
            "tags": []
          },
          "output_type": "execute_result"
        }
      ],
      "source": [
        "np.log10([10,np.e,100,np.e**2,np.inf])"
      ]
    },
    {
      "cell_type": "code",
      "execution_count": null,
      "metadata": {
        "colab": {
          "base_uri": "https://localhost:8080/"
        },
        "id": "6ihumN2dZJA2",
        "outputId": "dedf9c37-5050-4d65-a889-73b1a315a616"
      },
      "outputs": [
        {
          "data": {
            "text/plain": [
              "array([[ 0.98935825,  0.84147098,  0.14112001],\n",
              "       [-0.2794155 , -0.95892427, -0.2794155 ],\n",
              "       [ 0.90929743,  0.98935825,  0.14112001]])"
            ]
          },
          "execution_count": 231,
          "metadata": {
            "tags": []
          },
          "output_type": "execute_result"
        }
      ],
      "source": [
        "np.sin(diag_new)"
      ]
    },
    {
      "cell_type": "code",
      "execution_count": null,
      "metadata": {
        "colab": {
          "base_uri": "https://localhost:8080/"
        },
        "id": "RqWVnRvXZcjP",
        "outputId": "271c4891-64bb-45d5-fe70-a3ee07f010cb"
      },
      "outputs": [
        {
          "data": {
            "text/plain": [
              "array([[-0.14550003,  0.54030231, -0.9899925 ],\n",
              "       [ 0.96017029,  0.28366219,  0.96017029],\n",
              "       [-0.41614684, -0.14550003, -0.9899925 ]])"
            ]
          },
          "execution_count": 232,
          "metadata": {
            "tags": []
          },
          "output_type": "execute_result"
        }
      ],
      "source": [
        "np.cos(diag_new)"
      ]
    },
    {
      "cell_type": "code",
      "execution_count": null,
      "metadata": {
        "colab": {
          "base_uri": "https://localhost:8080/"
        },
        "id": "2eVd5zJZZfea",
        "outputId": "12bc4ebc-7652-4177-c6d3-722be40a6808"
      },
      "outputs": [
        {
          "data": {
            "text/plain": [
              "array([[-6.79971146,  1.55740772, -0.14254654],\n",
              "       [-0.29100619, -3.38051501, -0.29100619],\n",
              "       [-2.18503986, -6.79971146, -0.14254654]])"
            ]
          },
          "execution_count": 233,
          "metadata": {
            "tags": []
          },
          "output_type": "execute_result"
        }
      ],
      "source": [
        "np.tan(diag_new)"
      ]
    },
    {
      "cell_type": "code",
      "execution_count": null,
      "metadata": {
        "colab": {
          "base_uri": "https://localhost:8080/"
        },
        "id": "I6cocZX1Z7_e",
        "outputId": "319f360b-90ba-420f-c2fd-c79e0075b9b3"
      },
      "outputs": [
        {
          "data": {
            "text/plain": [
              "array([[8, 1, 3],\n",
              "       [6, 5, 6],\n",
              "       [2, 8, 3]])"
            ]
          },
          "execution_count": 234,
          "metadata": {
            "tags": []
          },
          "output_type": "execute_result"
        }
      ],
      "source": [
        "diag_new"
      ]
    },
    {
      "cell_type": "code",
      "execution_count": null,
      "metadata": {
        "colab": {
          "base_uri": "https://localhost:8080/"
        },
        "id": "kelOPj2_ZfX8",
        "outputId": "988a261d-1103-49b8-c58b-68d880872bed"
      },
      "outputs": [
        {
          "data": {
            "text/plain": [
              "42"
            ]
          },
          "execution_count": 235,
          "metadata": {
            "tags": []
          },
          "output_type": "execute_result"
        }
      ],
      "source": [
        "np.sum(diag_new)"
      ]
    },
    {
      "cell_type": "code",
      "execution_count": null,
      "metadata": {
        "colab": {
          "base_uri": "https://localhost:8080/"
        },
        "id": "SUrqP06lZfUY",
        "outputId": "fc5a047f-865f-4175-fcf4-53c539ee7ca3"
      },
      "outputs": [
        {
          "data": {
            "text/plain": [
              "array([16, 14, 12])"
            ]
          },
          "execution_count": 236,
          "metadata": {
            "tags": []
          },
          "output_type": "execute_result"
        }
      ],
      "source": [
        "np.sum(diag_new,axis = 0)"
      ]
    },
    {
      "cell_type": "code",
      "execution_count": null,
      "metadata": {
        "colab": {
          "base_uri": "https://localhost:8080/"
        },
        "id": "wzUO9hOaZery",
        "outputId": "5fd597ec-e9b8-4c5f-93a4-ef974da17c66"
      },
      "outputs": [
        {
          "data": {
            "text/plain": [
              "array([12, 17, 13])"
            ]
          },
          "execution_count": 237,
          "metadata": {
            "tags": []
          },
          "output_type": "execute_result"
        }
      ],
      "source": [
        "np.sum(diag_new,axis = 1)"
      ]
    },
    {
      "cell_type": "code",
      "execution_count": null,
      "metadata": {
        "colab": {
          "base_uri": "https://localhost:8080/"
        },
        "id": "F-u1Z68Cbcgu",
        "outputId": "be615253-c024-49af-d560-e5abcfaf81ca"
      },
      "outputs": [
        {
          "data": {
            "text/plain": [
              "1"
            ]
          },
          "execution_count": 238,
          "metadata": {
            "tags": []
          },
          "output_type": "execute_result"
        }
      ],
      "source": [
        "np.min(diag_new)"
      ]
    },
    {
      "cell_type": "code",
      "execution_count": null,
      "metadata": {
        "colab": {
          "base_uri": "https://localhost:8080/"
        },
        "id": "HkyO0lazbcdh",
        "outputId": "42287e50-8d56-45a0-9686-ec124b044fa1"
      },
      "outputs": [
        {
          "data": {
            "text/plain": [
              "8"
            ]
          },
          "execution_count": 239,
          "metadata": {
            "tags": []
          },
          "output_type": "execute_result"
        }
      ],
      "source": [
        "np.max(diag_new)"
      ]
    },
    {
      "cell_type": "code",
      "execution_count": null,
      "metadata": {
        "colab": {
          "base_uri": "https://localhost:8080/"
        },
        "id": "VmJBY-idbcaD",
        "outputId": "02c3ff6b-b9b1-41d8-bfa9-2706cd272721"
      },
      "outputs": [
        {
          "data": {
            "text/plain": [
              "4.666666666666667"
            ]
          },
          "execution_count": 240,
          "metadata": {
            "tags": []
          },
          "output_type": "execute_result"
        }
      ],
      "source": [
        "np.mean(diag_new)"
      ]
    },
    {
      "cell_type": "code",
      "execution_count": null,
      "metadata": {
        "colab": {
          "base_uri": "https://localhost:8080/"
        },
        "id": "MHx9QsjAbcWc",
        "outputId": "6c4787bb-2abb-4802-98bb-b966764f1caa"
      },
      "outputs": [
        {
          "data": {
            "text/plain": [
              "5.0"
            ]
          },
          "execution_count": 241,
          "metadata": {
            "tags": []
          },
          "output_type": "execute_result"
        }
      ],
      "source": [
        "np.median(diag_new)"
      ]
    },
    {
      "cell_type": "code",
      "execution_count": null,
      "metadata": {
        "colab": {
          "base_uri": "https://localhost:8080/"
        },
        "id": "7QZ6KkphbcS0",
        "outputId": "1ba873eb-7549-40e8-c4fc-69ddc2f77cbe"
      },
      "outputs": [
        {
          "data": {
            "text/plain": [
              "2.4037008503093262"
            ]
          },
          "execution_count": 242,
          "metadata": {
            "tags": []
          },
          "output_type": "execute_result"
        }
      ],
      "source": [
        "np.std(diag_new)"
      ]
    },
    {
      "cell_type": "code",
      "execution_count": null,
      "metadata": {
        "colab": {
          "base_uri": "https://localhost:8080/"
        },
        "id": "cGvt2CPhbcPQ",
        "outputId": "64c5776d-27e4-42ba-a56b-fe0882e84c47"
      },
      "outputs": [
        {
          "data": {
            "text/plain": [
              "5.777777777777779"
            ]
          },
          "execution_count": 243,
          "metadata": {
            "tags": []
          },
          "output_type": "execute_result"
        }
      ],
      "source": [
        "np.var(diag_new)"
      ]
    },
    {
      "cell_type": "code",
      "execution_count": null,
      "metadata": {
        "colab": {
          "base_uri": "https://localhost:8080/"
        },
        "id": "dchu1sw8bxrn",
        "outputId": "8c422eae-a504-4ca5-e922-c679bac48900"
      },
      "outputs": [
        {
          "data": {
            "text/plain": [
              "array([[8, 1, 3],\n",
              "       [6, 5, 6],\n",
              "       [2, 8, 3]])"
            ]
          },
          "execution_count": 244,
          "metadata": {
            "tags": []
          },
          "output_type": "execute_result"
        }
      ],
      "source": [
        "np.abs(diag_new)"
      ]
    },
    {
      "cell_type": "markdown",
      "metadata": {
        "id": "H13hwYR8Q13Q"
      },
      "source": [
        "<h2>⭐Pandas</h2>"
      ]
    },
    {
      "cell_type": "code",
      "execution_count": null,
      "metadata": {
        "colab": {
          "base_uri": "https://localhost:8080/",
          "height": 139
        },
        "id": "rMyvpAgxQnOB",
        "outputId": "4aacd0ee-4e21-47d6-e172-0877679052c0"
      },
      "outputs": [
        {
          "data": {
            "text/html": [
              "<div>\n",
              "<style scoped>\n",
              "    .dataframe tbody tr th:only-of-type {\n",
              "        vertical-align: middle;\n",
              "    }\n",
              "\n",
              "    .dataframe tbody tr th {\n",
              "        vertical-align: top;\n",
              "    }\n",
              "\n",
              "    .dataframe thead th {\n",
              "        text-align: right;\n",
              "    }\n",
              "</style>\n",
              "<table border=\"1\" class=\"dataframe\">\n",
              "  <thead>\n",
              "    <tr style=\"text-align: right;\">\n",
              "      <th></th>\n",
              "      <th>0</th>\n",
              "      <th>1</th>\n",
              "      <th>2</th>\n",
              "      <th>3</th>\n",
              "    </tr>\n",
              "  </thead>\n",
              "  <tbody>\n",
              "    <tr>\n",
              "      <th>0</th>\n",
              "      <td>1</td>\n",
              "      <td>2</td>\n",
              "      <td>3</td>\n",
              "      <td>4</td>\n",
              "    </tr>\n",
              "    <tr>\n",
              "      <th>1</th>\n",
              "      <td>5</td>\n",
              "      <td>6</td>\n",
              "      <td>7</td>\n",
              "      <td>8</td>\n",
              "    </tr>\n",
              "    <tr>\n",
              "      <th>2</th>\n",
              "      <td>9</td>\n",
              "      <td>10</td>\n",
              "      <td>11</td>\n",
              "      <td>12</td>\n",
              "    </tr>\n",
              "  </tbody>\n",
              "</table>\n",
              "</div>"
            ],
            "text/plain": [
              "   0   1   2   3\n",
              "0  1   2   3   4\n",
              "1  5   6   7   8\n",
              "2  9  10  11  12"
            ]
          },
          "execution_count": 245,
          "metadata": {
            "tags": []
          },
          "output_type": "execute_result"
        }
      ],
      "source": [
        "a = [[1,2,3,4],[5,6,7,8],[9,10,11,12]]\n",
        "a = pd.DataFrame(a)\n",
        "a"
      ]
    },
    {
      "cell_type": "code",
      "execution_count": null,
      "metadata": {
        "colab": {
          "base_uri": "https://localhost:8080/"
        },
        "id": "OcohUcLuREYn",
        "outputId": "bd0c3a34-9d00-4243-caf8-2f8331ca9ef3"
      },
      "outputs": [
        {
          "name": "stdout",
          "output_type": "stream",
          "text": [
            "The dataframe has 3 rows and 4 columns\n"
          ]
        }
      ],
      "source": [
        "print('The dataframe has {} rows and {} columns'.format(a.shape[0],a.shape[1]))"
      ]
    },
    {
      "cell_type": "code",
      "execution_count": null,
      "metadata": {
        "colab": {
          "base_uri": "https://localhost:8080/"
        },
        "id": "e0Ld3jAoRJSz",
        "outputId": "191508ab-753d-4b2a-8000-f32f3035e90d"
      },
      "outputs": [
        {
          "data": {
            "text/plain": [
              "RangeIndex(start=0, stop=4, step=1)"
            ]
          },
          "execution_count": 247,
          "metadata": {
            "tags": []
          },
          "output_type": "execute_result"
        }
      ],
      "source": [
        "a.columns"
      ]
    },
    {
      "cell_type": "code",
      "execution_count": null,
      "metadata": {
        "colab": {
          "base_uri": "https://localhost:8080/"
        },
        "id": "BLlvxtR1acuK",
        "outputId": "542a1af3-5335-4f99-c3c7-17473d536113"
      },
      "outputs": [
        {
          "name": "stdout",
          "output_type": "stream",
          "text": [
            "0\n",
            "1\n",
            "2\n",
            "3\n"
          ]
        }
      ],
      "source": [
        "for i in a.columns:\n",
        "    print(i)"
      ]
    },
    {
      "cell_type": "code",
      "execution_count": null,
      "metadata": {
        "colab": {
          "base_uri": "https://localhost:8080/",
          "height": 139
        },
        "id": "oPEZuXwMzK-K",
        "outputId": "c6a87daf-bb16-4668-b079-2c284bc8ea52"
      },
      "outputs": [
        {
          "data": {
            "text/html": [
              "<div>\n",
              "<style scoped>\n",
              "    .dataframe tbody tr th:only-of-type {\n",
              "        vertical-align: middle;\n",
              "    }\n",
              "\n",
              "    .dataframe tbody tr th {\n",
              "        vertical-align: top;\n",
              "    }\n",
              "\n",
              "    .dataframe thead th {\n",
              "        text-align: right;\n",
              "    }\n",
              "</style>\n",
              "<table border=\"1\" class=\"dataframe\">\n",
              "  <thead>\n",
              "    <tr style=\"text-align: right;\">\n",
              "      <th></th>\n",
              "      <th>a</th>\n",
              "      <th>b</th>\n",
              "      <th>c</th>\n",
              "      <th>d</th>\n",
              "    </tr>\n",
              "  </thead>\n",
              "  <tbody>\n",
              "    <tr>\n",
              "      <th>0</th>\n",
              "      <td>1</td>\n",
              "      <td>2</td>\n",
              "      <td>3</td>\n",
              "      <td>4</td>\n",
              "    </tr>\n",
              "    <tr>\n",
              "      <th>1</th>\n",
              "      <td>5</td>\n",
              "      <td>6</td>\n",
              "      <td>7</td>\n",
              "      <td>8</td>\n",
              "    </tr>\n",
              "    <tr>\n",
              "      <th>2</th>\n",
              "      <td>9</td>\n",
              "      <td>10</td>\n",
              "      <td>11</td>\n",
              "      <td>12</td>\n",
              "    </tr>\n",
              "  </tbody>\n",
              "</table>\n",
              "</div>"
            ],
            "text/plain": [
              "   a   b   c   d\n",
              "0  1   2   3   4\n",
              "1  5   6   7   8\n",
              "2  9  10  11  12"
            ]
          },
          "execution_count": 249,
          "metadata": {
            "tags": []
          },
          "output_type": "execute_result"
        }
      ],
      "source": [
        "a.columns = list('abcd')\n",
        "a"
      ]
    },
    {
      "cell_type": "code",
      "execution_count": null,
      "metadata": {
        "colab": {
          "base_uri": "https://localhost:8080/"
        },
        "id": "DXLG-MxPzRwc",
        "outputId": "91854977-7ba0-422e-c576-d48b69ce0279"
      },
      "outputs": [
        {
          "data": {
            "text/plain": [
              "15"
            ]
          },
          "execution_count": 250,
          "metadata": {
            "tags": []
          },
          "output_type": "execute_result"
        }
      ],
      "source": [
        "a['a'].sum()"
      ]
    },
    {
      "cell_type": "code",
      "execution_count": null,
      "metadata": {
        "colab": {
          "base_uri": "https://localhost:8080/",
          "height": 290
        },
        "id": "VDDNDrE6zYvY",
        "outputId": "3faf3da5-ea0a-405d-df6b-60f5e0c25350"
      },
      "outputs": [
        {
          "data": {
            "text/html": [
              "<div>\n",
              "<style scoped>\n",
              "    .dataframe tbody tr th:only-of-type {\n",
              "        vertical-align: middle;\n",
              "    }\n",
              "\n",
              "    .dataframe tbody tr th {\n",
              "        vertical-align: top;\n",
              "    }\n",
              "\n",
              "    .dataframe thead th {\n",
              "        text-align: right;\n",
              "    }\n",
              "</style>\n",
              "<table border=\"1\" class=\"dataframe\">\n",
              "  <thead>\n",
              "    <tr style=\"text-align: right;\">\n",
              "      <th></th>\n",
              "      <th>a</th>\n",
              "      <th>b</th>\n",
              "      <th>c</th>\n",
              "      <th>d</th>\n",
              "    </tr>\n",
              "  </thead>\n",
              "  <tbody>\n",
              "    <tr>\n",
              "      <th>count</th>\n",
              "      <td>3.0</td>\n",
              "      <td>3.0</td>\n",
              "      <td>3.0</td>\n",
              "      <td>3.0</td>\n",
              "    </tr>\n",
              "    <tr>\n",
              "      <th>mean</th>\n",
              "      <td>5.0</td>\n",
              "      <td>6.0</td>\n",
              "      <td>7.0</td>\n",
              "      <td>8.0</td>\n",
              "    </tr>\n",
              "    <tr>\n",
              "      <th>std</th>\n",
              "      <td>4.0</td>\n",
              "      <td>4.0</td>\n",
              "      <td>4.0</td>\n",
              "      <td>4.0</td>\n",
              "    </tr>\n",
              "    <tr>\n",
              "      <th>min</th>\n",
              "      <td>1.0</td>\n",
              "      <td>2.0</td>\n",
              "      <td>3.0</td>\n",
              "      <td>4.0</td>\n",
              "    </tr>\n",
              "    <tr>\n",
              "      <th>25%</th>\n",
              "      <td>3.0</td>\n",
              "      <td>4.0</td>\n",
              "      <td>5.0</td>\n",
              "      <td>6.0</td>\n",
              "    </tr>\n",
              "    <tr>\n",
              "      <th>50%</th>\n",
              "      <td>5.0</td>\n",
              "      <td>6.0</td>\n",
              "      <td>7.0</td>\n",
              "      <td>8.0</td>\n",
              "    </tr>\n",
              "    <tr>\n",
              "      <th>75%</th>\n",
              "      <td>7.0</td>\n",
              "      <td>8.0</td>\n",
              "      <td>9.0</td>\n",
              "      <td>10.0</td>\n",
              "    </tr>\n",
              "    <tr>\n",
              "      <th>max</th>\n",
              "      <td>9.0</td>\n",
              "      <td>10.0</td>\n",
              "      <td>11.0</td>\n",
              "      <td>12.0</td>\n",
              "    </tr>\n",
              "  </tbody>\n",
              "</table>\n",
              "</div>"
            ],
            "text/plain": [
              "         a     b     c     d\n",
              "count  3.0   3.0   3.0   3.0\n",
              "mean   5.0   6.0   7.0   8.0\n",
              "std    4.0   4.0   4.0   4.0\n",
              "min    1.0   2.0   3.0   4.0\n",
              "25%    3.0   4.0   5.0   6.0\n",
              "50%    5.0   6.0   7.0   8.0\n",
              "75%    7.0   8.0   9.0  10.0\n",
              "max    9.0  10.0  11.0  12.0"
            ]
          },
          "execution_count": 251,
          "metadata": {
            "tags": []
          },
          "output_type": "execute_result"
        }
      ],
      "source": [
        "a.describe()"
      ]
    },
    {
      "cell_type": "code",
      "execution_count": null,
      "metadata": {
        "colab": {
          "base_uri": "https://localhost:8080/",
          "height": 78
        },
        "id": "nzmsUxYszdGX",
        "outputId": "b5325b25-bc6b-4503-cd32-2ea4a5ec653a"
      },
      "outputs": [
        {
          "data": {
            "text/html": [
              "<div>\n",
              "<style scoped>\n",
              "    .dataframe tbody tr th:only-of-type {\n",
              "        vertical-align: middle;\n",
              "    }\n",
              "\n",
              "    .dataframe tbody tr th {\n",
              "        vertical-align: top;\n",
              "    }\n",
              "\n",
              "    .dataframe thead th {\n",
              "        text-align: right;\n",
              "    }\n",
              "</style>\n",
              "<table border=\"1\" class=\"dataframe\">\n",
              "  <thead>\n",
              "    <tr style=\"text-align: right;\">\n",
              "      <th></th>\n",
              "      <th>a</th>\n",
              "      <th>b</th>\n",
              "      <th>c</th>\n",
              "      <th>d</th>\n",
              "    </tr>\n",
              "  </thead>\n",
              "  <tbody>\n",
              "    <tr>\n",
              "      <th>0</th>\n",
              "      <td>1</td>\n",
              "      <td>2</td>\n",
              "      <td>3</td>\n",
              "      <td>4</td>\n",
              "    </tr>\n",
              "  </tbody>\n",
              "</table>\n",
              "</div>"
            ],
            "text/plain": [
              "   a  b  c  d\n",
              "0  1  2  3  4"
            ]
          },
          "execution_count": 252,
          "metadata": {
            "tags": []
          },
          "output_type": "execute_result"
        }
      ],
      "source": [
        "a.head(1)"
      ]
    },
    {
      "cell_type": "code",
      "execution_count": null,
      "metadata": {
        "colab": {
          "base_uri": "https://localhost:8080/",
          "height": 78
        },
        "id": "vbXVfaAMzqq6",
        "outputId": "ceb9aa22-dcc8-47bf-e471-85ec8e928279"
      },
      "outputs": [
        {
          "data": {
            "text/html": [
              "<div>\n",
              "<style scoped>\n",
              "    .dataframe tbody tr th:only-of-type {\n",
              "        vertical-align: middle;\n",
              "    }\n",
              "\n",
              "    .dataframe tbody tr th {\n",
              "        vertical-align: top;\n",
              "    }\n",
              "\n",
              "    .dataframe thead th {\n",
              "        text-align: right;\n",
              "    }\n",
              "</style>\n",
              "<table border=\"1\" class=\"dataframe\">\n",
              "  <thead>\n",
              "    <tr style=\"text-align: right;\">\n",
              "      <th></th>\n",
              "      <th>a</th>\n",
              "      <th>b</th>\n",
              "      <th>c</th>\n",
              "      <th>d</th>\n",
              "    </tr>\n",
              "  </thead>\n",
              "  <tbody>\n",
              "    <tr>\n",
              "      <th>2</th>\n",
              "      <td>9</td>\n",
              "      <td>10</td>\n",
              "      <td>11</td>\n",
              "      <td>12</td>\n",
              "    </tr>\n",
              "  </tbody>\n",
              "</table>\n",
              "</div>"
            ],
            "text/plain": [
              "   a   b   c   d\n",
              "2  9  10  11  12"
            ]
          },
          "execution_count": 253,
          "metadata": {
            "tags": []
          },
          "output_type": "execute_result"
        }
      ],
      "source": [
        "a.tail(1)"
      ]
    },
    {
      "cell_type": "code",
      "execution_count": null,
      "metadata": {
        "colab": {
          "base_uri": "https://localhost:8080/",
          "height": 78
        },
        "id": "0HyNaaVuzr50",
        "outputId": "f2ce1868-2f14-4b1b-b44c-7b28f5fa0fb0"
      },
      "outputs": [
        {
          "data": {
            "text/html": [
              "<div>\n",
              "<style scoped>\n",
              "    .dataframe tbody tr th:only-of-type {\n",
              "        vertical-align: middle;\n",
              "    }\n",
              "\n",
              "    .dataframe tbody tr th {\n",
              "        vertical-align: top;\n",
              "    }\n",
              "\n",
              "    .dataframe thead th {\n",
              "        text-align: right;\n",
              "    }\n",
              "</style>\n",
              "<table border=\"1\" class=\"dataframe\">\n",
              "  <thead>\n",
              "    <tr style=\"text-align: right;\">\n",
              "      <th></th>\n",
              "      <th>a</th>\n",
              "      <th>b</th>\n",
              "      <th>c</th>\n",
              "      <th>d</th>\n",
              "    </tr>\n",
              "  </thead>\n",
              "  <tbody>\n",
              "    <tr>\n",
              "      <th>0</th>\n",
              "      <td>1</td>\n",
              "      <td>2</td>\n",
              "      <td>3</td>\n",
              "      <td>4</td>\n",
              "    </tr>\n",
              "  </tbody>\n",
              "</table>\n",
              "</div>"
            ],
            "text/plain": [
              "   a  b  c  d\n",
              "0  1  2  3  4"
            ]
          },
          "execution_count": 254,
          "metadata": {
            "tags": []
          },
          "output_type": "execute_result"
        }
      ],
      "source": [
        "a.sample(1)"
      ]
    },
    {
      "cell_type": "code",
      "execution_count": null,
      "metadata": {
        "colab": {
          "base_uri": "https://localhost:8080/"
        },
        "id": "9-qDTZOnztQk",
        "outputId": "d1fcb4eb-6da7-443f-cada-8f009d9014cb"
      },
      "outputs": [
        {
          "data": {
            "text/plain": [
              "array([1, 5, 9])"
            ]
          },
          "execution_count": 255,
          "metadata": {
            "tags": []
          },
          "output_type": "execute_result"
        }
      ],
      "source": [
        "a['a'].unique()"
      ]
    },
    {
      "cell_type": "code",
      "execution_count": null,
      "metadata": {
        "colab": {
          "base_uri": "https://localhost:8080/",
          "height": 139
        },
        "id": "HoISC4cqzx46",
        "outputId": "417240ca-8770-45d3-b99c-a2c00b0ec882"
      },
      "outputs": [
        {
          "data": {
            "text/html": [
              "<div>\n",
              "<style scoped>\n",
              "    .dataframe tbody tr th:only-of-type {\n",
              "        vertical-align: middle;\n",
              "    }\n",
              "\n",
              "    .dataframe tbody tr th {\n",
              "        vertical-align: top;\n",
              "    }\n",
              "\n",
              "    .dataframe thead th {\n",
              "        text-align: right;\n",
              "    }\n",
              "</style>\n",
              "<table border=\"1\" class=\"dataframe\">\n",
              "  <thead>\n",
              "    <tr style=\"text-align: right;\">\n",
              "      <th></th>\n",
              "      <th>a</th>\n",
              "      <th>b</th>\n",
              "      <th>c</th>\n",
              "      <th>d</th>\n",
              "      <th>e</th>\n",
              "    </tr>\n",
              "  </thead>\n",
              "  <tbody>\n",
              "    <tr>\n",
              "      <th>0</th>\n",
              "      <td>1</td>\n",
              "      <td>2</td>\n",
              "      <td>3</td>\n",
              "      <td>4</td>\n",
              "      <td>0</td>\n",
              "    </tr>\n",
              "    <tr>\n",
              "      <th>1</th>\n",
              "      <td>5</td>\n",
              "      <td>6</td>\n",
              "      <td>7</td>\n",
              "      <td>8</td>\n",
              "      <td>0</td>\n",
              "    </tr>\n",
              "    <tr>\n",
              "      <th>2</th>\n",
              "      <td>9</td>\n",
              "      <td>10</td>\n",
              "      <td>11</td>\n",
              "      <td>12</td>\n",
              "      <td>0</td>\n",
              "    </tr>\n",
              "  </tbody>\n",
              "</table>\n",
              "</div>"
            ],
            "text/plain": [
              "   a   b   c   d  e\n",
              "0  1   2   3   4  0\n",
              "1  5   6   7   8  0\n",
              "2  9  10  11  12  0"
            ]
          },
          "execution_count": 256,
          "metadata": {
            "tags": []
          },
          "output_type": "execute_result"
        }
      ],
      "source": [
        "a['e'] = 0\n",
        "a"
      ]
    },
    {
      "cell_type": "code",
      "execution_count": null,
      "metadata": {
        "colab": {
          "base_uri": "https://localhost:8080/",
          "height": 108
        },
        "id": "dJ4kfwEcz9mr",
        "outputId": "ca24acbb-6e89-4114-b959-f5369b7fca19"
      },
      "outputs": [
        {
          "data": {
            "text/html": [
              "<div>\n",
              "<style scoped>\n",
              "    .dataframe tbody tr th:only-of-type {\n",
              "        vertical-align: middle;\n",
              "    }\n",
              "\n",
              "    .dataframe tbody tr th {\n",
              "        vertical-align: top;\n",
              "    }\n",
              "\n",
              "    .dataframe thead th {\n",
              "        text-align: right;\n",
              "    }\n",
              "</style>\n",
              "<table border=\"1\" class=\"dataframe\">\n",
              "  <thead>\n",
              "    <tr style=\"text-align: right;\">\n",
              "      <th></th>\n",
              "      <th>a</th>\n",
              "      <th>b</th>\n",
              "    </tr>\n",
              "  </thead>\n",
              "  <tbody>\n",
              "    <tr>\n",
              "      <th>1</th>\n",
              "      <td>5</td>\n",
              "      <td>6</td>\n",
              "    </tr>\n",
              "    <tr>\n",
              "      <th>2</th>\n",
              "      <td>9</td>\n",
              "      <td>10</td>\n",
              "    </tr>\n",
              "  </tbody>\n",
              "</table>\n",
              "</div>"
            ],
            "text/plain": [
              "   a   b\n",
              "1  5   6\n",
              "2  9  10"
            ]
          },
          "execution_count": 257,
          "metadata": {
            "tags": []
          },
          "output_type": "execute_result"
        }
      ],
      "source": [
        "a.loc[1:2,['a','b']]"
      ]
    },
    {
      "cell_type": "code",
      "execution_count": null,
      "metadata": {
        "colab": {
          "base_uri": "https://localhost:8080/"
        },
        "id": "kv_qr5U70G1w",
        "outputId": "b217310e-3972-4466-b272-e93b69a8639f"
      },
      "outputs": [
        {
          "data": {
            "text/plain": [
              "6"
            ]
          },
          "execution_count": 258,
          "metadata": {
            "tags": []
          },
          "output_type": "execute_result"
        }
      ],
      "source": [
        "a.iloc[1,1]"
      ]
    },
    {
      "cell_type": "code",
      "execution_count": null,
      "metadata": {
        "colab": {
          "base_uri": "https://localhost:8080/"
        },
        "id": "B2ha-uon0Toq",
        "outputId": "3f89bb7f-bbea-40d1-cc79-123c84e77eba"
      },
      "outputs": [
        {
          "data": {
            "text/plain": [
              "9    1\n",
              "5    1\n",
              "1    1\n",
              "Name: a, dtype: int64"
            ]
          },
          "execution_count": 259,
          "metadata": {
            "tags": []
          },
          "output_type": "execute_result"
        }
      ],
      "source": [
        "a['a'].value_counts()"
      ]
    },
    {
      "cell_type": "code",
      "execution_count": null,
      "metadata": {
        "colab": {
          "base_uri": "https://localhost:8080/",
          "height": 199
        },
        "id": "KN56Rlpu0Yju",
        "outputId": "f707059c-6d2f-4e50-d6bf-e1a78b842c53"
      },
      "outputs": [
        {
          "data": {
            "text/html": [
              "<div>\n",
              "<style scoped>\n",
              "    .dataframe tbody tr th:only-of-type {\n",
              "        vertical-align: middle;\n",
              "    }\n",
              "\n",
              "    .dataframe tbody tr th {\n",
              "        vertical-align: top;\n",
              "    }\n",
              "\n",
              "    .dataframe thead th {\n",
              "        text-align: right;\n",
              "    }\n",
              "</style>\n",
              "<table border=\"1\" class=\"dataframe\">\n",
              "  <thead>\n",
              "    <tr style=\"text-align: right;\">\n",
              "      <th></th>\n",
              "      <th>0</th>\n",
              "      <th>1</th>\n",
              "      <th>2</th>\n",
              "    </tr>\n",
              "  </thead>\n",
              "  <tbody>\n",
              "    <tr>\n",
              "      <th>a</th>\n",
              "      <td>1</td>\n",
              "      <td>5</td>\n",
              "      <td>9</td>\n",
              "    </tr>\n",
              "    <tr>\n",
              "      <th>b</th>\n",
              "      <td>2</td>\n",
              "      <td>6</td>\n",
              "      <td>10</td>\n",
              "    </tr>\n",
              "    <tr>\n",
              "      <th>c</th>\n",
              "      <td>3</td>\n",
              "      <td>7</td>\n",
              "      <td>11</td>\n",
              "    </tr>\n",
              "    <tr>\n",
              "      <th>d</th>\n",
              "      <td>4</td>\n",
              "      <td>8</td>\n",
              "      <td>12</td>\n",
              "    </tr>\n",
              "    <tr>\n",
              "      <th>e</th>\n",
              "      <td>0</td>\n",
              "      <td>0</td>\n",
              "      <td>0</td>\n",
              "    </tr>\n",
              "  </tbody>\n",
              "</table>\n",
              "</div>"
            ],
            "text/plain": [
              "   0  1   2\n",
              "a  1  5   9\n",
              "b  2  6  10\n",
              "c  3  7  11\n",
              "d  4  8  12\n",
              "e  0  0   0"
            ]
          },
          "execution_count": 260,
          "metadata": {
            "tags": []
          },
          "output_type": "execute_result"
        }
      ],
      "source": [
        "a.T"
      ]
    },
    {
      "cell_type": "code",
      "source": [
        ""
      ],
      "metadata": {
        "id": "4kLY70OBQmZL"
      },
      "execution_count": null,
      "outputs": []
    },
    {
      "cell_type": "code",
      "source": [
        "df = pd.DataFrame(\n",
        "    np.random.randn(10, 5),\n",
        "    columns=('col %d' % i for i in range(5)))"
      ],
      "metadata": {
        "id": "AeMVUTCcQl97"
      },
      "execution_count": null,
      "outputs": []
    }
  ],
  "metadata": {
    "colab": {
      "name": "Untitled10.ipynb",
      "provenance": [],
      "include_colab_link": true
    },
    "kernelspec": {
      "display_name": "Python 3",
      "name": "python3"
    },
    "language_info": {
      "codemirror_mode": {
        "name": "ipython",
        "version": 3
      },
      "file_extension": ".py",
      "mimetype": "text/x-python",
      "name": "python",
      "nbconvert_exporter": "python",
      "pygments_lexer": "ipython3",
      "version": "3.6.8"
    }
  },
  "nbformat": 4,
  "nbformat_minor": 0
}