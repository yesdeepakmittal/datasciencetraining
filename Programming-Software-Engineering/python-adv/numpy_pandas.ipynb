{
  "nbformat": 4,
  "nbformat_minor": 0,
  "metadata": {
    "colab": {
      "name": "Untitled10.ipynb",
      "provenance": [],
      "authorship_tag": "ABX9TyPQUtrD+lFx7PlhzSFj+13j",
      "include_colab_link": true
    },
    "kernelspec": {
      "name": "python3",
      "display_name": "Python 3"
    }
  },
  "cells": [
    {
      "cell_type": "markdown",
      "metadata": {
        "id": "view-in-github",
        "colab_type": "text"
      },
      "source": [
        "<a href=\"https://colab.research.google.com/github/yesdeepakmittal/pytraining/blob/master/numpy_pandas.ipynb\" target=\"_parent\"><img src=\"https://colab.research.google.com/assets/colab-badge.svg\" alt=\"Open In Colab\"/></a>"
      ]
    },
    {
      "cell_type": "code",
      "metadata": {
        "id": "q-EWWbcGMjUM"
      },
      "source": [
        "import numpy as np\n",
        "import pandas as pd\n",
        "import math"
      ],
      "execution_count": 104,
      "outputs": []
    },
    {
      "cell_type": "code",
      "metadata": {
        "id": "ZgqCmrxPNKIx",
        "colab": {
          "base_uri": "https://localhost:8080/"
        },
        "outputId": "36336f12-158f-4cbb-b146-dbad0ed807ec"
      },
      "source": [
        "print(math.sqrt(25))\n",
        "print(math.pi)"
      ],
      "execution_count": 105,
      "outputs": [
        {
          "output_type": "stream",
          "text": [
            "5.0\n",
            "3.141592653589793\n"
          ],
          "name": "stdout"
        }
      ]
    },
    {
      "cell_type": "markdown",
      "metadata": {
        "id": "utRHwNXHNXhV"
      },
      "source": [
        "<h2>⭐Numpy</h2>"
      ]
    },
    {
      "cell_type": "code",
      "metadata": {
        "id": "evbrEIYTNSE1",
        "colab": {
          "base_uri": "https://localhost:8080/"
        },
        "outputId": "ab1f204e-f680-4dd4-d305-3a1547ced277"
      },
      "source": [
        "zero_matrix = np.zeros(3)\n",
        "print(zero_matrix)\n",
        "\n",
        "print('\\n')\n",
        "\n",
        "zero_matrix = np.zeros((3,3))\n",
        "print(zero_matrix)"
      ],
      "execution_count": 106,
      "outputs": [
        {
          "output_type": "stream",
          "text": [
            "[0. 0. 0.]\n",
            "\n",
            "\n",
            "[[0. 0. 0.]\n",
            " [0. 0. 0.]\n",
            " [0. 0. 0.]]\n"
          ],
          "name": "stdout"
        }
      ]
    },
    {
      "cell_type": "code",
      "metadata": {
        "id": "WQ_TyizISMT7",
        "outputId": "0ecd9efa-16dd-4658-f401-cfb947561eb0",
        "colab": {
          "base_uri": "https://localhost:8080/"
        }
      },
      "source": [
        "np.ones((3,4))"
      ],
      "execution_count": 107,
      "outputs": [
        {
          "output_type": "execute_result",
          "data": {
            "text/plain": [
              "array([[1., 1., 1., 1.],\n",
              "       [1., 1., 1., 1.],\n",
              "       [1., 1., 1., 1.]])"
            ]
          },
          "metadata": {
            "tags": []
          },
          "execution_count": 107
        }
      ]
    },
    {
      "cell_type": "code",
      "metadata": {
        "id": "3ysRWLmPSWZ1",
        "outputId": "04086f0e-46c4-4085-b5a5-5f92b209d422",
        "colab": {
          "base_uri": "https://localhost:8080/"
        }
      },
      "source": [
        "np.ones((3,3,3))"
      ],
      "execution_count": 108,
      "outputs": [
        {
          "output_type": "execute_result",
          "data": {
            "text/plain": [
              "array([[[1., 1., 1.],\n",
              "        [1., 1., 1.],\n",
              "        [1., 1., 1.]],\n",
              "\n",
              "       [[1., 1., 1.],\n",
              "        [1., 1., 1.],\n",
              "        [1., 1., 1.]],\n",
              "\n",
              "       [[1., 1., 1.],\n",
              "        [1., 1., 1.],\n",
              "        [1., 1., 1.]]])"
            ]
          },
          "metadata": {
            "tags": []
          },
          "execution_count": 108
        }
      ]
    },
    {
      "cell_type": "code",
      "metadata": {
        "id": "oaC1a5QdNmbU",
        "colab": {
          "base_uri": "https://localhost:8080/"
        },
        "outputId": "a25f551f-7bdf-4d77-fc83-08604a5e39c7"
      },
      "source": [
        "matrix = np.array([[1,2,3,4],[5,6,7,8]])\n",
        "print(matrix)\n",
        "\n",
        "print('\\n')\n",
        "\n",
        "print('Transposed Matrix\\n',matrix.T)"
      ],
      "execution_count": 109,
      "outputs": [
        {
          "output_type": "stream",
          "text": [
            "[[1 2 3 4]\n",
            " [5 6 7 8]]\n",
            "\n",
            "\n",
            "Transposed Matrix\n",
            " [[1 5]\n",
            " [2 6]\n",
            " [3 7]\n",
            " [4 8]]\n"
          ],
          "name": "stdout"
        }
      ]
    },
    {
      "cell_type": "code",
      "metadata": {
        "id": "ogoulGmmOJjV",
        "colab": {
          "base_uri": "https://localhost:8080/"
        },
        "outputId": "a30084cd-fdd4-4559-9e27-246cd087906c"
      },
      "source": [
        "print(matrix[1,1]) #Accessing (1,1)th element"
      ],
      "execution_count": 110,
      "outputs": [
        {
          "output_type": "stream",
          "text": [
            "6\n"
          ],
          "name": "stdout"
        }
      ]
    },
    {
      "cell_type": "code",
      "metadata": {
        "id": "cdEb99VSOc7l",
        "colab": {
          "base_uri": "https://localhost:8080/"
        },
        "outputId": "16f361e5-8cd8-40ea-f706-d6ea7ecd23b1"
      },
      "source": [
        "print(np.shape(matrix))"
      ],
      "execution_count": 111,
      "outputs": [
        {
          "output_type": "stream",
          "text": [
            "(2, 4)\n"
          ],
          "name": "stdout"
        }
      ]
    },
    {
      "cell_type": "code",
      "metadata": {
        "id": "qLHnA6ndOoiB",
        "colab": {
          "base_uri": "https://localhost:8080/"
        },
        "outputId": "e54c6e19-30ee-4668-c7ec-3e87914157c1"
      },
      "source": [
        "print('The sum of columns of a matrix:',sum(matrix))"
      ],
      "execution_count": 112,
      "outputs": [
        {
          "output_type": "stream",
          "text": [
            "The sum of columns of a matrix: [ 6  8 10 12]\n"
          ],
          "name": "stdout"
        }
      ]
    },
    {
      "cell_type": "code",
      "metadata": {
        "id": "4N14-bQzPLoQ",
        "colab": {
          "base_uri": "https://localhost:8080/"
        },
        "outputId": "7d714c2f-a49b-4446-b8f9-24e9b0b17938"
      },
      "source": [
        "print('The sum of first row:',np.sum(matrix[0]))\n",
        "print('The sum of second row:',np.sum(matrix[1]))\n",
        "\n",
        "print('\\n')\n",
        "\n",
        "print('The sum of first column:',np.sum(matrix,axis=0)[0])\n",
        "print('The sum of first column:',sum(matrix)[0])"
      ],
      "execution_count": 113,
      "outputs": [
        {
          "output_type": "stream",
          "text": [
            "The sum of first row: 10\n",
            "The sum of second row: 26\n",
            "\n",
            "\n",
            "The sum of first column: 6\n",
            "The sum of first column: 6\n"
          ],
          "name": "stdout"
        }
      ]
    },
    {
      "cell_type": "code",
      "metadata": {
        "id": "kOCevSp3O1x5",
        "colab": {
          "base_uri": "https://localhost:8080/"
        },
        "outputId": "225e3206-503e-4b65-cb38-21be62897a00"
      },
      "source": [
        "print('The sum of entire matrix:',np.sum(matrix))"
      ],
      "execution_count": 114,
      "outputs": [
        {
          "output_type": "stream",
          "text": [
            "The sum of entire matrix: 36\n"
          ],
          "name": "stdout"
        }
      ]
    },
    {
      "cell_type": "code",
      "metadata": {
        "id": "5KsQpcZkPGOi",
        "colab": {
          "base_uri": "https://localhost:8080/"
        },
        "outputId": "70a21465-8e95-418e-a882-bdbe48fe06ae"
      },
      "source": [
        "print(matrix)"
      ],
      "execution_count": 115,
      "outputs": [
        {
          "output_type": "stream",
          "text": [
            "[[1 2 3 4]\n",
            " [5 6 7 8]]\n"
          ],
          "name": "stdout"
        }
      ]
    },
    {
      "cell_type": "code",
      "metadata": {
        "id": "mL7BjK1dRs44",
        "outputId": "15d74083-5285-4f12-9a68-9df3a1894954",
        "colab": {
          "base_uri": "https://localhost:8080/"
        }
      },
      "source": [
        "print(np.random.rand(15))"
      ],
      "execution_count": 116,
      "outputs": [
        {
          "output_type": "stream",
          "text": [
            "[0.45829783 0.59531248 0.01505289 0.8252198  0.28350792 0.30183779\n",
            " 0.46306183 0.51973168 0.29869969 0.68555412 0.95014708 0.05133773\n",
            " 0.73537487 0.70696861 0.62368672]\n"
          ],
          "name": "stdout"
        }
      ]
    },
    {
      "cell_type": "code",
      "metadata": {
        "id": "u_6LbXP2SFHo",
        "outputId": "8aff14a7-9486-4fa9-f830-9eda7e79c58c",
        "colab": {
          "base_uri": "https://localhost:8080/"
        }
      },
      "source": [
        "np.random.rand(3,3)"
      ],
      "execution_count": 117,
      "outputs": [
        {
          "output_type": "execute_result",
          "data": {
            "text/plain": [
              "array([[0.75438605, 0.96461452, 0.85849913],\n",
              "       [0.33218935, 0.33761125, 0.95306981],\n",
              "       [0.48428677, 0.79543499, 0.51038305]])"
            ]
          },
          "metadata": {
            "tags": []
          },
          "execution_count": 117
        }
      ]
    },
    {
      "cell_type": "code",
      "metadata": {
        "id": "gb0Kh6AERsrP",
        "outputId": "79e155a6-7cc4-46d9-cc40-f1a3c363877d",
        "colab": {
          "base_uri": "https://localhost:8080/"
        }
      },
      "source": [
        "np.linspace(1,10,10)"
      ],
      "execution_count": 118,
      "outputs": [
        {
          "output_type": "execute_result",
          "data": {
            "text/plain": [
              "array([ 1.,  2.,  3.,  4.,  5.,  6.,  7.,  8.,  9., 10.])"
            ]
          },
          "metadata": {
            "tags": []
          },
          "execution_count": 118
        }
      ]
    },
    {
      "cell_type": "code",
      "metadata": {
        "id": "AiXv2DFrRzzS",
        "outputId": "dae3ada3-eb55-4d3f-e502-4894fe35d124",
        "colab": {
          "base_uri": "https://localhost:8080/"
        }
      },
      "source": [
        "np.linspace(0,5,11)"
      ],
      "execution_count": 119,
      "outputs": [
        {
          "output_type": "execute_result",
          "data": {
            "text/plain": [
              "array([0. , 0.5, 1. , 1.5, 2. , 2.5, 3. , 3.5, 4. , 4.5, 5. ])"
            ]
          },
          "metadata": {
            "tags": []
          },
          "execution_count": 119
        }
      ]
    },
    {
      "cell_type": "code",
      "metadata": {
        "id": "zjoYGNQLRzwG",
        "outputId": "e668d234-acd2-4793-9ff1-317642837c70",
        "colab": {
          "base_uri": "https://localhost:8080/"
        }
      },
      "source": [
        "a = [1,2,3,4]\n",
        "np.repeat(a,2)"
      ],
      "execution_count": 120,
      "outputs": [
        {
          "output_type": "execute_result",
          "data": {
            "text/plain": [
              "array([1, 1, 2, 2, 3, 3, 4, 4])"
            ]
          },
          "metadata": {
            "tags": []
          },
          "execution_count": 120
        }
      ]
    },
    {
      "cell_type": "code",
      "metadata": {
        "id": "ugRzcUa7Sql6",
        "outputId": "d9383476-ad0b-4828-a6ae-a9b659d56f0e",
        "colab": {
          "base_uri": "https://localhost:8080/"
        }
      },
      "source": [
        "np.tile(a,2)"
      ],
      "execution_count": 121,
      "outputs": [
        {
          "output_type": "execute_result",
          "data": {
            "text/plain": [
              "array([1, 2, 3, 4, 1, 2, 3, 4])"
            ]
          },
          "metadata": {
            "tags": []
          },
          "execution_count": 121
        }
      ]
    },
    {
      "cell_type": "code",
      "metadata": {
        "id": "X7xp_u_WSxdY",
        "outputId": "f257701e-aacd-4475-9bdf-07c9b037e597",
        "colab": {
          "base_uri": "https://localhost:8080/"
        }
      },
      "source": [
        "#Identity matrix \n",
        "np.eye(4)"
      ],
      "execution_count": 122,
      "outputs": [
        {
          "output_type": "execute_result",
          "data": {
            "text/plain": [
              "array([[1., 0., 0., 0.],\n",
              "       [0., 1., 0., 0.],\n",
              "       [0., 0., 1., 0.],\n",
              "       [0., 0., 0., 1.]])"
            ]
          },
          "metadata": {
            "tags": []
          },
          "execution_count": 122
        }
      ]
    },
    {
      "cell_type": "code",
      "metadata": {
        "id": "rEzWx0DHS-CJ",
        "outputId": "ccb74da2-4265-496e-9a59-856fe1235d63",
        "colab": {
          "base_uri": "https://localhost:8080/"
        }
      },
      "source": [
        "np.diag([1,2,3,4])"
      ],
      "execution_count": 192,
      "outputs": [
        {
          "output_type": "execute_result",
          "data": {
            "text/plain": [
              "array([[1, 0, 0, 0],\n",
              "       [0, 2, 0, 0],\n",
              "       [0, 0, 3, 0],\n",
              "       [0, 0, 0, 4]])"
            ]
          },
          "metadata": {
            "tags": []
          },
          "execution_count": 192
        }
      ]
    },
    {
      "cell_type": "code",
      "metadata": {
        "id": "AflknsoUTNUu",
        "outputId": "284449fb-0aeb-4ed1-b34a-cf03ab2c2f13",
        "colab": {
          "base_uri": "https://localhost:8080/"
        }
      },
      "source": [
        "diag = np.random.randint(low = 1,high = 10, size = 9)\n",
        "diag"
      ],
      "execution_count": 193,
      "outputs": [
        {
          "output_type": "execute_result",
          "data": {
            "text/plain": [
              "array([8, 1, 3, 6, 5, 6, 2, 8, 3])"
            ]
          },
          "metadata": {
            "tags": []
          },
          "execution_count": 193
        }
      ]
    },
    {
      "cell_type": "code",
      "metadata": {
        "id": "f64Vu4OUTNK3",
        "outputId": "cc89e114-81cf-4454-feaa-07dd320cc0f8",
        "colab": {
          "base_uri": "https://localhost:8080/"
        }
      },
      "source": [
        "diag_new = np.reshape(diag, (3,3))\n",
        "diag_new"
      ],
      "execution_count": 194,
      "outputs": [
        {
          "output_type": "execute_result",
          "data": {
            "text/plain": [
              "array([[8, 1, 3],\n",
              "       [6, 5, 6],\n",
              "       [2, 8, 3]])"
            ]
          },
          "metadata": {
            "tags": []
          },
          "execution_count": 194
        }
      ]
    },
    {
      "cell_type": "code",
      "metadata": {
        "id": "dEyHsBoJckgY",
        "outputId": "04614a0c-d7a9-4df6-e548-e9d11d3616cc",
        "colab": {
          "base_uri": "https://localhost:8080/"
        }
      },
      "source": [
        "diag_new.flatten()"
      ],
      "execution_count": 195,
      "outputs": [
        {
          "output_type": "execute_result",
          "data": {
            "text/plain": [
              "array([8, 1, 3, 6, 5, 6, 2, 8, 3])"
            ]
          },
          "metadata": {
            "tags": []
          },
          "execution_count": 195
        }
      ]
    },
    {
      "cell_type": "code",
      "metadata": {
        "id": "BtmRSmYGpqF4",
        "outputId": "af8f1f36-b665-434a-eea8-62ff460652db",
        "colab": {
          "base_uri": "https://localhost:8080/"
        }
      },
      "source": [
        "np.unique(diag_new.flatten())"
      ],
      "execution_count": 196,
      "outputs": [
        {
          "output_type": "execute_result",
          "data": {
            "text/plain": [
              "array([1, 2, 3, 5, 6, 8])"
            ]
          },
          "metadata": {
            "tags": []
          },
          "execution_count": 196
        }
      ]
    },
    {
      "cell_type": "code",
      "metadata": {
        "id": "3LdbUuvMp-tz",
        "outputId": "0f89059c-662c-480c-ba28-07b70277bde1",
        "colab": {
          "base_uri": "https://localhost:8080/"
        }
      },
      "source": [
        "np.unique(diag_new.flatten(),return_counts=True)"
      ],
      "execution_count": 197,
      "outputs": [
        {
          "output_type": "execute_result",
          "data": {
            "text/plain": [
              "(array([1, 2, 3, 5, 6, 8]), array([1, 1, 2, 1, 2, 2]))"
            ]
          },
          "metadata": {
            "tags": []
          },
          "execution_count": 197
        }
      ]
    },
    {
      "cell_type": "code",
      "metadata": {
        "id": "xzjejCgSqHml",
        "outputId": "ce03c601-9969-4f55-d2be-398a30333720",
        "colab": {
          "base_uri": "https://localhost:8080/"
        }
      },
      "source": [
        "np.unique(diag_new.flatten(),return_index=True)"
      ],
      "execution_count": 198,
      "outputs": [
        {
          "output_type": "execute_result",
          "data": {
            "text/plain": [
              "(array([1, 2, 3, 5, 6, 8]), array([1, 6, 2, 4, 3, 0]))"
            ]
          },
          "metadata": {
            "tags": []
          },
          "execution_count": 198
        }
      ]
    },
    {
      "cell_type": "code",
      "metadata": {
        "id": "teLaJIvudJ82",
        "outputId": "45dc2543-c60e-44db-c493-a38f1e2b0d41",
        "colab": {
          "base_uri": "https://localhost:8080/"
        }
      },
      "source": [
        "np.append(diag_new.flatten(),[10,11])"
      ],
      "execution_count": 199,
      "outputs": [
        {
          "output_type": "execute_result",
          "data": {
            "text/plain": [
              "array([ 8,  1,  3,  6,  5,  6,  2,  8,  3, 10, 11])"
            ]
          },
          "metadata": {
            "tags": []
          },
          "execution_count": 199
        }
      ]
    },
    {
      "cell_type": "code",
      "metadata": {
        "id": "kZSaTC7qdJ5P",
        "outputId": "1ee9626c-d3ff-471b-8de3-6aa1d05f0676",
        "colab": {
          "base_uri": "https://localhost:8080/"
        }
      },
      "source": [
        "np.insert(diag_new.flatten(),0,[22,33])"
      ],
      "execution_count": 200,
      "outputs": [
        {
          "output_type": "execute_result",
          "data": {
            "text/plain": [
              "array([22, 33,  8,  1,  3,  6,  5,  6,  2,  8,  3])"
            ]
          },
          "metadata": {
            "tags": []
          },
          "execution_count": 200
        }
      ]
    },
    {
      "cell_type": "code",
      "metadata": {
        "id": "LTTyH_5UeOyE",
        "outputId": "5bec10d3-61ec-465d-c58f-8667603984a1",
        "colab": {
          "base_uri": "https://localhost:8080/"
        }
      },
      "source": [
        "diag_new.flatten()"
      ],
      "execution_count": 201,
      "outputs": [
        {
          "output_type": "execute_result",
          "data": {
            "text/plain": [
              "array([8, 1, 3, 6, 5, 6, 2, 8, 3])"
            ]
          },
          "metadata": {
            "tags": []
          },
          "execution_count": 201
        }
      ]
    },
    {
      "cell_type": "code",
      "metadata": {
        "id": "gukCRS-0eDd1",
        "outputId": "e3e2fca4-ba38-4f0f-c546-631984e15ed6",
        "colab": {
          "base_uri": "https://localhost:8080/"
        }
      },
      "source": [
        "np.delete(diag_new.flatten(),[1,2])"
      ],
      "execution_count": 202,
      "outputs": [
        {
          "output_type": "execute_result",
          "data": {
            "text/plain": [
              "array([8, 6, 5, 6, 2, 8, 3])"
            ]
          },
          "metadata": {
            "tags": []
          },
          "execution_count": 202
        }
      ]
    },
    {
      "cell_type": "code",
      "metadata": {
        "id": "PDfxCvSSeDaF",
        "outputId": "1d10142b-b918-4dbf-e935-1bd65dadcc6e",
        "colab": {
          "base_uri": "https://localhost:8080/"
        }
      },
      "source": [
        "temp = np.array([1,2,3,3])\n",
        "temp_copy = temp.copy()\n",
        "temp_copy"
      ],
      "execution_count": 203,
      "outputs": [
        {
          "output_type": "execute_result",
          "data": {
            "text/plain": [
              "array([1, 2, 3, 3])"
            ]
          },
          "metadata": {
            "tags": []
          },
          "execution_count": 203
        }
      ]
    },
    {
      "cell_type": "code",
      "metadata": {
        "id": "BSsbM85OeDIF",
        "outputId": "ae58dcf1-4245-4222-ebe1-d5c173ea7559",
        "colab": {
          "base_uri": "https://localhost:8080/"
        }
      },
      "source": [
        "temp1 = np.array([[10,20,30],[40,50,60]])\n",
        "temp2 = np.array([[5,15,25],[35,45,55]])\n",
        "\n",
        "np.concatenate((temp1,temp2),axis=0)"
      ],
      "execution_count": 204,
      "outputs": [
        {
          "output_type": "execute_result",
          "data": {
            "text/plain": [
              "array([[10, 20, 30],\n",
              "       [40, 50, 60],\n",
              "       [ 5, 15, 25],\n",
              "       [35, 45, 55]])"
            ]
          },
          "metadata": {
            "tags": []
          },
          "execution_count": 204
        }
      ]
    },
    {
      "cell_type": "code",
      "metadata": {
        "id": "xySCKokkpfYO",
        "outputId": "26408b09-ac26-4a4b-83b5-e8a7a37e00f5",
        "colab": {
          "base_uri": "https://localhost:8080/"
        }
      },
      "source": [
        "np.vstack((temp1,temp2))"
      ],
      "execution_count": 205,
      "outputs": [
        {
          "output_type": "execute_result",
          "data": {
            "text/plain": [
              "array([[10, 20, 30],\n",
              "       [40, 50, 60],\n",
              "       [ 5, 15, 25],\n",
              "       [35, 45, 55]])"
            ]
          },
          "metadata": {
            "tags": []
          },
          "execution_count": 205
        }
      ]
    },
    {
      "cell_type": "code",
      "metadata": {
        "id": "sZ5d8cQsmm1S",
        "outputId": "c477a813-39c9-480b-bca8-26345b8fcd8e",
        "colab": {
          "base_uri": "https://localhost:8080/"
        }
      },
      "source": [
        "np.concatenate((temp1,temp2),axis=1)"
      ],
      "execution_count": 206,
      "outputs": [
        {
          "output_type": "execute_result",
          "data": {
            "text/plain": [
              "array([[10, 20, 30,  5, 15, 25],\n",
              "       [40, 50, 60, 35, 45, 55]])"
            ]
          },
          "metadata": {
            "tags": []
          },
          "execution_count": 206
        }
      ]
    },
    {
      "cell_type": "code",
      "metadata": {
        "id": "NDsBvTS3mnwL",
        "outputId": "eb271da0-d16f-4526-f67b-afed00268515",
        "colab": {
          "base_uri": "https://localhost:8080/"
        }
      },
      "source": [
        "np.hstack((temp1,temp2))"
      ],
      "execution_count": 207,
      "outputs": [
        {
          "output_type": "execute_result",
          "data": {
            "text/plain": [
              "array([[10, 20, 30,  5, 15, 25],\n",
              "       [40, 50, 60, 35, 45, 55]])"
            ]
          },
          "metadata": {
            "tags": []
          },
          "execution_count": 207
        }
      ]
    },
    {
      "cell_type": "code",
      "metadata": {
        "id": "l2dQ9neemnrx",
        "outputId": "38e3ac83-f90d-4da1-8c6d-84b0f2f55243",
        "colab": {
          "base_uri": "https://localhost:8080/"
        }
      },
      "source": [
        "np.intersect1d([1,2,3,4],[2,4,6,8])"
      ],
      "execution_count": 208,
      "outputs": [
        {
          "output_type": "execute_result",
          "data": {
            "text/plain": [
              "array([2, 4])"
            ]
          },
          "metadata": {
            "tags": []
          },
          "execution_count": 208
        }
      ]
    },
    {
      "cell_type": "code",
      "metadata": {
        "id": "EdO8pTgxmnoj",
        "outputId": "6c7d2485-4bba-48ac-8cab-2dea16623a70",
        "colab": {
          "base_uri": "https://localhost:8080/"
        }
      },
      "source": [
        "np.union1d([1,2,3,4],[2,4,6,8])"
      ],
      "execution_count": 209,
      "outputs": [
        {
          "output_type": "execute_result",
          "data": {
            "text/plain": [
              "array([1, 2, 3, 4, 6, 8])"
            ]
          },
          "metadata": {
            "tags": []
          },
          "execution_count": 209
        }
      ]
    },
    {
      "cell_type": "code",
      "metadata": {
        "id": "uDvVhKDHrVFw",
        "outputId": "43dd6692-90a6-4bbe-817c-8b6669be1f52",
        "colab": {
          "base_uri": "https://localhost:8080/"
        }
      },
      "source": [
        "np.setdiff1d([1,2,3,4],[2,4,6,8])"
      ],
      "execution_count": 210,
      "outputs": [
        {
          "output_type": "execute_result",
          "data": {
            "text/plain": [
              "array([1, 3])"
            ]
          },
          "metadata": {
            "tags": []
          },
          "execution_count": 210
        }
      ]
    },
    {
      "cell_type": "code",
      "metadata": {
        "id": "yh3PyKMYrZAu",
        "outputId": "7287d08c-a85f-4f8c-b0f8-54a9f24a1132",
        "colab": {
          "base_uri": "https://localhost:8080/"
        }
      },
      "source": [
        "np.setxor1d([1,2,3,4],[2,4,6,8])"
      ],
      "execution_count": 211,
      "outputs": [
        {
          "output_type": "execute_result",
          "data": {
            "text/plain": [
              "array([1, 3, 6, 8])"
            ]
          },
          "metadata": {
            "tags": []
          },
          "execution_count": 211
        }
      ]
    },
    {
      "cell_type": "code",
      "metadata": {
        "id": "WvUONCUprK9v",
        "outputId": "5fd59703-6dc5-477e-df2d-6f9351583cb8",
        "colab": {
          "base_uri": "https://localhost:8080/"
        }
      },
      "source": [
        "diag_new"
      ],
      "execution_count": 212,
      "outputs": [
        {
          "output_type": "execute_result",
          "data": {
            "text/plain": [
              "array([[8, 1, 3],\n",
              "       [6, 5, 6],\n",
              "       [2, 8, 3]])"
            ]
          },
          "metadata": {
            "tags": []
          },
          "execution_count": 212
        }
      ]
    },
    {
      "cell_type": "code",
      "metadata": {
        "id": "xbI5I7DKTNHl",
        "outputId": "db95b174-54da-4c9b-d6e1-5fdf3534c4db",
        "colab": {
          "base_uri": "https://localhost:8080/"
        }
      },
      "source": [
        "np.diag(diag_new)"
      ],
      "execution_count": 213,
      "outputs": [
        {
          "output_type": "execute_result",
          "data": {
            "text/plain": [
              "array([8, 5, 3])"
            ]
          },
          "metadata": {
            "tags": []
          },
          "execution_count": 213
        }
      ]
    },
    {
      "cell_type": "code",
      "metadata": {
        "id": "4Z1spy_jWFYc",
        "outputId": "eb9f9872-4e14-487d-9adc-4e81d8d0d9f4",
        "colab": {
          "base_uri": "https://localhost:8080/"
        }
      },
      "source": [
        "diag_new.ndim"
      ],
      "execution_count": 214,
      "outputs": [
        {
          "output_type": "execute_result",
          "data": {
            "text/plain": [
              "2"
            ]
          },
          "metadata": {
            "tags": []
          },
          "execution_count": 214
        }
      ]
    },
    {
      "cell_type": "code",
      "metadata": {
        "id": "pTLtyaIKWFU8",
        "outputId": "e21c2693-614f-4976-efda-2c0a023776ec",
        "colab": {
          "base_uri": "https://localhost:8080/"
        }
      },
      "source": [
        "diag_new.size"
      ],
      "execution_count": 215,
      "outputs": [
        {
          "output_type": "execute_result",
          "data": {
            "text/plain": [
              "9"
            ]
          },
          "metadata": {
            "tags": []
          },
          "execution_count": 215
        }
      ]
    },
    {
      "cell_type": "code",
      "metadata": {
        "id": "BhewjkkkWhCd",
        "outputId": "70680cc8-eeeb-4f25-ecf6-206493bf1c39",
        "colab": {
          "base_uri": "https://localhost:8080/"
        }
      },
      "source": [
        "diag_new.shape"
      ],
      "execution_count": 216,
      "outputs": [
        {
          "output_type": "execute_result",
          "data": {
            "text/plain": [
              "(3, 3)"
            ]
          },
          "metadata": {
            "tags": []
          },
          "execution_count": 216
        }
      ]
    },
    {
      "cell_type": "code",
      "metadata": {
        "id": "dVrvxIoKWg_z",
        "outputId": "93799a09-b912-4a88-cad4-331c37225054",
        "colab": {
          "base_uri": "https://localhost:8080/"
        }
      },
      "source": [
        "diag_new"
      ],
      "execution_count": 217,
      "outputs": [
        {
          "output_type": "execute_result",
          "data": {
            "text/plain": [
              "array([[8, 1, 3],\n",
              "       [6, 5, 6],\n",
              "       [2, 8, 3]])"
            ]
          },
          "metadata": {
            "tags": []
          },
          "execution_count": 217
        }
      ]
    },
    {
      "cell_type": "code",
      "metadata": {
        "id": "-xnyTaJ6Wg8I",
        "outputId": "43761ca0-9b96-4f07-e512-149ac31181c6",
        "colab": {
          "base_uri": "https://localhost:8080/"
        }
      },
      "source": [
        "diag_new + 10"
      ],
      "execution_count": 218,
      "outputs": [
        {
          "output_type": "execute_result",
          "data": {
            "text/plain": [
              "array([[18, 11, 13],\n",
              "       [16, 15, 16],\n",
              "       [12, 18, 13]])"
            ]
          },
          "metadata": {
            "tags": []
          },
          "execution_count": 218
        }
      ]
    },
    {
      "cell_type": "code",
      "metadata": {
        "id": "GCSpekfiXHMe",
        "outputId": "1ab9d9fd-b349-479f-dacd-6a6533137000",
        "colab": {
          "base_uri": "https://localhost:8080/"
        }
      },
      "source": [
        "diag_new - 10"
      ],
      "execution_count": 219,
      "outputs": [
        {
          "output_type": "execute_result",
          "data": {
            "text/plain": [
              "array([[-2, -9, -7],\n",
              "       [-4, -5, -4],\n",
              "       [-8, -2, -7]])"
            ]
          },
          "metadata": {
            "tags": []
          },
          "execution_count": 219
        }
      ]
    },
    {
      "cell_type": "code",
      "metadata": {
        "id": "BVaeWETNXME7",
        "outputId": "6c4a65af-315b-43f9-f679-44dee1d44e48",
        "colab": {
          "base_uri": "https://localhost:8080/"
        }
      },
      "source": [
        "diag_new * 10"
      ],
      "execution_count": 220,
      "outputs": [
        {
          "output_type": "execute_result",
          "data": {
            "text/plain": [
              "array([[80, 10, 30],\n",
              "       [60, 50, 60],\n",
              "       [20, 80, 30]])"
            ]
          },
          "metadata": {
            "tags": []
          },
          "execution_count": 220
        }
      ]
    },
    {
      "cell_type": "code",
      "metadata": {
        "id": "UF9D8FNLXMBO",
        "outputId": "3f741365-e265-4509-979e-0ac959f1923b",
        "colab": {
          "base_uri": "https://localhost:8080/"
        }
      },
      "source": [
        "diag_new / 2"
      ],
      "execution_count": 221,
      "outputs": [
        {
          "output_type": "execute_result",
          "data": {
            "text/plain": [
              "array([[4. , 0.5, 1.5],\n",
              "       [3. , 2.5, 3. ],\n",
              "       [1. , 4. , 1.5]])"
            ]
          },
          "metadata": {
            "tags": []
          },
          "execution_count": 221
        }
      ]
    },
    {
      "cell_type": "code",
      "metadata": {
        "id": "Lk0jrLZTXL-N",
        "outputId": "d6b89589-708c-4ae7-d5e2-9d63bc0ef2cc",
        "colab": {
          "base_uri": "https://localhost:8080/"
        }
      },
      "source": [
        "diag_new // 2 "
      ],
      "execution_count": 222,
      "outputs": [
        {
          "output_type": "execute_result",
          "data": {
            "text/plain": [
              "array([[4, 0, 1],\n",
              "       [3, 2, 3],\n",
              "       [1, 4, 1]])"
            ]
          },
          "metadata": {
            "tags": []
          },
          "execution_count": 222
        }
      ]
    },
    {
      "cell_type": "code",
      "metadata": {
        "id": "ldYOMpAVYInt",
        "outputId": "b80a3520-f4e8-42a3-f9fd-00e6e88cea3b",
        "colab": {
          "base_uri": "https://localhost:8080/"
        }
      },
      "source": [
        "diag_new"
      ],
      "execution_count": 223,
      "outputs": [
        {
          "output_type": "execute_result",
          "data": {
            "text/plain": [
              "array([[8, 1, 3],\n",
              "       [6, 5, 6],\n",
              "       [2, 8, 3]])"
            ]
          },
          "metadata": {
            "tags": []
          },
          "execution_count": 223
        }
      ]
    },
    {
      "cell_type": "code",
      "metadata": {
        "id": "5jO43S25cK4E",
        "outputId": "0dee0904-56f3-40c5-e566-f7c15b9a017b",
        "colab": {
          "base_uri": "https://localhost:8080/"
        }
      },
      "source": [
        "np.sort(diag_new)"
      ],
      "execution_count": 224,
      "outputs": [
        {
          "output_type": "execute_result",
          "data": {
            "text/plain": [
              "array([[1, 3, 8],\n",
              "       [5, 6, 6],\n",
              "       [2, 3, 8]])"
            ]
          },
          "metadata": {
            "tags": []
          },
          "execution_count": 224
        }
      ]
    },
    {
      "cell_type": "code",
      "metadata": {
        "id": "4eWHp_V8YDh8",
        "outputId": "dbce4cfc-2ab8-4b93-9816-365a80b7cbf8",
        "colab": {
          "base_uri": "https://localhost:8080/"
        }
      },
      "source": [
        "# Exponential \n",
        "np.exp(diag_new)"
      ],
      "execution_count": 225,
      "outputs": [
        {
          "output_type": "execute_result",
          "data": {
            "text/plain": [
              "array([[2.98095799e+03, 2.71828183e+00, 2.00855369e+01],\n",
              "       [4.03428793e+02, 1.48413159e+02, 4.03428793e+02],\n",
              "       [7.38905610e+00, 2.98095799e+03, 2.00855369e+01]])"
            ]
          },
          "metadata": {
            "tags": []
          },
          "execution_count": 225
        }
      ]
    },
    {
      "cell_type": "code",
      "metadata": {
        "id": "ES3P6NYGYDeR",
        "outputId": "42c124d4-e839-44a6-fe4f-039fc2edc7fd",
        "colab": {
          "base_uri": "https://localhost:8080/"
        }
      },
      "source": [
        "np.log(diag_new) #natural log"
      ],
      "execution_count": 226,
      "outputs": [
        {
          "output_type": "execute_result",
          "data": {
            "text/plain": [
              "array([[2.07944154, 0.        , 1.09861229],\n",
              "       [1.79175947, 1.60943791, 1.79175947],\n",
              "       [0.69314718, 2.07944154, 1.09861229]])"
            ]
          },
          "metadata": {
            "tags": []
          },
          "execution_count": 226
        }
      ]
    },
    {
      "cell_type": "code",
      "metadata": {
        "id": "gZObWRHcYDbP",
        "outputId": "599fec53-52e4-4cb7-8750-629b45a8a117",
        "colab": {
          "base_uri": "https://localhost:8080/"
        }
      },
      "source": [
        "np.log10(diag_new)"
      ],
      "execution_count": 227,
      "outputs": [
        {
          "output_type": "execute_result",
          "data": {
            "text/plain": [
              "array([[0.90308999, 0.        , 0.47712125],\n",
              "       [0.77815125, 0.69897   , 0.77815125],\n",
              "       [0.30103   , 0.90308999, 0.47712125]])"
            ]
          },
          "metadata": {
            "tags": []
          },
          "execution_count": 227
        }
      ]
    },
    {
      "cell_type": "code",
      "metadata": {
        "id": "dZ_pk_1qYDYZ",
        "outputId": "5c384099-d412-4b41-d504-db8d87aa2108",
        "colab": {
          "base_uri": "https://localhost:8080/"
        }
      },
      "source": [
        "np.log2(diag_new)"
      ],
      "execution_count": 228,
      "outputs": [
        {
          "output_type": "execute_result",
          "data": {
            "text/plain": [
              "array([[3.        , 0.        , 1.5849625 ],\n",
              "       [2.5849625 , 2.32192809, 2.5849625 ],\n",
              "       [1.        , 3.        , 1.5849625 ]])"
            ]
          },
          "metadata": {
            "tags": []
          },
          "execution_count": 228
        }
      ]
    },
    {
      "cell_type": "code",
      "metadata": {
        "id": "1KrKjUkxYDVG",
        "outputId": "f13e1142-e0d3-44c9-9d69-84a823ed3f2c",
        "colab": {
          "base_uri": "https://localhost:8080/"
        }
      },
      "source": [
        "np.log([10,np.e,100,np.e**2,np.inf])"
      ],
      "execution_count": 229,
      "outputs": [
        {
          "output_type": "execute_result",
          "data": {
            "text/plain": [
              "array([2.30258509, 1.        , 4.60517019, 2.        ,        inf])"
            ]
          },
          "metadata": {
            "tags": []
          },
          "execution_count": 229
        }
      ]
    },
    {
      "cell_type": "code",
      "metadata": {
        "id": "SgTF8EVmZJUA",
        "outputId": "afb2b372-8d1b-4dea-f241-f9138e31d3f5",
        "colab": {
          "base_uri": "https://localhost:8080/"
        }
      },
      "source": [
        "np.log10([10,np.e,100,np.e**2,np.inf])"
      ],
      "execution_count": 230,
      "outputs": [
        {
          "output_type": "execute_result",
          "data": {
            "text/plain": [
              "array([1.        , 0.43429448, 2.        , 0.86858896,        inf])"
            ]
          },
          "metadata": {
            "tags": []
          },
          "execution_count": 230
        }
      ]
    },
    {
      "cell_type": "code",
      "metadata": {
        "id": "6ihumN2dZJA2",
        "outputId": "dedf9c37-5050-4d65-a889-73b1a315a616",
        "colab": {
          "base_uri": "https://localhost:8080/"
        }
      },
      "source": [
        "np.sin(diag_new)"
      ],
      "execution_count": 231,
      "outputs": [
        {
          "output_type": "execute_result",
          "data": {
            "text/plain": [
              "array([[ 0.98935825,  0.84147098,  0.14112001],\n",
              "       [-0.2794155 , -0.95892427, -0.2794155 ],\n",
              "       [ 0.90929743,  0.98935825,  0.14112001]])"
            ]
          },
          "metadata": {
            "tags": []
          },
          "execution_count": 231
        }
      ]
    },
    {
      "cell_type": "code",
      "metadata": {
        "id": "RqWVnRvXZcjP",
        "outputId": "271c4891-64bb-45d5-fe70-a3ee07f010cb",
        "colab": {
          "base_uri": "https://localhost:8080/"
        }
      },
      "source": [
        "np.cos(diag_new)"
      ],
      "execution_count": 232,
      "outputs": [
        {
          "output_type": "execute_result",
          "data": {
            "text/plain": [
              "array([[-0.14550003,  0.54030231, -0.9899925 ],\n",
              "       [ 0.96017029,  0.28366219,  0.96017029],\n",
              "       [-0.41614684, -0.14550003, -0.9899925 ]])"
            ]
          },
          "metadata": {
            "tags": []
          },
          "execution_count": 232
        }
      ]
    },
    {
      "cell_type": "code",
      "metadata": {
        "id": "2eVd5zJZZfea",
        "outputId": "12bc4ebc-7652-4177-c6d3-722be40a6808",
        "colab": {
          "base_uri": "https://localhost:8080/"
        }
      },
      "source": [
        "np.tan(diag_new)"
      ],
      "execution_count": 233,
      "outputs": [
        {
          "output_type": "execute_result",
          "data": {
            "text/plain": [
              "array([[-6.79971146,  1.55740772, -0.14254654],\n",
              "       [-0.29100619, -3.38051501, -0.29100619],\n",
              "       [-2.18503986, -6.79971146, -0.14254654]])"
            ]
          },
          "metadata": {
            "tags": []
          },
          "execution_count": 233
        }
      ]
    },
    {
      "cell_type": "code",
      "metadata": {
        "id": "I6cocZX1Z7_e",
        "outputId": "319f360b-90ba-420f-c2fd-c79e0075b9b3",
        "colab": {
          "base_uri": "https://localhost:8080/"
        }
      },
      "source": [
        "diag_new"
      ],
      "execution_count": 234,
      "outputs": [
        {
          "output_type": "execute_result",
          "data": {
            "text/plain": [
              "array([[8, 1, 3],\n",
              "       [6, 5, 6],\n",
              "       [2, 8, 3]])"
            ]
          },
          "metadata": {
            "tags": []
          },
          "execution_count": 234
        }
      ]
    },
    {
      "cell_type": "code",
      "metadata": {
        "id": "kelOPj2_ZfX8",
        "outputId": "988a261d-1103-49b8-c58b-68d880872bed",
        "colab": {
          "base_uri": "https://localhost:8080/"
        }
      },
      "source": [
        "np.sum(diag_new)"
      ],
      "execution_count": 235,
      "outputs": [
        {
          "output_type": "execute_result",
          "data": {
            "text/plain": [
              "42"
            ]
          },
          "metadata": {
            "tags": []
          },
          "execution_count": 235
        }
      ]
    },
    {
      "cell_type": "code",
      "metadata": {
        "id": "SUrqP06lZfUY",
        "outputId": "fc5a047f-865f-4175-fcf4-53c539ee7ca3",
        "colab": {
          "base_uri": "https://localhost:8080/"
        }
      },
      "source": [
        "np.sum(diag_new,axis = 0)"
      ],
      "execution_count": 236,
      "outputs": [
        {
          "output_type": "execute_result",
          "data": {
            "text/plain": [
              "array([16, 14, 12])"
            ]
          },
          "metadata": {
            "tags": []
          },
          "execution_count": 236
        }
      ]
    },
    {
      "cell_type": "code",
      "metadata": {
        "id": "wzUO9hOaZery",
        "outputId": "5fd597ec-e9b8-4c5f-93a4-ef974da17c66",
        "colab": {
          "base_uri": "https://localhost:8080/"
        }
      },
      "source": [
        "np.sum(diag_new,axis = 1)"
      ],
      "execution_count": 237,
      "outputs": [
        {
          "output_type": "execute_result",
          "data": {
            "text/plain": [
              "array([12, 17, 13])"
            ]
          },
          "metadata": {
            "tags": []
          },
          "execution_count": 237
        }
      ]
    },
    {
      "cell_type": "code",
      "metadata": {
        "id": "F-u1Z68Cbcgu",
        "outputId": "be615253-c024-49af-d560-e5abcfaf81ca",
        "colab": {
          "base_uri": "https://localhost:8080/"
        }
      },
      "source": [
        "np.min(diag_new)"
      ],
      "execution_count": 238,
      "outputs": [
        {
          "output_type": "execute_result",
          "data": {
            "text/plain": [
              "1"
            ]
          },
          "metadata": {
            "tags": []
          },
          "execution_count": 238
        }
      ]
    },
    {
      "cell_type": "code",
      "metadata": {
        "id": "HkyO0lazbcdh",
        "outputId": "42287e50-8d56-45a0-9686-ec124b044fa1",
        "colab": {
          "base_uri": "https://localhost:8080/"
        }
      },
      "source": [
        "np.max(diag_new)"
      ],
      "execution_count": 239,
      "outputs": [
        {
          "output_type": "execute_result",
          "data": {
            "text/plain": [
              "8"
            ]
          },
          "metadata": {
            "tags": []
          },
          "execution_count": 239
        }
      ]
    },
    {
      "cell_type": "code",
      "metadata": {
        "id": "VmJBY-idbcaD",
        "outputId": "02c3ff6b-b9b1-41d8-bfa9-2706cd272721",
        "colab": {
          "base_uri": "https://localhost:8080/"
        }
      },
      "source": [
        "np.mean(diag_new)"
      ],
      "execution_count": 240,
      "outputs": [
        {
          "output_type": "execute_result",
          "data": {
            "text/plain": [
              "4.666666666666667"
            ]
          },
          "metadata": {
            "tags": []
          },
          "execution_count": 240
        }
      ]
    },
    {
      "cell_type": "code",
      "metadata": {
        "id": "MHx9QsjAbcWc",
        "outputId": "6c4787bb-2abb-4802-98bb-b966764f1caa",
        "colab": {
          "base_uri": "https://localhost:8080/"
        }
      },
      "source": [
        "np.median(diag_new)"
      ],
      "execution_count": 241,
      "outputs": [
        {
          "output_type": "execute_result",
          "data": {
            "text/plain": [
              "5.0"
            ]
          },
          "metadata": {
            "tags": []
          },
          "execution_count": 241
        }
      ]
    },
    {
      "cell_type": "code",
      "metadata": {
        "id": "7QZ6KkphbcS0",
        "outputId": "1ba873eb-7549-40e8-c4fc-69ddc2f77cbe",
        "colab": {
          "base_uri": "https://localhost:8080/"
        }
      },
      "source": [
        "np.std(diag_new)"
      ],
      "execution_count": 242,
      "outputs": [
        {
          "output_type": "execute_result",
          "data": {
            "text/plain": [
              "2.4037008503093262"
            ]
          },
          "metadata": {
            "tags": []
          },
          "execution_count": 242
        }
      ]
    },
    {
      "cell_type": "code",
      "metadata": {
        "id": "cGvt2CPhbcPQ",
        "outputId": "64c5776d-27e4-42ba-a56b-fe0882e84c47",
        "colab": {
          "base_uri": "https://localhost:8080/"
        }
      },
      "source": [
        "np.var(diag_new)"
      ],
      "execution_count": 243,
      "outputs": [
        {
          "output_type": "execute_result",
          "data": {
            "text/plain": [
              "5.777777777777779"
            ]
          },
          "metadata": {
            "tags": []
          },
          "execution_count": 243
        }
      ]
    },
    {
      "cell_type": "code",
      "metadata": {
        "id": "dchu1sw8bxrn",
        "outputId": "8c422eae-a504-4ca5-e922-c679bac48900",
        "colab": {
          "base_uri": "https://localhost:8080/"
        }
      },
      "source": [
        "np.abs(diag_new)"
      ],
      "execution_count": 244,
      "outputs": [
        {
          "output_type": "execute_result",
          "data": {
            "text/plain": [
              "array([[8, 1, 3],\n",
              "       [6, 5, 6],\n",
              "       [2, 8, 3]])"
            ]
          },
          "metadata": {
            "tags": []
          },
          "execution_count": 244
        }
      ]
    },
    {
      "cell_type": "markdown",
      "metadata": {
        "id": "H13hwYR8Q13Q"
      },
      "source": [
        "<h2>⭐Pandas</h2>"
      ]
    },
    {
      "cell_type": "code",
      "metadata": {
        "id": "rMyvpAgxQnOB",
        "colab": {
          "base_uri": "https://localhost:8080/",
          "height": 139
        },
        "outputId": "4aacd0ee-4e21-47d6-e172-0877679052c0"
      },
      "source": [
        "a = [[1,2,3,4],[5,6,7,8],[9,10,11,12]]\n",
        "a = pd.DataFrame(a)\n",
        "a"
      ],
      "execution_count": 245,
      "outputs": [
        {
          "output_type": "execute_result",
          "data": {
            "text/html": [
              "<div>\n",
              "<style scoped>\n",
              "    .dataframe tbody tr th:only-of-type {\n",
              "        vertical-align: middle;\n",
              "    }\n",
              "\n",
              "    .dataframe tbody tr th {\n",
              "        vertical-align: top;\n",
              "    }\n",
              "\n",
              "    .dataframe thead th {\n",
              "        text-align: right;\n",
              "    }\n",
              "</style>\n",
              "<table border=\"1\" class=\"dataframe\">\n",
              "  <thead>\n",
              "    <tr style=\"text-align: right;\">\n",
              "      <th></th>\n",
              "      <th>0</th>\n",
              "      <th>1</th>\n",
              "      <th>2</th>\n",
              "      <th>3</th>\n",
              "    </tr>\n",
              "  </thead>\n",
              "  <tbody>\n",
              "    <tr>\n",
              "      <th>0</th>\n",
              "      <td>1</td>\n",
              "      <td>2</td>\n",
              "      <td>3</td>\n",
              "      <td>4</td>\n",
              "    </tr>\n",
              "    <tr>\n",
              "      <th>1</th>\n",
              "      <td>5</td>\n",
              "      <td>6</td>\n",
              "      <td>7</td>\n",
              "      <td>8</td>\n",
              "    </tr>\n",
              "    <tr>\n",
              "      <th>2</th>\n",
              "      <td>9</td>\n",
              "      <td>10</td>\n",
              "      <td>11</td>\n",
              "      <td>12</td>\n",
              "    </tr>\n",
              "  </tbody>\n",
              "</table>\n",
              "</div>"
            ],
            "text/plain": [
              "   0   1   2   3\n",
              "0  1   2   3   4\n",
              "1  5   6   7   8\n",
              "2  9  10  11  12"
            ]
          },
          "metadata": {
            "tags": []
          },
          "execution_count": 245
        }
      ]
    },
    {
      "cell_type": "code",
      "metadata": {
        "id": "OcohUcLuREYn",
        "colab": {
          "base_uri": "https://localhost:8080/"
        },
        "outputId": "bd0c3a34-9d00-4243-caf8-2f8331ca9ef3"
      },
      "source": [
        "print('The dataframe has {} rows and {} columns'.format(a.shape[0],a.shape[1]))"
      ],
      "execution_count": 246,
      "outputs": [
        {
          "output_type": "stream",
          "text": [
            "The dataframe has 3 rows and 4 columns\n"
          ],
          "name": "stdout"
        }
      ]
    },
    {
      "cell_type": "code",
      "metadata": {
        "id": "e0Ld3jAoRJSz",
        "colab": {
          "base_uri": "https://localhost:8080/"
        },
        "outputId": "191508ab-753d-4b2a-8000-f32f3035e90d"
      },
      "source": [
        "a.columns"
      ],
      "execution_count": 247,
      "outputs": [
        {
          "output_type": "execute_result",
          "data": {
            "text/plain": [
              "RangeIndex(start=0, stop=4, step=1)"
            ]
          },
          "metadata": {
            "tags": []
          },
          "execution_count": 247
        }
      ]
    },
    {
      "cell_type": "code",
      "metadata": {
        "id": "BLlvxtR1acuK",
        "colab": {
          "base_uri": "https://localhost:8080/"
        },
        "outputId": "542a1af3-5335-4f99-c3c7-17473d536113"
      },
      "source": [
        "for i in a.columns:\n",
        "    print(i)"
      ],
      "execution_count": 248,
      "outputs": [
        {
          "output_type": "stream",
          "text": [
            "0\n",
            "1\n",
            "2\n",
            "3\n"
          ],
          "name": "stdout"
        }
      ]
    },
    {
      "cell_type": "code",
      "metadata": {
        "id": "oPEZuXwMzK-K",
        "colab": {
          "base_uri": "https://localhost:8080/",
          "height": 139
        },
        "outputId": "c6a87daf-bb16-4668-b079-2c284bc8ea52"
      },
      "source": [
        "a.columns = list('abcd')\n",
        "a"
      ],
      "execution_count": 249,
      "outputs": [
        {
          "output_type": "execute_result",
          "data": {
            "text/html": [
              "<div>\n",
              "<style scoped>\n",
              "    .dataframe tbody tr th:only-of-type {\n",
              "        vertical-align: middle;\n",
              "    }\n",
              "\n",
              "    .dataframe tbody tr th {\n",
              "        vertical-align: top;\n",
              "    }\n",
              "\n",
              "    .dataframe thead th {\n",
              "        text-align: right;\n",
              "    }\n",
              "</style>\n",
              "<table border=\"1\" class=\"dataframe\">\n",
              "  <thead>\n",
              "    <tr style=\"text-align: right;\">\n",
              "      <th></th>\n",
              "      <th>a</th>\n",
              "      <th>b</th>\n",
              "      <th>c</th>\n",
              "      <th>d</th>\n",
              "    </tr>\n",
              "  </thead>\n",
              "  <tbody>\n",
              "    <tr>\n",
              "      <th>0</th>\n",
              "      <td>1</td>\n",
              "      <td>2</td>\n",
              "      <td>3</td>\n",
              "      <td>4</td>\n",
              "    </tr>\n",
              "    <tr>\n",
              "      <th>1</th>\n",
              "      <td>5</td>\n",
              "      <td>6</td>\n",
              "      <td>7</td>\n",
              "      <td>8</td>\n",
              "    </tr>\n",
              "    <tr>\n",
              "      <th>2</th>\n",
              "      <td>9</td>\n",
              "      <td>10</td>\n",
              "      <td>11</td>\n",
              "      <td>12</td>\n",
              "    </tr>\n",
              "  </tbody>\n",
              "</table>\n",
              "</div>"
            ],
            "text/plain": [
              "   a   b   c   d\n",
              "0  1   2   3   4\n",
              "1  5   6   7   8\n",
              "2  9  10  11  12"
            ]
          },
          "metadata": {
            "tags": []
          },
          "execution_count": 249
        }
      ]
    },
    {
      "cell_type": "code",
      "metadata": {
        "id": "DXLG-MxPzRwc",
        "colab": {
          "base_uri": "https://localhost:8080/"
        },
        "outputId": "91854977-7ba0-422e-c576-d48b69ce0279"
      },
      "source": [
        "a['a'].sum()"
      ],
      "execution_count": 250,
      "outputs": [
        {
          "output_type": "execute_result",
          "data": {
            "text/plain": [
              "15"
            ]
          },
          "metadata": {
            "tags": []
          },
          "execution_count": 250
        }
      ]
    },
    {
      "cell_type": "code",
      "metadata": {
        "id": "VDDNDrE6zYvY",
        "colab": {
          "base_uri": "https://localhost:8080/",
          "height": 290
        },
        "outputId": "3faf3da5-ea0a-405d-df6b-60f5e0c25350"
      },
      "source": [
        "a.describe()"
      ],
      "execution_count": 251,
      "outputs": [
        {
          "output_type": "execute_result",
          "data": {
            "text/html": [
              "<div>\n",
              "<style scoped>\n",
              "    .dataframe tbody tr th:only-of-type {\n",
              "        vertical-align: middle;\n",
              "    }\n",
              "\n",
              "    .dataframe tbody tr th {\n",
              "        vertical-align: top;\n",
              "    }\n",
              "\n",
              "    .dataframe thead th {\n",
              "        text-align: right;\n",
              "    }\n",
              "</style>\n",
              "<table border=\"1\" class=\"dataframe\">\n",
              "  <thead>\n",
              "    <tr style=\"text-align: right;\">\n",
              "      <th></th>\n",
              "      <th>a</th>\n",
              "      <th>b</th>\n",
              "      <th>c</th>\n",
              "      <th>d</th>\n",
              "    </tr>\n",
              "  </thead>\n",
              "  <tbody>\n",
              "    <tr>\n",
              "      <th>count</th>\n",
              "      <td>3.0</td>\n",
              "      <td>3.0</td>\n",
              "      <td>3.0</td>\n",
              "      <td>3.0</td>\n",
              "    </tr>\n",
              "    <tr>\n",
              "      <th>mean</th>\n",
              "      <td>5.0</td>\n",
              "      <td>6.0</td>\n",
              "      <td>7.0</td>\n",
              "      <td>8.0</td>\n",
              "    </tr>\n",
              "    <tr>\n",
              "      <th>std</th>\n",
              "      <td>4.0</td>\n",
              "      <td>4.0</td>\n",
              "      <td>4.0</td>\n",
              "      <td>4.0</td>\n",
              "    </tr>\n",
              "    <tr>\n",
              "      <th>min</th>\n",
              "      <td>1.0</td>\n",
              "      <td>2.0</td>\n",
              "      <td>3.0</td>\n",
              "      <td>4.0</td>\n",
              "    </tr>\n",
              "    <tr>\n",
              "      <th>25%</th>\n",
              "      <td>3.0</td>\n",
              "      <td>4.0</td>\n",
              "      <td>5.0</td>\n",
              "      <td>6.0</td>\n",
              "    </tr>\n",
              "    <tr>\n",
              "      <th>50%</th>\n",
              "      <td>5.0</td>\n",
              "      <td>6.0</td>\n",
              "      <td>7.0</td>\n",
              "      <td>8.0</td>\n",
              "    </tr>\n",
              "    <tr>\n",
              "      <th>75%</th>\n",
              "      <td>7.0</td>\n",
              "      <td>8.0</td>\n",
              "      <td>9.0</td>\n",
              "      <td>10.0</td>\n",
              "    </tr>\n",
              "    <tr>\n",
              "      <th>max</th>\n",
              "      <td>9.0</td>\n",
              "      <td>10.0</td>\n",
              "      <td>11.0</td>\n",
              "      <td>12.0</td>\n",
              "    </tr>\n",
              "  </tbody>\n",
              "</table>\n",
              "</div>"
            ],
            "text/plain": [
              "         a     b     c     d\n",
              "count  3.0   3.0   3.0   3.0\n",
              "mean   5.0   6.0   7.0   8.0\n",
              "std    4.0   4.0   4.0   4.0\n",
              "min    1.0   2.0   3.0   4.0\n",
              "25%    3.0   4.0   5.0   6.0\n",
              "50%    5.0   6.0   7.0   8.0\n",
              "75%    7.0   8.0   9.0  10.0\n",
              "max    9.0  10.0  11.0  12.0"
            ]
          },
          "metadata": {
            "tags": []
          },
          "execution_count": 251
        }
      ]
    },
    {
      "cell_type": "code",
      "metadata": {
        "id": "nzmsUxYszdGX",
        "colab": {
          "base_uri": "https://localhost:8080/",
          "height": 78
        },
        "outputId": "b5325b25-bc6b-4503-cd32-2ea4a5ec653a"
      },
      "source": [
        "a.head(1)"
      ],
      "execution_count": 252,
      "outputs": [
        {
          "output_type": "execute_result",
          "data": {
            "text/html": [
              "<div>\n",
              "<style scoped>\n",
              "    .dataframe tbody tr th:only-of-type {\n",
              "        vertical-align: middle;\n",
              "    }\n",
              "\n",
              "    .dataframe tbody tr th {\n",
              "        vertical-align: top;\n",
              "    }\n",
              "\n",
              "    .dataframe thead th {\n",
              "        text-align: right;\n",
              "    }\n",
              "</style>\n",
              "<table border=\"1\" class=\"dataframe\">\n",
              "  <thead>\n",
              "    <tr style=\"text-align: right;\">\n",
              "      <th></th>\n",
              "      <th>a</th>\n",
              "      <th>b</th>\n",
              "      <th>c</th>\n",
              "      <th>d</th>\n",
              "    </tr>\n",
              "  </thead>\n",
              "  <tbody>\n",
              "    <tr>\n",
              "      <th>0</th>\n",
              "      <td>1</td>\n",
              "      <td>2</td>\n",
              "      <td>3</td>\n",
              "      <td>4</td>\n",
              "    </tr>\n",
              "  </tbody>\n",
              "</table>\n",
              "</div>"
            ],
            "text/plain": [
              "   a  b  c  d\n",
              "0  1  2  3  4"
            ]
          },
          "metadata": {
            "tags": []
          },
          "execution_count": 252
        }
      ]
    },
    {
      "cell_type": "code",
      "metadata": {
        "id": "vbXVfaAMzqq6",
        "colab": {
          "base_uri": "https://localhost:8080/",
          "height": 78
        },
        "outputId": "ceb9aa22-dcc8-47bf-e471-85ec8e928279"
      },
      "source": [
        "a.tail(1)"
      ],
      "execution_count": 253,
      "outputs": [
        {
          "output_type": "execute_result",
          "data": {
            "text/html": [
              "<div>\n",
              "<style scoped>\n",
              "    .dataframe tbody tr th:only-of-type {\n",
              "        vertical-align: middle;\n",
              "    }\n",
              "\n",
              "    .dataframe tbody tr th {\n",
              "        vertical-align: top;\n",
              "    }\n",
              "\n",
              "    .dataframe thead th {\n",
              "        text-align: right;\n",
              "    }\n",
              "</style>\n",
              "<table border=\"1\" class=\"dataframe\">\n",
              "  <thead>\n",
              "    <tr style=\"text-align: right;\">\n",
              "      <th></th>\n",
              "      <th>a</th>\n",
              "      <th>b</th>\n",
              "      <th>c</th>\n",
              "      <th>d</th>\n",
              "    </tr>\n",
              "  </thead>\n",
              "  <tbody>\n",
              "    <tr>\n",
              "      <th>2</th>\n",
              "      <td>9</td>\n",
              "      <td>10</td>\n",
              "      <td>11</td>\n",
              "      <td>12</td>\n",
              "    </tr>\n",
              "  </tbody>\n",
              "</table>\n",
              "</div>"
            ],
            "text/plain": [
              "   a   b   c   d\n",
              "2  9  10  11  12"
            ]
          },
          "metadata": {
            "tags": []
          },
          "execution_count": 253
        }
      ]
    },
    {
      "cell_type": "code",
      "metadata": {
        "id": "0HyNaaVuzr50",
        "colab": {
          "base_uri": "https://localhost:8080/",
          "height": 78
        },
        "outputId": "f2ce1868-2f14-4b1b-b44c-7b28f5fa0fb0"
      },
      "source": [
        "a.sample(1)"
      ],
      "execution_count": 254,
      "outputs": [
        {
          "output_type": "execute_result",
          "data": {
            "text/html": [
              "<div>\n",
              "<style scoped>\n",
              "    .dataframe tbody tr th:only-of-type {\n",
              "        vertical-align: middle;\n",
              "    }\n",
              "\n",
              "    .dataframe tbody tr th {\n",
              "        vertical-align: top;\n",
              "    }\n",
              "\n",
              "    .dataframe thead th {\n",
              "        text-align: right;\n",
              "    }\n",
              "</style>\n",
              "<table border=\"1\" class=\"dataframe\">\n",
              "  <thead>\n",
              "    <tr style=\"text-align: right;\">\n",
              "      <th></th>\n",
              "      <th>a</th>\n",
              "      <th>b</th>\n",
              "      <th>c</th>\n",
              "      <th>d</th>\n",
              "    </tr>\n",
              "  </thead>\n",
              "  <tbody>\n",
              "    <tr>\n",
              "      <th>0</th>\n",
              "      <td>1</td>\n",
              "      <td>2</td>\n",
              "      <td>3</td>\n",
              "      <td>4</td>\n",
              "    </tr>\n",
              "  </tbody>\n",
              "</table>\n",
              "</div>"
            ],
            "text/plain": [
              "   a  b  c  d\n",
              "0  1  2  3  4"
            ]
          },
          "metadata": {
            "tags": []
          },
          "execution_count": 254
        }
      ]
    },
    {
      "cell_type": "code",
      "metadata": {
        "id": "9-qDTZOnztQk",
        "colab": {
          "base_uri": "https://localhost:8080/"
        },
        "outputId": "d1fcb4eb-6da7-443f-cada-8f009d9014cb"
      },
      "source": [
        "a['a'].unique()"
      ],
      "execution_count": 255,
      "outputs": [
        {
          "output_type": "execute_result",
          "data": {
            "text/plain": [
              "array([1, 5, 9])"
            ]
          },
          "metadata": {
            "tags": []
          },
          "execution_count": 255
        }
      ]
    },
    {
      "cell_type": "code",
      "metadata": {
        "id": "HoISC4cqzx46",
        "colab": {
          "base_uri": "https://localhost:8080/",
          "height": 139
        },
        "outputId": "417240ca-8770-45d3-b99c-a2c00b0ec882"
      },
      "source": [
        "a['e'] = 0\n",
        "a"
      ],
      "execution_count": 256,
      "outputs": [
        {
          "output_type": "execute_result",
          "data": {
            "text/html": [
              "<div>\n",
              "<style scoped>\n",
              "    .dataframe tbody tr th:only-of-type {\n",
              "        vertical-align: middle;\n",
              "    }\n",
              "\n",
              "    .dataframe tbody tr th {\n",
              "        vertical-align: top;\n",
              "    }\n",
              "\n",
              "    .dataframe thead th {\n",
              "        text-align: right;\n",
              "    }\n",
              "</style>\n",
              "<table border=\"1\" class=\"dataframe\">\n",
              "  <thead>\n",
              "    <tr style=\"text-align: right;\">\n",
              "      <th></th>\n",
              "      <th>a</th>\n",
              "      <th>b</th>\n",
              "      <th>c</th>\n",
              "      <th>d</th>\n",
              "      <th>e</th>\n",
              "    </tr>\n",
              "  </thead>\n",
              "  <tbody>\n",
              "    <tr>\n",
              "      <th>0</th>\n",
              "      <td>1</td>\n",
              "      <td>2</td>\n",
              "      <td>3</td>\n",
              "      <td>4</td>\n",
              "      <td>0</td>\n",
              "    </tr>\n",
              "    <tr>\n",
              "      <th>1</th>\n",
              "      <td>5</td>\n",
              "      <td>6</td>\n",
              "      <td>7</td>\n",
              "      <td>8</td>\n",
              "      <td>0</td>\n",
              "    </tr>\n",
              "    <tr>\n",
              "      <th>2</th>\n",
              "      <td>9</td>\n",
              "      <td>10</td>\n",
              "      <td>11</td>\n",
              "      <td>12</td>\n",
              "      <td>0</td>\n",
              "    </tr>\n",
              "  </tbody>\n",
              "</table>\n",
              "</div>"
            ],
            "text/plain": [
              "   a   b   c   d  e\n",
              "0  1   2   3   4  0\n",
              "1  5   6   7   8  0\n",
              "2  9  10  11  12  0"
            ]
          },
          "metadata": {
            "tags": []
          },
          "execution_count": 256
        }
      ]
    },
    {
      "cell_type": "code",
      "metadata": {
        "id": "dJ4kfwEcz9mr",
        "colab": {
          "base_uri": "https://localhost:8080/",
          "height": 108
        },
        "outputId": "ca24acbb-6e89-4114-b959-f5369b7fca19"
      },
      "source": [
        "a.loc[1:2,['a','b']]"
      ],
      "execution_count": 257,
      "outputs": [
        {
          "output_type": "execute_result",
          "data": {
            "text/html": [
              "<div>\n",
              "<style scoped>\n",
              "    .dataframe tbody tr th:only-of-type {\n",
              "        vertical-align: middle;\n",
              "    }\n",
              "\n",
              "    .dataframe tbody tr th {\n",
              "        vertical-align: top;\n",
              "    }\n",
              "\n",
              "    .dataframe thead th {\n",
              "        text-align: right;\n",
              "    }\n",
              "</style>\n",
              "<table border=\"1\" class=\"dataframe\">\n",
              "  <thead>\n",
              "    <tr style=\"text-align: right;\">\n",
              "      <th></th>\n",
              "      <th>a</th>\n",
              "      <th>b</th>\n",
              "    </tr>\n",
              "  </thead>\n",
              "  <tbody>\n",
              "    <tr>\n",
              "      <th>1</th>\n",
              "      <td>5</td>\n",
              "      <td>6</td>\n",
              "    </tr>\n",
              "    <tr>\n",
              "      <th>2</th>\n",
              "      <td>9</td>\n",
              "      <td>10</td>\n",
              "    </tr>\n",
              "  </tbody>\n",
              "</table>\n",
              "</div>"
            ],
            "text/plain": [
              "   a   b\n",
              "1  5   6\n",
              "2  9  10"
            ]
          },
          "metadata": {
            "tags": []
          },
          "execution_count": 257
        }
      ]
    },
    {
      "cell_type": "code",
      "metadata": {
        "id": "kv_qr5U70G1w",
        "colab": {
          "base_uri": "https://localhost:8080/"
        },
        "outputId": "b217310e-3972-4466-b272-e93b69a8639f"
      },
      "source": [
        "a.iloc[1,1]"
      ],
      "execution_count": 258,
      "outputs": [
        {
          "output_type": "execute_result",
          "data": {
            "text/plain": [
              "6"
            ]
          },
          "metadata": {
            "tags": []
          },
          "execution_count": 258
        }
      ]
    },
    {
      "cell_type": "code",
      "metadata": {
        "id": "B2ha-uon0Toq",
        "colab": {
          "base_uri": "https://localhost:8080/"
        },
        "outputId": "3f89bb7f-bbea-40d1-cc79-123c84e77eba"
      },
      "source": [
        "a['a'].value_counts()"
      ],
      "execution_count": 259,
      "outputs": [
        {
          "output_type": "execute_result",
          "data": {
            "text/plain": [
              "9    1\n",
              "5    1\n",
              "1    1\n",
              "Name: a, dtype: int64"
            ]
          },
          "metadata": {
            "tags": []
          },
          "execution_count": 259
        }
      ]
    },
    {
      "cell_type": "code",
      "metadata": {
        "id": "KN56Rlpu0Yju",
        "colab": {
          "base_uri": "https://localhost:8080/",
          "height": 199
        },
        "outputId": "f707059c-6d2f-4e50-d6bf-e1a78b842c53"
      },
      "source": [
        "a.T"
      ],
      "execution_count": 260,
      "outputs": [
        {
          "output_type": "execute_result",
          "data": {
            "text/html": [
              "<div>\n",
              "<style scoped>\n",
              "    .dataframe tbody tr th:only-of-type {\n",
              "        vertical-align: middle;\n",
              "    }\n",
              "\n",
              "    .dataframe tbody tr th {\n",
              "        vertical-align: top;\n",
              "    }\n",
              "\n",
              "    .dataframe thead th {\n",
              "        text-align: right;\n",
              "    }\n",
              "</style>\n",
              "<table border=\"1\" class=\"dataframe\">\n",
              "  <thead>\n",
              "    <tr style=\"text-align: right;\">\n",
              "      <th></th>\n",
              "      <th>0</th>\n",
              "      <th>1</th>\n",
              "      <th>2</th>\n",
              "    </tr>\n",
              "  </thead>\n",
              "  <tbody>\n",
              "    <tr>\n",
              "      <th>a</th>\n",
              "      <td>1</td>\n",
              "      <td>5</td>\n",
              "      <td>9</td>\n",
              "    </tr>\n",
              "    <tr>\n",
              "      <th>b</th>\n",
              "      <td>2</td>\n",
              "      <td>6</td>\n",
              "      <td>10</td>\n",
              "    </tr>\n",
              "    <tr>\n",
              "      <th>c</th>\n",
              "      <td>3</td>\n",
              "      <td>7</td>\n",
              "      <td>11</td>\n",
              "    </tr>\n",
              "    <tr>\n",
              "      <th>d</th>\n",
              "      <td>4</td>\n",
              "      <td>8</td>\n",
              "      <td>12</td>\n",
              "    </tr>\n",
              "    <tr>\n",
              "      <th>e</th>\n",
              "      <td>0</td>\n",
              "      <td>0</td>\n",
              "      <td>0</td>\n",
              "    </tr>\n",
              "  </tbody>\n",
              "</table>\n",
              "</div>"
            ],
            "text/plain": [
              "   0  1   2\n",
              "a  1  5   9\n",
              "b  2  6  10\n",
              "c  3  7  11\n",
              "d  4  8  12\n",
              "e  0  0   0"
            ]
          },
          "metadata": {
            "tags": []
          },
          "execution_count": 260
        }
      ]
    }
  ]
}