{
 "cells": [
  {
   "cell_type": "code",
   "execution_count": 49,
   "metadata": {},
   "outputs": [
    {
     "data": {
      "text/plain": [
       "{97: 'a', 98: 'b'}"
      ]
     },
     "execution_count": 49,
     "metadata": {},
     "output_type": "execute_result"
    }
   ],
   "source": [
    "from typing import List, Set, Tuple, Dict, Union, Optional, Callable, cast, Any \n",
    "l: List[int] = [2,4,6]\n",
    "s: Set[int] = {3, 4, 5, 9}\n",
    "t: Tuple[str, float, int] = (\"yesdeepakmittal\",2.89,99)\n",
    "d: Dict[int, str] = {ord('a'):'a', ord(\"b\"):'b'}\n",
    "d"
   ]
  },
  {
   "cell_type": "code",
   "execution_count": 40,
   "metadata": {},
   "outputs": [
    {
     "data": {
      "text/plain": [
       "{1.23, 3.33, 111}"
      ]
     },
     "execution_count": 40,
     "metadata": {},
     "output_type": "execute_result"
    }
   ],
   "source": [
    "s: Set[Union[float,int]] = {3.33, 111, 1.23}\n",
    "s"
   ]
  },
  {
   "cell_type": "code",
   "execution_count": 41,
   "metadata": {},
   "outputs": [
    {
     "data": {
      "text/plain": [
       "{3, 4, 5, 9}"
      ]
     },
     "execution_count": 41,
     "metadata": {},
     "output_type": "execute_result"
    }
   ],
   "source": [
    "# No need to import any stuff here for Python > 3.9\n",
    "l: list[int] = [2,4,6]\n",
    "s: set[int] = {3, 4, 5, 9}\n",
    "t: tuple[str, float, int] = (\"yesdeepakmittal\",2.89,99)\n",
    "d: dict[int, str] = {ord('a'):'a', ord(\"b\"):'b'}\n",
    "s"
   ]
  },
  {
   "cell_type": "code",
   "execution_count": 42,
   "metadata": {},
   "outputs": [
    {
     "data": {
      "text/plain": [
       "'Branch Name is Meerut'"
      ]
     },
     "execution_count": 42,
     "metadata": {},
     "output_type": "execute_result"
    }
   ],
   "source": [
    "def fn(branch: Union[str,None] = None) -> str:\n",
    "    return f\"Branch Name is {branch if branch else 'NOT MENTIONED'}\"\n",
    "\n",
    "fn('Meerut')"
   ]
  },
  {
   "cell_type": "code",
   "execution_count": 43,
   "metadata": {},
   "outputs": [
    {
     "data": {
      "text/plain": [
       "'Branch Name is NOT MENTIONED'"
      ]
     },
     "execution_count": 43,
     "metadata": {},
     "output_type": "execute_result"
    }
   ],
   "source": [
    "fn()"
   ]
  },
  {
   "cell_type": "code",
   "execution_count": 44,
   "metadata": {},
   "outputs": [
    {
     "data": {
      "text/plain": [
       "'Branch Name is Meerut'"
      ]
     },
     "execution_count": 44,
     "metadata": {},
     "output_type": "execute_result"
    }
   ],
   "source": [
    "def fn_extn(branch: Optional[str] = None) -> str:\n",
    "    return f\"Branch Name is {branch if branch else 'NOT MENTIONED'}\"\n",
    "\n",
    "fn_extn('Meerut')"
   ]
  },
  {
   "cell_type": "code",
   "execution_count": 45,
   "metadata": {},
   "outputs": [
    {
     "data": {
      "text/plain": [
       "'Branch Name is NOT MENTIONED'"
      ]
     },
     "execution_count": 45,
     "metadata": {},
     "output_type": "execute_result"
    }
   ],
   "source": [
    "fn_extn()"
   ]
  },
  {
   "cell_type": "code",
   "execution_count": 46,
   "metadata": {},
   "outputs": [
    {
     "data": {
      "text/plain": [
       "[2, 8, 9]"
      ]
     },
     "execution_count": 46,
     "metadata": {},
     "output_type": "execute_result"
    }
   ],
   "source": [
    "RandomGenericType = List[int]\n",
    "var: RandomGenericType = [2,8,9]\n",
    "var"
   ]
  },
  {
   "cell_type": "code",
   "execution_count": 47,
   "metadata": {},
   "outputs": [
    {
     "data": {
      "text/plain": [
       "('Deepak Mittal', 121)"
      ]
     },
     "execution_count": 47,
     "metadata": {},
     "output_type": "execute_result"
    }
   ],
   "source": [
    "RandomGenericType = Tuple[str,int]\n",
    "var: RandomGenericType = ('Deepak Mittal', 121)\n",
    "var"
   ]
  },
  {
   "cell_type": "code",
   "execution_count": 51,
   "metadata": {},
   "outputs": [
    {
     "data": {
      "text/plain": [
       "[True, False]"
      ]
     },
     "execution_count": 51,
     "metadata": {},
     "output_type": "execute_result"
    }
   ],
   "source": [
    "Function_Ki_Condition = Callable[[float,float], bool]\n",
    "\n",
    "def random_fn(a: float, b: float) -> bool:\n",
    "    return a == b\n",
    "\n",
    "\n",
    "def test(l: List[Tuple[float,float]], calling_fn: Function_Ki_Condition) -> List[bool]:\n",
    "    return [calling_fn(t[0],t[1]) for t in l]\n",
    "\n",
    "l = [(1.1,1.1),(1.2,1.5)]\n",
    "\n",
    "test(l,random_fn)"
   ]
  },
  {
   "cell_type": "code",
   "execution_count": 53,
   "metadata": {},
   "outputs": [
    {
     "name": "stdout",
     "output_type": "stream",
     "text": [
      "send data of any type\n",
      "109\n",
      "20\n"
     ]
    }
   ],
   "source": [
    "def my_function(var: Any) -> Any:\n",
    "    return var \n",
    "\n",
    "print(my_function('send data of any type'))\n",
    "print(my_function(99 + 10))\n",
    "print(my_function(4 * 5))"
   ]
  },
  {
   "cell_type": "code",
   "execution_count": 56,
   "metadata": {},
   "outputs": [
    {
     "data": {
      "text/plain": [
       "4"
      ]
     },
     "execution_count": 56,
     "metadata": {},
     "output_type": "execute_result"
    }
   ],
   "source": [
    "# forcefully casting the datatype of function args\n",
    "cast(int, my_function(4))"
   ]
  },
  {
   "cell_type": "code",
   "execution_count": 61,
   "metadata": {},
   "outputs": [
    {
     "name": "stdout",
     "output_type": "stream",
     "text": [
      "\u001b[1m\u001b[92mSuccess: no issues found in 1 source file\u001b[0m\n"
     ]
    }
   ],
   "source": [
    "!mypy test7.py    "
   ]
  },
  {
   "attachments": {},
   "cell_type": "markdown",
   "metadata": {},
   "source": [
    "cast is not working"
   ]
  }
 ],
 "metadata": {
  "kernelspec": {
   "display_name": "Python 3",
   "language": "python",
   "name": "python3"
  },
  "language_info": {
   "codemirror_mode": {
    "name": "ipython",
    "version": 3
   },
   "file_extension": ".py",
   "mimetype": "text/x-python",
   "name": "python",
   "nbconvert_exporter": "python",
   "pygments_lexer": "ipython3",
   "version": "3.11.1"
  },
  "orig_nbformat": 4,
  "vscode": {
   "interpreter": {
    "hash": "dbfb93579cd233f61bf7b1160072e941f3a008209323d76924e71308a0086e35"
   }
  }
 },
 "nbformat": 4,
 "nbformat_minor": 2
}
