{
 "cells": [
  {
   "cell_type": "code",
   "execution_count": 5,
   "metadata": {},
   "outputs": [
    {
     "name": "stdout",
     "output_type": "stream",
     "text": [
      "<Process name='Process-14' parent=21100 initial>\n",
      "<Process name='Process-14' pid=15564 parent=21100 started>\n",
      "\n",
      "<Process name='Process-15' parent=21100 initial>\n",
      "<Process name='Process-15' pid=21092 parent=21100 started>\n",
      "\n",
      "<Process name='Process-16' parent=21100 initial>\n",
      "<Process name='Process-16' pid=14896 parent=21100 started>\n",
      "\n",
      "<Process name='Process-14' pid=15564 parent=21100 stopped exitcode=1>\n",
      "<Process name='Process-15' pid=21092 parent=21100 stopped exitcode=1>\n",
      "<Process name='Process-16' pid=14896 parent=21100 stopped exitcode=1>\n"
     ]
    }
   ],
   "source": [
    "from multiprocessing import Process\n",
    "\n",
    "def name(name):\n",
    "    print('My name is',name)\n",
    "\n",
    "names = list('abc')\n",
    "processes = []\n",
    "for name in names:\n",
    "    process = Process(target=name,args=(name,))\n",
    "    processes.append(process)\n",
    "    print(process)\n",
    "    process.start()\n",
    "    print(process)\n",
    "    print()\n",
    "    \n",
    "for process in processes:\n",
    "    process.join()  #waiting for process to complete and join\n",
    "    print(process)\n",
    "\n"
   ]
  }
 ],
 "metadata": {
  "interpreter": {
   "hash": "108ef16d1ee03905dfbafe44d5b3e610a1f1579a68c7f1fd06ea7e2b83fc5f3b"
  },
  "kernelspec": {
   "display_name": "Python 3.9.6 64-bit",
   "language": "python",
   "name": "python3"
  },
  "language_info": {
   "codemirror_mode": {
    "name": "ipython",
    "version": 3
   },
   "file_extension": ".py",
   "mimetype": "text/x-python",
   "name": "python",
   "nbconvert_exporter": "python",
   "pygments_lexer": "ipython3",
   "version": "3.9.6"
  },
  "orig_nbformat": 4
 },
 "nbformat": 4,
 "nbformat_minor": 2
}
