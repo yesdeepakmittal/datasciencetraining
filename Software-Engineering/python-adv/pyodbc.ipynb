{
 "cells": [
  {
   "cell_type": "code",
   "execution_count": null,
   "metadata": {},
   "outputs": [],
   "source": [
    "import pyodbc \n",
    "# Some other example server values are\n",
    "# server = 'localhost\\sqlexpress' # for a named instance\n",
    "# server = 'myserver,port' # to specify an alternate port\n",
    "server = '000.000.000.000'\n",
    "database = 'database_name' \n",
    "username = '' \n",
    "password = '' \n",
    "cnxn = pyodbc.connect('DRIVER={ODBC Driver 17 for SQL Server};SERVER='+server+';DATABASE='+database+';UID='+username+';PWD='+ password)\n",
    "cursor = cnxn.cursor()\n",
    "\n",
    "# for i in cursor.execute(\"SELECT * FROM Table_Name\"): print(i)\n",
    "\n",
    "\n",
    "for i in range(1,100):\n",
    "    cursor.execute(\"INSERT INTO SERIAL_NUM(COUNT) VALUES(\\'\" + str(i) + '\\');')\n",
    "    cursor.commit()\n",
    "\n",
    "\n",
    "# print(cursor.execute('select * from SERIAL_NUM').fetchall())\n",
    "cnxn.close()"
   ]
  },
  {
   "cell_type": "markdown",
   "metadata": {},
   "source": [
    "### Converting Number to Words\n",
    "\n",
    "- Mysql odbc driver for version 8.0 -> https://dev.mysql.com/downloads/connector/odbc/ "
   ]
  },
  {
   "cell_type": "code",
   "execution_count": 24,
   "metadata": {},
   "outputs": [
    {
     "name": "stdout",
     "output_type": "stream",
     "text": [
      "('1001', 'book', 10, 400, 5)\n",
      "four hundred\n",
      "('1001', 'book', 10, 400, 5)\n",
      "four hundred\n",
      "('1111', 'KUCH BHI', 50, 49, 5)\n",
      "forty-nine\n"
     ]
    }
   ],
   "source": [
    "from num2words import num2words\n",
    "import pyodbc \n",
    "\n",
    "server = 'localhost'\n",
    "database = 'test' \n",
    "username = 'root' \n",
    "password = 'root' \n",
    "cnxn = pyodbc.connect('DRIVER={MySQL ODBC 8.0 ANSI Driver};SERVER='+server+';DATABASE='+database+';UID='+username+';PWD='+ password)\n",
    "cursor = cnxn.cursor()\n",
    "\n",
    "for i in cursor.execute(\"SELECT * FROM product\"): \n",
    "    print(i)\n",
    "    print(num2words(i[3]))\n",
    "    \n",
    "cnxn.close()"
   ]
  },
  {
   "cell_type": "code",
   "execution_count": 23,
   "metadata": {},
   "outputs": [
    {
     "name": "stdout",
     "output_type": "stream",
     "text": [
      "3.3 three Rupees and three Paise\n",
      "3.0 three Rupees\n"
     ]
    }
   ],
   "source": [
    "def number_to_words(num):\n",
    "    ans = num2words(num)\n",
    "    try:\n",
    "        idx = ans.index('point')\n",
    "    except ValueError:\n",
    "        idx = 0\n",
    "    if idx:\n",
    "        ans = ans[:idx] + 'Rupees ' + ans[idx:]\n",
    "        ans = ans.replace('point','and')\n",
    "        ans += ' Paise'\n",
    "    else:\n",
    "        ans += ' Rupees'\n",
    "    return ans\n",
    "\n",
    "num = 3.3\n",
    "print(num,number_to_words(num))\n",
    "\n",
    "num = 3.0\n",
    "print(num,number_to_words(num))"
   ]
  },
  {
   "cell_type": "code",
   "execution_count": 26,
   "metadata": {},
   "outputs": [
    {
     "data": {
      "text/plain": [
       "'two hundred and thirty-two million, four hundred and thirty-two thousand, four hundred and twenty-three Rupees and three four three Paise'"
      ]
     },
     "execution_count": 26,
     "metadata": {},
     "output_type": "execute_result"
    }
   ],
   "source": [
    "number_to_words(232432423.343)"
   ]
  },
  {
   "cell_type": "code",
   "execution_count": null,
   "metadata": {},
   "outputs": [],
   "source": []
  }
 ],
 "metadata": {
  "kernelspec": {
   "display_name": "Python 3",
   "language": "python",
   "name": "python3"
  },
  "language_info": {
   "codemirror_mode": {
    "name": "ipython",
    "version": 3
   },
   "file_extension": ".py",
   "mimetype": "text/x-python",
   "name": "python",
   "nbconvert_exporter": "python",
   "pygments_lexer": "ipython3",
   "version": "3.11.1 (tags/v3.11.1:a7a450f, Dec  6 2022, 19:58:39) [MSC v.1934 64 bit (AMD64)]"
  },
  "orig_nbformat": 4,
  "vscode": {
   "interpreter": {
    "hash": "dbfb93579cd233f61bf7b1160072e941f3a008209323d76924e71308a0086e35"
   }
  }
 },
 "nbformat": 4,
 "nbformat_minor": 2
}
