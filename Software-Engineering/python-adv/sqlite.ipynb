{
 "cells": [
  {
   "cell_type": "code",
   "execution_count": null,
   "metadata": {},
   "outputs": [],
   "source": [
    "## Procedure\n",
    "\n",
    "import sqlite3\n",
    "con = sqlite3.connect('ass6aug.db')\n",
    "cur = con.cursor()\n",
    "\n",
    "# for i in cur.execute(\"Select * from salesman;\"):\n",
    "#     print(i)\n",
    "\n",
    "cur.execute(\"\"\"CREATE PROCEDURE top3 AS\n",
    "BEGIN\n",
    "SELECT * FROM salesman LIMIT 3\n",
    "END;\"\"\")\n",
    "\n",
    "\n",
    "con.commit()\n",
    "con.close()"
   ]
  },
  {
   "cell_type": "code",
   "execution_count": null,
   "metadata": {},
   "outputs": [],
   "source": [
    "# View\n",
    "\n",
    "import sqlite3\n",
    "con = sqlite3.connect('ass6aug.db')\n",
    "cur = con.cursor()\n",
    "\n",
    "# for i in cur.execute(\"Select * from salesman;\"):\n",
    "#     print(i)\n",
    "\n",
    "#-------------VIEW-------------#\n",
    "# cur.execute(\"DROP VIEW xyzVIEW;\")\n",
    "# cur.execute(\"CREATE VIEW xyzVIEW AS SELECT salesman_id,commission from salesman;\")\n",
    "\n",
    "# for i in cur.execute(\"SELECT * FROM xyzVIEW;\"):\n",
    "#     print(i)\n",
    "\n",
    "#------------------INDEX-----------#\n",
    "cur.execute('CREATE NONCLUSTER INDEX xyzINDEX ON salesman(name);')\n",
    "for i in cur.execute('SELECT * FROM salesman;'):\n",
    "    print(i)\n",
    "\n",
    "con.commit()\n",
    "con.close()"
   ]
  }
 ],
 "metadata": {
  "language_info": {
   "name": "python"
  },
  "orig_nbformat": 4
 },
 "nbformat": 4,
 "nbformat_minor": 2
}
