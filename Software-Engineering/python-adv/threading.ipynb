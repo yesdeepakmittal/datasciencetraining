{
 "cells": [
  {
   "cell_type": "code",
   "execution_count": 6,
   "metadata": {},
   "outputs": [
    {
     "name": "stdout",
     "output_type": "stream",
     "text": [
      "My name is Elon\n",
      "My name is Musk\n"
     ]
    }
   ],
   "source": [
    "from threading import Thread\n",
    "\n",
    "def name(name):\n",
    "    print('My name is',name)\n",
    "\n",
    "t1 = Thread(target=name,args=('Elon',))\n",
    "t2 = Thread(target=name,args=('Musk',))\n",
    "\n",
    "t1.start()\n",
    "t2.start()\n",
    "\n",
    "t1.join() \n",
    "t2.join()"
   ]
  }
 ],
 "metadata": {
  "interpreter": {
   "hash": "108ef16d1ee03905dfbafe44d5b3e610a1f1579a68c7f1fd06ea7e2b83fc5f3b"
  },
  "kernelspec": {
   "display_name": "Python 3.9.6 64-bit",
   "language": "python",
   "name": "python3"
  },
  "language_info": {
   "codemirror_mode": {
    "name": "ipython",
    "version": 3
   },
   "file_extension": ".py",
   "mimetype": "text/x-python",
   "name": "python",
   "nbconvert_exporter": "python",
   "pygments_lexer": "ipython3",
   "version": "3.9.6"
  },
  "orig_nbformat": 4
 },
 "nbformat": 4,
 "nbformat_minor": 2
}
